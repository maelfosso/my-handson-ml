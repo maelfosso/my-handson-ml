{
 "cells": [
  {
   "cell_type": "markdown",
   "id": "74c32e36-05aa-48ad-98b5-27f51f1ae309",
   "metadata": {},
   "source": [
    "## The perceptron"
   ]
  },
  {
   "cell_type": "code",
   "execution_count": 1,
   "id": "9405a37c-02d2-4bed-9fae-f13c6e70c236",
   "metadata": {},
   "outputs": [
    {
     "data": {
      "text/plain": [
       "array([ True, False])"
      ]
     },
     "execution_count": 1,
     "metadata": {},
     "output_type": "execute_result"
    }
   ],
   "source": [
    "import numpy as np\n",
    "from sklearn.datasets import load_iris\n",
    "from sklearn.linear_model import Perceptron\n",
    "\n",
    "iris = load_iris(as_frame=True)\n",
    "X = iris.data[[\"petal length (cm)\", \"petal width (cm)\"]].values\n",
    "y = (iris.target == 0)\n",
    "\n",
    "per_clf = Perceptron(random_state=42)\n",
    "per_clf.fit(X, y)\n",
    "\n",
    "X_new = [[2, 0.5], [3, 1]]\n",
    "y_pred = per_clf.predict(X_new)\n",
    "y_pred"
   ]
  },
  {
   "cell_type": "markdown",
   "id": "d0d832dd-d030-455a-b1df-0f9b38034e8f",
   "metadata": {},
   "source": [
    "## Regression MLPs"
   ]
  },
  {
   "cell_type": "code",
   "execution_count": 2,
   "id": "70350f73-2e17-44b7-b573-c4c5f4e321f6",
   "metadata": {},
   "outputs": [],
   "source": [
    "from sklearn.datasets import fetch_california_housing\n",
    "from sklearn.metrics import mean_squared_error\n",
    "from sklearn.model_selection import train_test_split\n",
    "from sklearn.neural_network import MLPRegressor\n",
    "from sklearn.pipeline import make_pipeline\n",
    "from sklearn.preprocessing import StandardScaler\n",
    "\n",
    "housing = fetch_california_housing()\n",
    "\n",
    "X_train_full, X_test, y_train_full, y_test = train_test_split(\n",
    "    housing.data, housing.target, random_state=42\n",
    ")\n",
    "X_train, X_valid, y_train, y_valid = train_test_split(\n",
    "    X_train_full, y_train_full, random_state=42\n",
    ")\n",
    "\n",
    "mlp_reg = MLPRegressor(hidden_layer_sizes=[50, 50, 50], random_state=42)\n",
    "pipeline = make_pipeline(StandardScaler(), mlp_reg)\n",
    "pipeline.fit(X_train, y_train)\n",
    "y_pred = pipeline.predict(X_valid)\n",
    "rmse = mean_squared_error(y_valid, y_pred, squared=False)"
   ]
  },
  {
   "cell_type": "code",
   "execution_count": 3,
   "id": "0433eb38-34d5-4227-845c-49cc05bf749d",
   "metadata": {},
   "outputs": [
    {
     "data": {
      "text/plain": [
       "0.5053326657968193"
      ]
     },
     "execution_count": 3,
     "metadata": {},
     "output_type": "execute_result"
    }
   ],
   "source": [
    "rmse"
   ]
  },
  {
   "cell_type": "markdown",
   "id": "765c0a10-9a88-43a9-8ca5-6338e77b9f51",
   "metadata": {},
   "source": [
    "## Building an Image Classifier Using the Sequential API"
   ]
  },
  {
   "cell_type": "markdown",
   "id": "431850b4-e931-45f4-8d3a-b922e0ab6935",
   "metadata": {},
   "source": [
    "### Using Keras to load the dataset"
   ]
  },
  {
   "cell_type": "code",
   "execution_count": 4,
   "id": "9e353ecc-be6f-49bc-bb04-0d3d7c3b8ad8",
   "metadata": {},
   "outputs": [
    {
     "name": "stderr",
     "output_type": "stream",
     "text": [
      "2023-05-01 10:41:38.742996: I tensorflow/core/platform/cpu_feature_guard.cc:193] This TensorFlow binary is optimized with oneAPI Deep Neural Network Library (oneDNN) to use the following CPU instructions in performance-critical operations:  AVX2 FMA\n",
      "To enable them in other operations, rebuild TensorFlow with the appropriate compiler flags.\n"
     ]
    }
   ],
   "source": [
    "import tensorflow as tf\n",
    "\n",
    "fashion_mnist = tf.keras.datasets.fashion_mnist.load_data()\n",
    "(X_train_full, y_train_full), (X_test, y_test) = fashion_mnist\n",
    "X_train, y_train = X_train_full[:-5000], y_train_full[:-5000]\n",
    "X_valid, y_valid = X_train_full[-5000:], y_train_full[-5000:]"
   ]
  },
  {
   "cell_type": "code",
   "execution_count": 5,
   "id": "6b2ed21b-a39d-4adc-afd6-be467e697fda",
   "metadata": {
    "scrolled": true,
    "tags": []
   },
   "outputs": [
    {
     "data": {
      "text/plain": [
       "((55000, 28, 28), dtype('uint8'))"
      ]
     },
     "execution_count": 5,
     "metadata": {},
     "output_type": "execute_result"
    }
   ],
   "source": [
    "X_train.shape, X_train.dtype"
   ]
  },
  {
   "cell_type": "code",
   "execution_count": 6,
   "id": "6bd43c56-345a-4004-8941-6979748356d2",
   "metadata": {
    "scrolled": true,
    "tags": []
   },
   "outputs": [],
   "source": [
    "X_train, X_valid, X_test = X_train/255, X_valid/255, X_test/255"
   ]
  },
  {
   "cell_type": "code",
   "execution_count": 7,
   "id": "e49a9cc0-f460-4faa-a8b9-b1b3b6e264af",
   "metadata": {},
   "outputs": [],
   "source": [
    "class_names = [\"T-shirt/top\", \"Trouser\", \"Pullover\", \"Dress\", \"Coat\",\n",
    "               \"Sandal\", \"Shirt\", \"Sneaker\", \"Bag\", \"Ankle boot\"]"
   ]
  },
  {
   "cell_type": "code",
   "execution_count": 8,
   "id": "104de381-18f4-41b9-9bf1-4187cc722d9d",
   "metadata": {},
   "outputs": [
    {
     "data": {
      "text/plain": [
       "'Ankle boot'"
      ]
     },
     "execution_count": 8,
     "metadata": {},
     "output_type": "execute_result"
    }
   ],
   "source": [
    "class_names[y_train[0]]"
   ]
  },
  {
   "cell_type": "markdown",
   "id": "f0871e5f-4ad3-427f-9528-1cd7da3d14e5",
   "metadata": {},
   "source": [
    "### Creating the model using the sequential API"
   ]
  },
  {
   "cell_type": "code",
   "execution_count": 9,
   "id": "a76af0b1-62ab-4557-99ba-e188167ca572",
   "metadata": {},
   "outputs": [
    {
     "name": "stderr",
     "output_type": "stream",
     "text": [
      "2023-05-01 10:41:47.643044: I tensorflow/core/platform/cpu_feature_guard.cc:193] This TensorFlow binary is optimized with oneAPI Deep Neural Network Library (oneDNN) to use the following CPU instructions in performance-critical operations:  AVX2 FMA\n",
      "To enable them in other operations, rebuild TensorFlow with the appropriate compiler flags.\n"
     ]
    }
   ],
   "source": [
    "tf.keras.backend.clear_session()\n",
    "tf.random.set_seed(42)\n",
    "\n",
    "model = tf.keras.Sequential()\n",
    "model.add(tf.keras.layers.Input(shape=[28, 28]))\n",
    "model.add(tf.keras.layers.Flatten())\n",
    "model.add(tf.keras.layers.Dense(300, activation=\"relu\"))\n",
    "model.add(tf.keras.layers.Dense(100, activation=\"relu\"))\n",
    "model.add(tf.keras.layers.Dense(10, activation=\"softmax\"))"
   ]
  },
  {
   "cell_type": "code",
   "execution_count": 10,
   "id": "afdae012-36eb-435e-8578-0890dc98c5f3",
   "metadata": {},
   "outputs": [
    {
     "name": "stdout",
     "output_type": "stream",
     "text": [
      "Model: \"sequential\"\n",
      "_________________________________________________________________\n",
      " Layer (type)                Output Shape              Param #   \n",
      "=================================================================\n",
      " flatten (Flatten)           (None, 784)               0         \n",
      "                                                                 \n",
      " dense (Dense)               (None, 300)               235500    \n",
      "                                                                 \n",
      " dense_1 (Dense)             (None, 100)               30100     \n",
      "                                                                 \n",
      " dense_2 (Dense)             (None, 10)                1010      \n",
      "                                                                 \n",
      "=================================================================\n",
      "Total params: 266,610\n",
      "Trainable params: 266,610\n",
      "Non-trainable params: 0\n",
      "_________________________________________________________________\n"
     ]
    }
   ],
   "source": [
    "model.summary()"
   ]
  },
  {
   "cell_type": "code",
   "execution_count": 11,
   "id": "5a483498-50af-4938-b4ac-cb57685179e5",
   "metadata": {},
   "outputs": [
    {
     "data": {
      "text/plain": [
       "'dense'"
      ]
     },
     "execution_count": 11,
     "metadata": {},
     "output_type": "execute_result"
    }
   ],
   "source": [
    "hidden1 = model.get_layer(\"dense\")\n",
    "hidden1.name"
   ]
  },
  {
   "cell_type": "code",
   "execution_count": 12,
   "id": "fe516030-badb-4330-8c44-e5659287ec4b",
   "metadata": {
    "scrolled": true,
    "tags": []
   },
   "outputs": [
    {
     "data": {
      "text/plain": [
       "(array([[ 0.06157993,  0.03114682, -0.05446967, ...,  0.00643999,\n",
       "         -0.06393588,  0.03535878],\n",
       "        [ 0.02293637, -0.07352413, -0.06413954, ..., -0.07322049,\n",
       "         -0.02953046,  0.04377167],\n",
       "        [ 0.0438589 , -0.01840214,  0.06612615, ...,  0.02857341,\n",
       "         -0.04676044, -0.01149543],\n",
       "        ...,\n",
       "        [-0.05169893,  0.01851638,  0.03459327, ...,  0.06555972,\n",
       "         -0.00465033,  0.06841421],\n",
       "        [ 0.00319178, -0.01195145,  0.03829769, ...,  0.05107613,\n",
       "          0.01017376, -0.07392061],\n",
       "        [-0.00684069, -0.02259881, -0.03332987, ...,  0.00429263,\n",
       "         -0.06735121,  0.0316902 ]], dtype=float32),\n",
       " array([0., 0., 0., 0., 0., 0., 0., 0., 0., 0., 0., 0., 0., 0., 0., 0., 0.,\n",
       "        0., 0., 0., 0., 0., 0., 0., 0., 0., 0., 0., 0., 0., 0., 0., 0., 0.,\n",
       "        0., 0., 0., 0., 0., 0., 0., 0., 0., 0., 0., 0., 0., 0., 0., 0., 0.,\n",
       "        0., 0., 0., 0., 0., 0., 0., 0., 0., 0., 0., 0., 0., 0., 0., 0., 0.,\n",
       "        0., 0., 0., 0., 0., 0., 0., 0., 0., 0., 0., 0., 0., 0., 0., 0., 0.,\n",
       "        0., 0., 0., 0., 0., 0., 0., 0., 0., 0., 0., 0., 0., 0., 0., 0., 0.,\n",
       "        0., 0., 0., 0., 0., 0., 0., 0., 0., 0., 0., 0., 0., 0., 0., 0., 0.,\n",
       "        0., 0., 0., 0., 0., 0., 0., 0., 0., 0., 0., 0., 0., 0., 0., 0., 0.,\n",
       "        0., 0., 0., 0., 0., 0., 0., 0., 0., 0., 0., 0., 0., 0., 0., 0., 0.,\n",
       "        0., 0., 0., 0., 0., 0., 0., 0., 0., 0., 0., 0., 0., 0., 0., 0., 0.,\n",
       "        0., 0., 0., 0., 0., 0., 0., 0., 0., 0., 0., 0., 0., 0., 0., 0., 0.,\n",
       "        0., 0., 0., 0., 0., 0., 0., 0., 0., 0., 0., 0., 0., 0., 0., 0., 0.,\n",
       "        0., 0., 0., 0., 0., 0., 0., 0., 0., 0., 0., 0., 0., 0., 0., 0., 0.,\n",
       "        0., 0., 0., 0., 0., 0., 0., 0., 0., 0., 0., 0., 0., 0., 0., 0., 0.,\n",
       "        0., 0., 0., 0., 0., 0., 0., 0., 0., 0., 0., 0., 0., 0., 0., 0., 0.,\n",
       "        0., 0., 0., 0., 0., 0., 0., 0., 0., 0., 0., 0., 0., 0., 0., 0., 0.,\n",
       "        0., 0., 0., 0., 0., 0., 0., 0., 0., 0., 0., 0., 0., 0., 0., 0., 0.,\n",
       "        0., 0., 0., 0., 0., 0., 0., 0., 0., 0., 0.], dtype=float32))"
      ]
     },
     "execution_count": 12,
     "metadata": {},
     "output_type": "execute_result"
    }
   ],
   "source": [
    "weights, bias = hidden1.get_weights()\n",
    "weights, bias"
   ]
  },
  {
   "cell_type": "code",
   "execution_count": 13,
   "id": "9afeb2fc-5dcb-421d-8f03-eef031822a31",
   "metadata": {},
   "outputs": [
    {
     "data": {
      "text/plain": [
       "(784, 300)"
      ]
     },
     "execution_count": 13,
     "metadata": {},
     "output_type": "execute_result"
    }
   ],
   "source": [
    "weights.shape"
   ]
  },
  {
   "cell_type": "code",
   "execution_count": 14,
   "id": "4dab9e60-8c4a-4a5b-bdf7-95a29e6f35e4",
   "metadata": {},
   "outputs": [
    {
     "data": {
      "text/plain": [
       "array([0., 0., 0., 0., 0., 0., 0., 0., 0., 0., 0., 0., 0., 0., 0., 0., 0.,\n",
       "       0., 0., 0., 0., 0., 0., 0., 0., 0., 0., 0., 0., 0., 0., 0., 0., 0.,\n",
       "       0., 0., 0., 0., 0., 0., 0., 0., 0., 0., 0., 0., 0., 0., 0., 0., 0.,\n",
       "       0., 0., 0., 0., 0., 0., 0., 0., 0., 0., 0., 0., 0., 0., 0., 0., 0.,\n",
       "       0., 0., 0., 0., 0., 0., 0., 0., 0., 0., 0., 0., 0., 0., 0., 0., 0.,\n",
       "       0., 0., 0., 0., 0., 0., 0., 0., 0., 0., 0., 0., 0., 0., 0., 0., 0.,\n",
       "       0., 0., 0., 0., 0., 0., 0., 0., 0., 0., 0., 0., 0., 0., 0., 0., 0.,\n",
       "       0., 0., 0., 0., 0., 0., 0., 0., 0., 0., 0., 0., 0., 0., 0., 0., 0.,\n",
       "       0., 0., 0., 0., 0., 0., 0., 0., 0., 0., 0., 0., 0., 0., 0., 0., 0.,\n",
       "       0., 0., 0., 0., 0., 0., 0., 0., 0., 0., 0., 0., 0., 0., 0., 0., 0.,\n",
       "       0., 0., 0., 0., 0., 0., 0., 0., 0., 0., 0., 0., 0., 0., 0., 0., 0.,\n",
       "       0., 0., 0., 0., 0., 0., 0., 0., 0., 0., 0., 0., 0., 0., 0., 0., 0.,\n",
       "       0., 0., 0., 0., 0., 0., 0., 0., 0., 0., 0., 0., 0., 0., 0., 0., 0.,\n",
       "       0., 0., 0., 0., 0., 0., 0., 0., 0., 0., 0., 0., 0., 0., 0., 0., 0.,\n",
       "       0., 0., 0., 0., 0., 0., 0., 0., 0., 0., 0., 0., 0., 0., 0., 0., 0.,\n",
       "       0., 0., 0., 0., 0., 0., 0., 0., 0., 0., 0., 0., 0., 0., 0., 0., 0.,\n",
       "       0., 0., 0., 0., 0., 0., 0., 0., 0., 0., 0., 0., 0., 0., 0., 0., 0.,\n",
       "       0., 0., 0., 0., 0., 0., 0., 0., 0., 0., 0.], dtype=float32)"
      ]
     },
     "execution_count": 14,
     "metadata": {},
     "output_type": "execute_result"
    }
   ],
   "source": [
    "bias"
   ]
  },
  {
   "cell_type": "code",
   "execution_count": 15,
   "id": "883c3d04-e978-41cd-8b40-afc72de88277",
   "metadata": {},
   "outputs": [
    {
     "data": {
      "text/plain": [
       "(300,)"
      ]
     },
     "execution_count": 15,
     "metadata": {},
     "output_type": "execute_result"
    }
   ],
   "source": [
    "bias.shape"
   ]
  },
  {
   "cell_type": "markdown",
   "id": "e56e79c9-b81b-4177-866e-0fbde2b036e4",
   "metadata": {},
   "source": [
    "### compiling the model"
   ]
  },
  {
   "cell_type": "code",
   "execution_count": 16,
   "id": "0274d67e-5a8b-4732-83f9-cdbd9518e1bd",
   "metadata": {},
   "outputs": [],
   "source": [
    "model.compile(\n",
    "    loss=tf.keras.losses.sparse_categorical_crossentropy,\n",
    "    optimizer=tf.keras.optimizers.SGD(learning_rate=0.0001),\n",
    "    metrics=[tf.keras.metrics.sparse_categorical_accuracy]\n",
    ")"
   ]
  },
  {
   "cell_type": "code",
   "execution_count": 17,
   "id": "1b6643af-2af8-4846-a1f2-dd1d64995e44",
   "metadata": {
    "scrolled": true,
    "tags": []
   },
   "outputs": [
    {
     "name": "stdout",
     "output_type": "stream",
     "text": [
      "Epoch 1/30\n",
      "1719/1719 [==============================] - 4s 2ms/step - loss: 2.2080 - sparse_categorical_accuracy: 0.1837 - val_loss: 2.0325 - val_sparse_categorical_accuracy: 0.3324\n",
      "Epoch 2/30\n",
      "1719/1719 [==============================] - 4s 2ms/step - loss: 1.9266 - sparse_categorical_accuracy: 0.4080 - val_loss: 1.8047 - val_sparse_categorical_accuracy: 0.5046\n",
      "Epoch 3/30\n",
      "1719/1719 [==============================] - 4s 3ms/step - loss: 1.7274 - sparse_categorical_accuracy: 0.5430 - val_loss: 1.6240 - val_sparse_categorical_accuracy: 0.6000\n",
      "Epoch 4/30\n",
      "1719/1719 [==============================] - 5s 3ms/step - loss: 1.5657 - sparse_categorical_accuracy: 0.6062 - val_loss: 1.4755 - val_sparse_categorical_accuracy: 0.6390\n",
      "Epoch 5/30\n",
      "1719/1719 [==============================] - 5s 3ms/step - loss: 1.4323 - sparse_categorical_accuracy: 0.6363 - val_loss: 1.3538 - val_sparse_categorical_accuracy: 0.6590\n",
      "Epoch 6/30\n",
      "1719/1719 [==============================] - 6s 3ms/step - loss: 1.3221 - sparse_categorical_accuracy: 0.6533 - val_loss: 1.2533 - val_sparse_categorical_accuracy: 0.6706\n",
      "Epoch 7/30\n",
      "1719/1719 [==============================] - 6s 3ms/step - loss: 1.2307 - sparse_categorical_accuracy: 0.6631 - val_loss: 1.1701 - val_sparse_categorical_accuracy: 0.6786\n",
      "Epoch 8/30\n",
      "1719/1719 [==============================] - 6s 4ms/step - loss: 1.1553 - sparse_categorical_accuracy: 0.6707 - val_loss: 1.1019 - val_sparse_categorical_accuracy: 0.6870\n",
      "Epoch 9/30\n",
      "1719/1719 [==============================] - 7s 4ms/step - loss: 1.0933 - sparse_categorical_accuracy: 0.6771 - val_loss: 1.0456 - val_sparse_categorical_accuracy: 0.6940\n",
      "Epoch 10/30\n",
      "1719/1719 [==============================] - 7s 4ms/step - loss: 1.0421 - sparse_categorical_accuracy: 0.6840 - val_loss: 0.9991 - val_sparse_categorical_accuracy: 0.6984\n",
      "Epoch 11/30\n",
      "1719/1719 [==============================] - 8s 4ms/step - loss: 0.9994 - sparse_categorical_accuracy: 0.6906 - val_loss: 0.9593 - val_sparse_categorical_accuracy: 0.7054\n",
      "Epoch 12/30\n",
      "1719/1719 [==============================] - 7s 4ms/step - loss: 0.9633 - sparse_categorical_accuracy: 0.6970 - val_loss: 0.9265 - val_sparse_categorical_accuracy: 0.7110\n",
      "Epoch 13/30\n",
      "1719/1719 [==============================] - 7s 4ms/step - loss: 0.9325 - sparse_categorical_accuracy: 0.7024 - val_loss: 0.8974 - val_sparse_categorical_accuracy: 0.7178\n",
      "Epoch 14/30\n",
      "1719/1719 [==============================] - 7s 4ms/step - loss: 0.9057 - sparse_categorical_accuracy: 0.7077 - val_loss: 0.8727 - val_sparse_categorical_accuracy: 0.7234\n",
      "Epoch 15/30\n",
      "1719/1719 [==============================] - 7s 4ms/step - loss: 0.8823 - sparse_categorical_accuracy: 0.7138 - val_loss: 0.8506 - val_sparse_categorical_accuracy: 0.7264\n",
      "Epoch 16/30\n",
      "1719/1719 [==============================] - 8s 4ms/step - loss: 0.8615 - sparse_categorical_accuracy: 0.7183 - val_loss: 0.8313 - val_sparse_categorical_accuracy: 0.7324\n",
      "Epoch 17/30\n",
      "1719/1719 [==============================] - 8s 4ms/step - loss: 0.8430 - sparse_categorical_accuracy: 0.7239 - val_loss: 0.8138 - val_sparse_categorical_accuracy: 0.7394\n",
      "Epoch 18/30\n",
      "1719/1719 [==============================] - 8s 5ms/step - loss: 0.8262 - sparse_categorical_accuracy: 0.7288 - val_loss: 0.7981 - val_sparse_categorical_accuracy: 0.7412\n",
      "Epoch 19/30\n",
      "1719/1719 [==============================] - 8s 5ms/step - loss: 0.8110 - sparse_categorical_accuracy: 0.7341 - val_loss: 0.7835 - val_sparse_categorical_accuracy: 0.7434\n",
      "Epoch 20/30\n",
      "1719/1719 [==============================] - 8s 5ms/step - loss: 0.7971 - sparse_categorical_accuracy: 0.7373 - val_loss: 0.7704 - val_sparse_categorical_accuracy: 0.7488\n",
      "Epoch 21/30\n",
      "1719/1719 [==============================] - 8s 5ms/step - loss: 0.7844 - sparse_categorical_accuracy: 0.7417 - val_loss: 0.7583 - val_sparse_categorical_accuracy: 0.7532\n",
      "Epoch 22/30\n",
      "1719/1719 [==============================] - 9s 5ms/step - loss: 0.7726 - sparse_categorical_accuracy: 0.7459 - val_loss: 0.7474 - val_sparse_categorical_accuracy: 0.7534\n",
      "Epoch 23/30\n",
      "1719/1719 [==============================] - 9s 5ms/step - loss: 0.7616 - sparse_categorical_accuracy: 0.7492 - val_loss: 0.7371 - val_sparse_categorical_accuracy: 0.7588\n",
      "Epoch 24/30\n",
      "1719/1719 [==============================] - 10s 6ms/step - loss: 0.7512 - sparse_categorical_accuracy: 0.7520 - val_loss: 0.7269 - val_sparse_categorical_accuracy: 0.7628\n",
      "Epoch 25/30\n",
      "1719/1719 [==============================] - 9s 6ms/step - loss: 0.7416 - sparse_categorical_accuracy: 0.7551 - val_loss: 0.7179 - val_sparse_categorical_accuracy: 0.7654\n",
      "Epoch 26/30\n",
      "1719/1719 [==============================] - 10s 6ms/step - loss: 0.7325 - sparse_categorical_accuracy: 0.7594 - val_loss: 0.7093 - val_sparse_categorical_accuracy: 0.7680\n",
      "Epoch 27/30\n",
      "1719/1719 [==============================] - 10s 6ms/step - loss: 0.7239 - sparse_categorical_accuracy: 0.7624 - val_loss: 0.7012 - val_sparse_categorical_accuracy: 0.7712\n",
      "Epoch 28/30\n",
      "1719/1719 [==============================] - 10s 6ms/step - loss: 0.7157 - sparse_categorical_accuracy: 0.7653 - val_loss: 0.6939 - val_sparse_categorical_accuracy: 0.7720\n",
      "Epoch 29/30\n",
      "1719/1719 [==============================] - 10s 6ms/step - loss: 0.7079 - sparse_categorical_accuracy: 0.7688 - val_loss: 0.6860 - val_sparse_categorical_accuracy: 0.7748\n",
      "Epoch 30/30\n",
      "1719/1719 [==============================] - 10s 6ms/step - loss: 0.7005 - sparse_categorical_accuracy: 0.7715 - val_loss: 0.6790 - val_sparse_categorical_accuracy: 0.7776\n"
     ]
    }
   ],
   "source": [
    "history = model.fit(\n",
    "    X_train, y_train,\n",
    "    epochs=30,\n",
    "    validation_data=(X_valid, y_valid)\n",
    ")"
   ]
  },
  {
   "cell_type": "code",
   "execution_count": 18,
   "id": "c987f441-4175-400a-88c5-a5daafe23f24",
   "metadata": {},
   "outputs": [
    {
     "data": {
      "text/plain": [
       "<AxesSubplot: >"
      ]
     },
     "execution_count": 18,
     "metadata": {},
     "output_type": "execute_result"
    },
    {
     "data": {
      "image/png": "[encoded data removed]",
      "text/plain": [
       "<Figure size 640x480 with 1 Axes>"
      ]
     },
     "metadata": {},
     "output_type": "display_data"
    }
   ],
   "source": [
    "import seaborn as sns\n",
    "\n",
    "sns.lineplot(history.history['loss'])\n",
    "sns.lineplot(history.history['val_loss'])"
   ]
  },
  {
   "cell_type": "code",
   "execution_count": 19,
   "id": "c87f1a00-1145-4354-bbb7-dedf031433a4",
   "metadata": {},
   "outputs": [
    {
     "data": {
      "text/plain": [
       "<AxesSubplot: >"
      ]
     },
     "execution_count": 19,
     "metadata": {},
     "output_type": "execute_result"
    },
    {
     "data": {
      "image/png": "[encoded data removed]",
      "text/plain": [
       "<Figure size 640x480 with 1 Axes>"
      ]
     },
     "metadata": {},
     "output_type": "display_data"
    }
   ],
   "source": [
    "sns.lineplot(history.history['sparse_categorical_accuracy'])\n",
    "sns.lineplot(history.history['val_sparse_categorical_accuracy'])"
   ]
  },
  {
   "cell_type": "code",
   "execution_count": 20,
   "id": "3ebf5de7-a5f3-4ac1-8522-a7051519886b",
   "metadata": {},
   "outputs": [
    {
     "data": {
      "image/png": "[encoded data removed]",
      "text/plain": [
       "<Figure size 800x500 with 1 Axes>"
      ]
     },
     "metadata": {},
     "output_type": "display_data"
    }
   ],
   "source": [
    "import matplotlib.pyplot as plt\n",
    "import pandas as pd\n",
    "\n",
    "pd.DataFrame(history.history).plot(\n",
    "    figsize=(8, 5),\n",
    "    xlim=[0, 29],\n",
    "    ylim=[0, 1],\n",
    "    grid=True,\n",
    "    xlabel=\"Epoch\",\n",
    "    style=[\"r--\", \"r-*\", \"b-\", \"b-*\"]\n",
    ")\n",
    "plt.show()"
   ]
  },
  {
   "cell_type": "markdown",
   "id": "0483e6f4-1fdd-43c0-ace3-4349689c9f27",
   "metadata": {},
   "source": [
    "### Using the model to make predictions"
   ]
  },
  {
   "cell_type": "code",
   "execution_count": 21,
   "id": "3ba6b254-0a1b-4c25-b9ff-f438b9cbd536",
   "metadata": {},
   "outputs": [
    {
     "name": "stdout",
     "output_type": "stream",
     "text": [
      "1/1 [==============================] - 0s 75ms/step\n"
     ]
    },
    {
     "data": {
      "text/plain": [
       "array([[0.  , 0.  , 0.  , 0.  , 0.  , 0.3 , 0.  , 0.21, 0.05, 0.43],\n",
       "       [0.  , 0.  , 0.7 , 0.  , 0.09, 0.  , 0.2 , 0.  , 0.  , 0.  ],\n",
       "       [0.  , 0.99, 0.  , 0.01, 0.  , 0.  , 0.  , 0.  , 0.  , 0.  ]],\n",
       "      dtype=float32)"
      ]
     },
     "execution_count": 21,
     "metadata": {},
     "output_type": "execute_result"
    }
   ],
   "source": [
    "X_new = X_test[:3]\n",
    "y_proba = model.predict(X_new)\n",
    "y_proba.round(2)"
   ]
  },
  {
   "cell_type": "code",
   "execution_count": 22,
   "id": "6dd0fd85-1995-4feb-9a03-0998e46618cc",
   "metadata": {},
   "outputs": [
    {
     "data": {
      "text/plain": [
       "array([9, 2, 1])"
      ]
     },
     "execution_count": 22,
     "metadata": {},
     "output_type": "execute_result"
    }
   ],
   "source": [
    "import numpy as np\n",
    "\n",
    "y_pred = y_proba.argmax(axis=1)\n",
    "y_pred"
   ]
  },
  {
   "cell_type": "code",
   "execution_count": 23,
   "id": "855bd653-8116-48c3-bc8d-43f036fdb0e0",
   "metadata": {},
   "outputs": [
    {
     "data": {
      "text/plain": [
       "array(['Ankle boot', 'Pullover', 'Trouser'], dtype='<U11')"
      ]
     },
     "execution_count": 23,
     "metadata": {},
     "output_type": "execute_result"
    }
   ],
   "source": [
    "np.array(class_names)[y_pred]"
   ]
  },
  {
   "cell_type": "code",
   "execution_count": 24,
   "id": "abb13f78-dc4f-4f29-bf67-c0faea5d2754",
   "metadata": {},
   "outputs": [
    {
     "data": {
      "text/plain": [
       "array([9, 2, 1], dtype=uint8)"
      ]
     },
     "execution_count": 24,
     "metadata": {},
     "output_type": "execute_result"
    }
   ],
   "source": [
    "y_new = y_test[:3]\n",
    "y_new"
   ]
  },
  {
   "cell_type": "markdown",
   "id": "d345f845-7cca-4260-898f-601c717ba5d6",
   "metadata": {},
   "source": [
    "## Building a Regression MLP Using the Sequential API"
   ]
  },
  {
   "cell_type": "code",
   "execution_count": 25,
   "id": "59c1289f-eb87-4312-ae5a-1205b46c6bbd",
   "metadata": {},
   "outputs": [],
   "source": [
    "housing = fetch_california_housing()\n",
    "\n",
    "X_train_full, X_test, y_train_full, y_test = train_test_split(housing.data, housing.target, random_state=42)\n",
    "X_train, X_valid, y_train, y_valid = train_test_split(X_train_full, y_train_full, random_state=42)"
   ]
  },
  {
   "cell_type": "code",
   "execution_count": 26,
   "id": "a69b1f32-a177-41a0-bcd4-a78c1514531b",
   "metadata": {},
   "outputs": [],
   "source": [
    "tf.random.set_seed(42)\n",
    "\n",
    "norm_layer = tf.keras.layers.Normalization(input_shape=X_train.shape[1:])\n",
    "\n",
    "model = tf.keras.Sequential([\n",
    "    norm_layer,\n",
    "    tf.keras.layers.Dense(50, activation=\"relu\"),\n",
    "    tf.keras.layers.Dense(50, activation=\"relu\"),\n",
    "    tf.keras.layers.Dense(50, activation=\"relu\"),\n",
    "    tf.keras.layers.Dense(1)\n",
    "])"
   ]
  },
  {
   "cell_type": "code",
   "execution_count": 27,
   "id": "dbdb9660-cbb0-4fd6-8271-58c6bcc7547e",
   "metadata": {
    "scrolled": true,
    "tags": []
   },
   "outputs": [],
   "source": [
    "optimizer = tf.keras.optimizers.Adam(learning_rate=1e-3)\n",
    "\n",
    "model.compile(\n",
    "    loss=tf.keras.losses.mean_squared_error,\n",
    "    optimizer=optimizer,\n",
    "    metrics=[tf.keras.metrics.RootMeanSquaredError()]\n",
    ")\n",
    "\n",
    "norm_layer.adapt(X_train)"
   ]
  },
  {
   "cell_type": "code",
   "execution_count": 28,
   "id": "3e8a0e13-ac0a-4a8a-9ef4-81146d8e7800",
   "metadata": {
    "scrolled": true,
    "tags": []
   },
   "outputs": [
    {
     "name": "stdout",
     "output_type": "stream",
     "text": [
      "Epoch 1/50\n",
      "363/363 [==============================] - 1s 2ms/step - loss: 0.7885 - root_mean_squared_error: 0.8880 - val_loss: 0.3855 - val_root_mean_squared_error: 0.6209\n",
      "Epoch 2/50\n",
      "363/363 [==============================] - 0s 1ms/step - loss: 0.3680 - root_mean_squared_error: 0.6066 - val_loss: 1.8179 - val_root_mean_squared_error: 1.3483\n",
      "Epoch 3/50\n",
      "363/363 [==============================] - 0s 1ms/step - loss: 0.3595 - root_mean_squared_error: 0.5996 - val_loss: 0.3555 - val_root_mean_squared_error: 0.5962\n",
      "Epoch 4/50\n",
      "363/363 [==============================] - 0s 1ms/step - loss: 0.3393 - root_mean_squared_error: 0.5825 - val_loss: 1.0784 - val_root_mean_squared_error: 1.0385\n",
      "Epoch 5/50\n",
      "363/363 [==============================] - 0s 1ms/step - loss: 0.3281 - root_mean_squared_error: 0.5728 - val_loss: 1.0356 - val_root_mean_squared_error: 1.0177\n",
      "Epoch 6/50\n",
      "363/363 [==============================] - 0s 1ms/step - loss: 0.3170 - root_mean_squared_error: 0.5630 - val_loss: 0.2901 - val_root_mean_squared_error: 0.5386\n",
      "Epoch 7/50\n",
      "363/363 [==============================] - 0s 1ms/step - loss: 0.3063 - root_mean_squared_error: 0.5535 - val_loss: 0.3526 - val_root_mean_squared_error: 0.5938\n",
      "Epoch 8/50\n",
      "363/363 [==============================] - 0s 1ms/step - loss: 0.2997 - root_mean_squared_error: 0.5475 - val_loss: 0.3038 - val_root_mean_squared_error: 0.5512\n",
      "Epoch 9/50\n",
      "363/363 [==============================] - 0s 1ms/step - loss: 0.2954 - root_mean_squared_error: 0.5435 - val_loss: 0.2988 - val_root_mean_squared_error: 0.5466\n",
      "Epoch 10/50\n",
      "363/363 [==============================] - 0s 1ms/step - loss: 0.2902 - root_mean_squared_error: 0.5387 - val_loss: 0.9285 - val_root_mean_squared_error: 0.9636\n",
      "Epoch 11/50\n",
      "363/363 [==============================] - 0s 1ms/step - loss: 0.2887 - root_mean_squared_error: 0.5373 - val_loss: 0.9320 - val_root_mean_squared_error: 0.9654\n",
      "Epoch 12/50\n",
      "363/363 [==============================] - 0s 1ms/step - loss: 0.3037 - root_mean_squared_error: 0.5511 - val_loss: 1.0529 - val_root_mean_squared_error: 1.0261\n",
      "Epoch 13/50\n",
      "363/363 [==============================] - 0s 1ms/step - loss: 0.2850 - root_mean_squared_error: 0.5338 - val_loss: 0.3082 - val_root_mean_squared_error: 0.5551\n",
      "Epoch 14/50\n",
      "363/363 [==============================] - 0s 1ms/step - loss: 0.2815 - root_mean_squared_error: 0.5306 - val_loss: 0.4127 - val_root_mean_squared_error: 0.6424\n",
      "Epoch 15/50\n",
      "363/363 [==============================] - 0s 1ms/step - loss: 0.2800 - root_mean_squared_error: 0.5291 - val_loss: 0.2899 - val_root_mean_squared_error: 0.5384\n",
      "Epoch 16/50\n",
      "363/363 [==============================] - 0s 1ms/step - loss: 0.2760 - root_mean_squared_error: 0.5253 - val_loss: 0.4015 - val_root_mean_squared_error: 0.6337\n",
      "Epoch 17/50\n",
      "363/363 [==============================] - 0s 1ms/step - loss: 0.2758 - root_mean_squared_error: 0.5252 - val_loss: 0.2897 - val_root_mean_squared_error: 0.5382\n",
      "Epoch 18/50\n",
      "363/363 [==============================] - 0s 1ms/step - loss: 0.2698 - root_mean_squared_error: 0.5194 - val_loss: 0.7306 - val_root_mean_squared_error: 0.8548\n",
      "Epoch 19/50\n",
      "363/363 [==============================] - 0s 1ms/step - loss: 0.2710 - root_mean_squared_error: 0.5206 - val_loss: 0.3549 - val_root_mean_squared_error: 0.5957\n",
      "Epoch 20/50\n",
      "363/363 [==============================] - 0s 1ms/step - loss: 0.2695 - root_mean_squared_error: 0.5191 - val_loss: 0.5139 - val_root_mean_squared_error: 0.7169\n",
      "Epoch 21/50\n",
      "363/363 [==============================] - 0s 1ms/step - loss: 0.2671 - root_mean_squared_error: 0.5168 - val_loss: 0.2851 - val_root_mean_squared_error: 0.5340\n",
      "Epoch 22/50\n",
      "363/363 [==============================] - 0s 1ms/step - loss: 0.2626 - root_mean_squared_error: 0.5125 - val_loss: 0.5766 - val_root_mean_squared_error: 0.7594\n",
      "Epoch 23/50\n",
      "363/363 [==============================] - 0s 1ms/step - loss: 0.2603 - root_mean_squared_error: 0.5102 - val_loss: 0.3043 - val_root_mean_squared_error: 0.5516\n",
      "Epoch 24/50\n",
      "363/363 [==============================] - 0s 1ms/step - loss: 0.2645 - root_mean_squared_error: 0.5143 - val_loss: 0.6082 - val_root_mean_squared_error: 0.7799\n",
      "Epoch 25/50\n",
      "363/363 [==============================] - 0s 1ms/step - loss: 0.2614 - root_mean_squared_error: 0.5113 - val_loss: 0.2781 - val_root_mean_squared_error: 0.5274\n",
      "Epoch 26/50\n",
      "363/363 [==============================] - 0s 1ms/step - loss: 0.2568 - root_mean_squared_error: 0.5068 - val_loss: 0.3840 - val_root_mean_squared_error: 0.6196\n",
      "Epoch 27/50\n",
      "363/363 [==============================] - 0s 1ms/step - loss: 0.2531 - root_mean_squared_error: 0.5031 - val_loss: 0.2872 - val_root_mean_squared_error: 0.5359\n",
      "Epoch 28/50\n",
      "363/363 [==============================] - 0s 1ms/step - loss: 0.2543 - root_mean_squared_error: 0.5043 - val_loss: 0.4184 - val_root_mean_squared_error: 0.6468\n",
      "Epoch 29/50\n",
      "363/363 [==============================] - 0s 1ms/step - loss: 0.2502 - root_mean_squared_error: 0.5002 - val_loss: 0.2587 - val_root_mean_squared_error: 0.5086\n",
      "Epoch 30/50\n",
      "363/363 [==============================] - 0s 1ms/step - loss: 0.2488 - root_mean_squared_error: 0.4988 - val_loss: 0.3176 - val_root_mean_squared_error: 0.5636\n",
      "Epoch 31/50\n",
      "363/363 [==============================] - 0s 1ms/step - loss: 0.2533 - root_mean_squared_error: 0.5032 - val_loss: 0.2639 - val_root_mean_squared_error: 0.5137\n",
      "Epoch 32/50\n",
      "363/363 [==============================] - 0s 1ms/step - loss: 0.2472 - root_mean_squared_error: 0.4972 - val_loss: 0.3040 - val_root_mean_squared_error: 0.5514\n",
      "Epoch 33/50\n",
      "363/363 [==============================] - 0s 1ms/step - loss: 0.2450 - root_mean_squared_error: 0.4949 - val_loss: 0.2845 - val_root_mean_squared_error: 0.5333\n",
      "Epoch 34/50\n",
      "363/363 [==============================] - 0s 1ms/step - loss: 0.2422 - root_mean_squared_error: 0.4921 - val_loss: 0.5662 - val_root_mean_squared_error: 0.7524\n",
      "Epoch 35/50\n",
      "363/363 [==============================] - 0s 1ms/step - loss: 0.2496 - root_mean_squared_error: 0.4996 - val_loss: 0.2973 - val_root_mean_squared_error: 0.5453\n",
      "Epoch 36/50\n",
      "363/363 [==============================] - 0s 1ms/step - loss: 0.2440 - root_mean_squared_error: 0.4940 - val_loss: 2.1240 - val_root_mean_squared_error: 1.4574\n",
      "Epoch 37/50\n",
      "363/363 [==============================] - 0s 1ms/step - loss: 0.2461 - root_mean_squared_error: 0.4961 - val_loss: 0.3090 - val_root_mean_squared_error: 0.5559\n",
      "Epoch 38/50\n",
      "363/363 [==============================] - 0s 1ms/step - loss: 0.2409 - root_mean_squared_error: 0.4908 - val_loss: 0.2919 - val_root_mean_squared_error: 0.5403\n",
      "Epoch 39/50\n",
      "363/363 [==============================] - 0s 1ms/step - loss: 0.2412 - root_mean_squared_error: 0.4911 - val_loss: 0.2747 - val_root_mean_squared_error: 0.5241\n",
      "Epoch 40/50\n",
      "363/363 [==============================] - 0s 1ms/step - loss: 0.2345 - root_mean_squared_error: 0.4842 - val_loss: 0.2820 - val_root_mean_squared_error: 0.5310\n",
      "Epoch 41/50\n",
      "363/363 [==============================] - 0s 1ms/step - loss: 0.2377 - root_mean_squared_error: 0.4876 - val_loss: 0.2693 - val_root_mean_squared_error: 0.5189\n",
      "Epoch 42/50\n",
      "363/363 [==============================] - 0s 1ms/step - loss: 0.2347 - root_mean_squared_error: 0.4844 - val_loss: 0.2708 - val_root_mean_squared_error: 0.5204\n",
      "Epoch 43/50\n",
      "363/363 [==============================] - 0s 1ms/step - loss: 0.2342 - root_mean_squared_error: 0.4839 - val_loss: 0.2909 - val_root_mean_squared_error: 0.5394\n",
      "Epoch 44/50\n",
      "363/363 [==============================] - 0s 1ms/step - loss: 0.2314 - root_mean_squared_error: 0.4811 - val_loss: 0.3292 - val_root_mean_squared_error: 0.5738\n",
      "Epoch 45/50\n",
      "363/363 [==============================] - 0s 1ms/step - loss: 0.2325 - root_mean_squared_error: 0.4822 - val_loss: 0.2640 - val_root_mean_squared_error: 0.5139\n",
      "Epoch 46/50\n",
      "363/363 [==============================] - 0s 1ms/step - loss: 0.2301 - root_mean_squared_error: 0.4797 - val_loss: 0.4156 - val_root_mean_squared_error: 0.6446\n",
      "Epoch 47/50\n",
      "363/363 [==============================] - 0s 1ms/step - loss: 0.2310 - root_mean_squared_error: 0.4806 - val_loss: 0.3010 - val_root_mean_squared_error: 0.5486\n",
      "Epoch 48/50\n",
      "363/363 [==============================] - 0s 1ms/step - loss: 0.2312 - root_mean_squared_error: 0.4808 - val_loss: 0.2689 - val_root_mean_squared_error: 0.5186\n",
      "Epoch 49/50\n",
      "363/363 [==============================] - 0s 1ms/step - loss: 0.2291 - root_mean_squared_error: 0.4787 - val_loss: 0.3172 - val_root_mean_squared_error: 0.5632\n",
      "Epoch 50/50\n",
      "363/363 [==============================] - 0s 1ms/step - loss: 0.2255 - root_mean_squared_error: 0.4748 - val_loss: 0.2608 - val_root_mean_squared_error: 0.5107\n"
     ]
    }
   ],
   "source": [
    "history = model.fit(\n",
    "    X_train, y_train,\n",
    "    epochs=50,\n",
    "    validation_data=(X_valid, y_valid)\n",
    ")"
   ]
  },
  {
   "cell_type": "code",
   "execution_count": 29,
   "id": "3329cb52-fd3b-4f04-8797-3ab524df3007",
   "metadata": {},
   "outputs": [
    {
     "data": {
      "text/plain": [
       "<AxesSubplot: >"
      ]
     },
     "execution_count": 29,
     "metadata": {},
     "output_type": "execute_result"
    },
    {
     "data": {
      "image/png": "[encoded data removed]",
      "text/plain": [
       "<Figure size 640x480 with 1 Axes>"
      ]
     },
     "metadata": {},
     "output_type": "display_data"
    }
   ],
   "source": [
    "sns.lineplot(history.history['loss'])\n",
    "sns.lineplot(history.history['val_loss'])"
   ]
  },
  {
   "cell_type": "code",
   "execution_count": 30,
   "id": "c9bf7b58-4dbe-4145-989f-3076bb0e5017",
   "metadata": {
    "tags": []
   },
   "outputs": [
    {
     "data": {
      "image/png": "[encoded data removed]",
      "text/plain": [
       "<Figure size 800x500 with 1 Axes>"
      ]
     },
     "metadata": {},
     "output_type": "display_data"
    }
   ],
   "source": [
    "pd.DataFrame(history.history).plot(\n",
    "    figsize=(8, 5),\n",
    "    xlim=[0, 19],\n",
    "    ylim=[0, 10],\n",
    "    grid=True,\n",
    "    xlabel=\"Epoch\",\n",
    "    style=[\"r--\", \"r-+\", \"b--\", \"b-+\"]\n",
    ")\n",
    "plt.show()"
   ]
  },
  {
   "cell_type": "code",
   "execution_count": 31,
   "id": "b9eca724-2323-4ec2-b0c1-d03c67e993f4",
   "metadata": {},
   "outputs": [
    {
     "name": "stdout",
     "output_type": "stream",
     "text": [
      "162/162 [==============================] - 0s 778us/step - loss: 0.2731 - root_mean_squared_error: 0.5226\n"
     ]
    },
    {
     "data": {
      "text/plain": [
       "(0.27308133244514465, 0.522571861743927)"
      ]
     },
     "execution_count": 31,
     "metadata": {},
     "output_type": "execute_result"
    }
   ],
   "source": [
    "mse_test, rmse_test = model.evaluate(X_test, y_test)\n",
    "mse_test, rmse_test"
   ]
  },
  {
   "cell_type": "code",
   "execution_count": 32,
   "id": "3524987e-00e5-4cc2-ba40-875d2f8a3e6f",
   "metadata": {},
   "outputs": [
    {
     "name": "stdout",
     "output_type": "stream",
     "text": [
      "1/1 [==============================] - 0s 56ms/step\n"
     ]
    },
    {
     "data": {
      "text/plain": [
       "array([[0.53420097],\n",
       "       [1.1860175 ],\n",
       "       [4.7588983 ]], dtype=float32)"
      ]
     },
     "execution_count": 32,
     "metadata": {},
     "output_type": "execute_result"
    }
   ],
   "source": [
    "X_new = X_test[:3]\n",
    "y_pred = model.predict(X_new)\n",
    "y_pred"
   ]
  },
  {
   "cell_type": "code",
   "execution_count": 33,
   "id": "970cde37-558f-4245-9be8-40002314c65c",
   "metadata": {},
   "outputs": [
    {
     "data": {
      "text/plain": [
       "array([0.477  , 0.458  , 5.00001])"
      ]
     },
     "execution_count": 33,
     "metadata": {},
     "output_type": "execute_result"
    }
   ],
   "source": [
    "y_test[:3]"
   ]
  },
  {
   "cell_type": "markdown",
   "id": "134560fd-8098-48cf-9d50-276cab69da4d",
   "metadata": {},
   "source": [
    "## Building Complex Models Using the Functional API"
   ]
  },
  {
   "cell_type": "code",
   "execution_count": 34,
   "id": "95af802d-0562-4d38-9838-654b56e25414",
   "metadata": {
    "scrolled": true,
    "tags": []
   },
   "outputs": [],
   "source": [
    "normalization_layer = tf.keras.layers.Normalization()\n",
    "hidden_layer_1 = tf.keras.layers.Dense(30, activation=\"relu\")\n",
    "hidden_layer_2 = tf.keras.layers.Dense(30, activation=\"relu\")\n",
    "concat_layer = tf.keras.layers.Concatenate()\n",
    "output_layer = tf.keras.layers.Dense(1)\n",
    "\n",
    "input_ = tf.keras.layers.Input(shape=X_train.shape[1:])\n",
    "normalized = normalization_layer(input_)\n",
    "hidden_1 = hidden_layer_1(normalized)\n",
    "hidden_2 = hidden_layer_2(hidden_1)\n",
    "concat = concat_layer([normalized, hidden_2])\n",
    "output = output_layer(concat)\n",
    "\n",
    "model = tf.keras.Model(inputs=[input_], outputs=[output])"
   ]
  },
  {
   "cell_type": "code",
   "execution_count": 35,
   "id": "64cc9658-2334-46ce-bd68-67dbdae24974",
   "metadata": {
    "scrolled": true,
    "tags": []
   },
   "outputs": [
    {
     "name": "stdout",
     "output_type": "stream",
     "text": [
      "Epoch 1/50\n",
      "363/363 [==============================] - 1s 2ms/step - loss: 399349.2812 - root_mean_squared_error: 631.9409 - val_loss: 162766.3750 - val_root_mean_squared_error: 403.4431\n",
      "Epoch 2/50\n",
      "363/363 [==============================] - 0s 1ms/step - loss: 54854.1680 - root_mean_squared_error: 234.2097 - val_loss: 17921.6523 - val_root_mean_squared_error: 133.8718\n",
      "Epoch 3/50\n",
      "363/363 [==============================] - 0s 1ms/step - loss: 6296.4893 - root_mean_squared_error: 79.3504 - val_loss: 4554.1143 - val_root_mean_squared_error: 67.4842\n",
      "Epoch 4/50\n",
      "363/363 [==============================] - 0s 1ms/step - loss: 2970.5488 - root_mean_squared_error: 54.5027 - val_loss: 3301.6624 - val_root_mean_squared_error: 57.4601\n",
      "Epoch 5/50\n",
      "363/363 [==============================] - 0s 1ms/step - loss: 1569.7684 - root_mean_squared_error: 39.6203 - val_loss: 1168.4697 - val_root_mean_squared_error: 34.1829\n",
      "Epoch 6/50\n",
      "363/363 [==============================] - 0s 1ms/step - loss: 315.2107 - root_mean_squared_error: 17.7542 - val_loss: 477.3858 - val_root_mean_squared_error: 21.8492\n",
      "Epoch 7/50\n",
      "363/363 [==============================] - 0s 1ms/step - loss: 80.4380 - root_mean_squared_error: 8.9687 - val_loss: 311.8712 - val_root_mean_squared_error: 17.6599\n",
      "Epoch 8/50\n",
      "363/363 [==============================] - 0s 1ms/step - loss: 32.5000 - root_mean_squared_error: 5.7009 - val_loss: 262.6547 - val_root_mean_squared_error: 16.2066\n",
      "Epoch 9/50\n",
      "363/363 [==============================] - 0s 1ms/step - loss: 18.8474 - root_mean_squared_error: 4.3414 - val_loss: 239.4034 - val_root_mean_squared_error: 15.4727\n",
      "Epoch 10/50\n",
      "363/363 [==============================] - 0s 1ms/step - loss: 12.8526 - root_mean_squared_error: 3.5850 - val_loss: 226.1965 - val_root_mean_squared_error: 15.0398\n",
      "Epoch 11/50\n",
      "363/363 [==============================] - 0s 1ms/step - loss: 9.6496 - root_mean_squared_error: 3.1064 - val_loss: 220.0784 - val_root_mean_squared_error: 14.8350\n",
      "Epoch 12/50\n",
      "363/363 [==============================] - 0s 1ms/step - loss: 8.0371 - root_mean_squared_error: 2.8350 - val_loss: 213.1985 - val_root_mean_squared_error: 14.6013\n",
      "Epoch 13/50\n",
      "363/363 [==============================] - 0s 1ms/step - loss: 7.1781 - root_mean_squared_error: 2.6792 - val_loss: 207.2255 - val_root_mean_squared_error: 14.3953\n",
      "Epoch 14/50\n",
      "363/363 [==============================] - 0s 1ms/step - loss: 6.6899 - root_mean_squared_error: 2.5865 - val_loss: 202.4921 - val_root_mean_squared_error: 14.2300\n",
      "Epoch 15/50\n",
      "363/363 [==============================] - 0s 1ms/step - loss: 6.4683 - root_mean_squared_error: 2.5433 - val_loss: 198.9585 - val_root_mean_squared_error: 14.1053\n",
      "Epoch 16/50\n",
      "363/363 [==============================] - 0s 1ms/step - loss: 6.1308 - root_mean_squared_error: 2.4760 - val_loss: 194.8587 - val_root_mean_squared_error: 13.9592\n",
      "Epoch 17/50\n",
      "363/363 [==============================] - 0s 1ms/step - loss: 5.9647 - root_mean_squared_error: 2.4423 - val_loss: 191.7710 - val_root_mean_squared_error: 13.8481\n",
      "Epoch 18/50\n",
      "363/363 [==============================] - 0s 1ms/step - loss: 5.7486 - root_mean_squared_error: 2.3976 - val_loss: 187.5571 - val_root_mean_squared_error: 13.6952\n",
      "Epoch 19/50\n",
      "363/363 [==============================] - 0s 1ms/step - loss: 5.5563 - root_mean_squared_error: 2.3572 - val_loss: 183.8846 - val_root_mean_squared_error: 13.5604\n",
      "Epoch 20/50\n",
      "363/363 [==============================] - 0s 1ms/step - loss: 5.3224 - root_mean_squared_error: 2.3070 - val_loss: 180.2665 - val_root_mean_squared_error: 13.4263\n",
      "Epoch 21/50\n",
      "363/363 [==============================] - 0s 1ms/step - loss: 5.2591 - root_mean_squared_error: 2.2933 - val_loss: 176.6478 - val_root_mean_squared_error: 13.2909\n",
      "Epoch 22/50\n",
      "363/363 [==============================] - 0s 1ms/step - loss: 5.0281 - root_mean_squared_error: 2.2423 - val_loss: 171.8405 - val_root_mean_squared_error: 13.1088\n",
      "Epoch 23/50\n",
      "363/363 [==============================] - 0s 1ms/step - loss: 4.7060 - root_mean_squared_error: 2.1693 - val_loss: 171.0006 - val_root_mean_squared_error: 13.0767\n",
      "Epoch 24/50\n",
      "363/363 [==============================] - 0s 1ms/step - loss: 4.7361 - root_mean_squared_error: 2.1763 - val_loss: 162.4703 - val_root_mean_squared_error: 12.7464\n",
      "Epoch 25/50\n",
      "363/363 [==============================] - 0s 1ms/step - loss: 4.5160 - root_mean_squared_error: 2.1251 - val_loss: 157.9550 - val_root_mean_squared_error: 12.5680\n",
      "Epoch 26/50\n",
      "363/363 [==============================] - 0s 1ms/step - loss: 4.2368 - root_mean_squared_error: 2.0583 - val_loss: 153.1609 - val_root_mean_squared_error: 12.3758\n",
      "Epoch 27/50\n",
      "363/363 [==============================] - 0s 1ms/step - loss: 4.0361 - root_mean_squared_error: 2.0090 - val_loss: 149.4492 - val_root_mean_squared_error: 12.2249\n",
      "Epoch 28/50\n",
      "363/363 [==============================] - 0s 1ms/step - loss: 4.0391 - root_mean_squared_error: 2.0097 - val_loss: 144.0956 - val_root_mean_squared_error: 12.0040\n",
      "Epoch 29/50\n",
      "363/363 [==============================] - 0s 1ms/step - loss: 3.8420 - root_mean_squared_error: 1.9601 - val_loss: 140.8142 - val_root_mean_squared_error: 11.8665\n",
      "Epoch 30/50\n",
      "363/363 [==============================] - 0s 1ms/step - loss: 3.6500 - root_mean_squared_error: 1.9105 - val_loss: 137.5112 - val_root_mean_squared_error: 11.7265\n",
      "Epoch 31/50\n",
      "363/363 [==============================] - 0s 1ms/step - loss: 3.7121 - root_mean_squared_error: 1.9267 - val_loss: 135.0092 - val_root_mean_squared_error: 11.6193\n",
      "Epoch 32/50\n",
      "363/363 [==============================] - 0s 1ms/step - loss: 3.5520 - root_mean_squared_error: 1.8847 - val_loss: 131.1925 - val_root_mean_squared_error: 11.4539\n",
      "Epoch 33/50\n",
      "363/363 [==============================] - 0s 1ms/step - loss: 3.6525 - root_mean_squared_error: 1.9112 - val_loss: 127.5628 - val_root_mean_squared_error: 11.2944\n",
      "Epoch 34/50\n",
      "363/363 [==============================] - 0s 1ms/step - loss: 3.7948 - root_mean_squared_error: 1.9480 - val_loss: 124.2922 - val_root_mean_squared_error: 11.1486\n",
      "Epoch 35/50\n",
      "363/363 [==============================] - 0s 1ms/step - loss: 3.4034 - root_mean_squared_error: 1.8448 - val_loss: 121.3599 - val_root_mean_squared_error: 11.0163\n",
      "Epoch 36/50\n",
      "363/363 [==============================] - 0s 1ms/step - loss: 3.2136 - root_mean_squared_error: 1.7926 - val_loss: 120.9618 - val_root_mean_squared_error: 10.9983\n",
      "Epoch 37/50\n",
      "363/363 [==============================] - 0s 1ms/step - loss: 3.6289 - root_mean_squared_error: 1.9050 - val_loss: 114.4067 - val_root_mean_squared_error: 10.6961\n",
      "Epoch 38/50\n",
      "363/363 [==============================] - 0s 1ms/step - loss: 2.9993 - root_mean_squared_error: 1.7318 - val_loss: 111.3857 - val_root_mean_squared_error: 10.5539\n",
      "Epoch 39/50\n",
      "363/363 [==============================] - 0s 1ms/step - loss: 3.0797 - root_mean_squared_error: 1.7549 - val_loss: 108.6842 - val_root_mean_squared_error: 10.4252\n",
      "Epoch 40/50\n",
      "363/363 [==============================] - 0s 1ms/step - loss: 3.0120 - root_mean_squared_error: 1.7355 - val_loss: 106.0618 - val_root_mean_squared_error: 10.2986\n",
      "Epoch 41/50\n",
      "363/363 [==============================] - 0s 1ms/step - loss: 3.2702 - root_mean_squared_error: 1.8084 - val_loss: 103.6148 - val_root_mean_squared_error: 10.1791\n",
      "Epoch 42/50\n",
      "363/363 [==============================] - 0s 1ms/step - loss: 2.8004 - root_mean_squared_error: 1.6734 - val_loss: 100.2461 - val_root_mean_squared_error: 10.0123\n",
      "Epoch 43/50\n",
      "363/363 [==============================] - 0s 1ms/step - loss: 2.9881 - root_mean_squared_error: 1.7286 - val_loss: 97.9206 - val_root_mean_squared_error: 9.8955\n",
      "Epoch 44/50\n",
      "363/363 [==============================] - 0s 1ms/step - loss: 2.7847 - root_mean_squared_error: 1.6688 - val_loss: 94.7889 - val_root_mean_squared_error: 9.7360\n",
      "Epoch 45/50\n",
      "363/363 [==============================] - 0s 1ms/step - loss: 2.9932 - root_mean_squared_error: 1.7301 - val_loss: 92.4458 - val_root_mean_squared_error: 9.6149\n",
      "Epoch 46/50\n",
      "363/363 [==============================] - 0s 1ms/step - loss: 2.9187 - root_mean_squared_error: 1.7084 - val_loss: 89.4822 - val_root_mean_squared_error: 9.4595\n",
      "Epoch 47/50\n",
      "363/363 [==============================] - 0s 1ms/step - loss: 2.6388 - root_mean_squared_error: 1.6244 - val_loss: 87.0958 - val_root_mean_squared_error: 9.3325\n",
      "Epoch 48/50\n",
      "363/363 [==============================] - 0s 1ms/step - loss: 2.6908 - root_mean_squared_error: 1.6404 - val_loss: 84.4795 - val_root_mean_squared_error: 9.1913\n",
      "Epoch 49/50\n",
      "363/363 [==============================] - 0s 1ms/step - loss: 2.5250 - root_mean_squared_error: 1.5890 - val_loss: 82.7436 - val_root_mean_squared_error: 9.0964\n",
      "Epoch 50/50\n",
      "363/363 [==============================] - 0s 1ms/step - loss: 2.4353 - root_mean_squared_error: 1.5605 - val_loss: 79.4621 - val_root_mean_squared_error: 8.9141\n"
     ]
    }
   ],
   "source": [
    "optimizer = tf.keras.optimizers.Adam(learning_rate=5e-5)\n",
    "\n",
    "model.compile(\n",
    "    loss=tf.keras.losses.mean_squared_error,\n",
    "    optimizer=optimizer,\n",
    "    metrics=[tf.keras.metrics.RootMeanSquaredError()]\n",
    ")\n",
    "\n",
    "norm_layer.adapt(X_train)\n",
    "\n",
    "history = model.fit(\n",
    "    X_train, y_train,\n",
    "    epochs=50,\n",
    "    validation_data=(X_valid, y_valid)\n",
    ")"
   ]
  },
  {
   "cell_type": "code",
   "execution_count": 36,
   "id": "ee8d32c9-b0d7-4904-807c-d0c2e90c02c3",
   "metadata": {},
   "outputs": [
    {
     "data": {
      "image/png": "[encoded data removed]",
      "text/plain": [
       "<Figure size 800x500 with 1 Axes>"
      ]
     },
     "metadata": {},
     "output_type": "display_data"
    }
   ],
   "source": [
    "pd.DataFrame(history.history).plot(\n",
    "    figsize=(8, 5),\n",
    "    xlim=[0, 50],\n",
    "    ylim=[0, 1],\n",
    "    grid=True,\n",
    "    xlabel=\"Epoch\",\n",
    "    style=[\"r--\", \"r-+\", \"b--\", \"b-+\"]\n",
    ")\n",
    "plt.show()"
   ]
  },
  {
   "cell_type": "code",
   "execution_count": 37,
   "id": "0b6260d3-5452-49cb-b4d3-5be38ac6a41b",
   "metadata": {},
   "outputs": [
    {
     "name": "stdout",
     "output_type": "stream",
     "text": [
      "162/162 [==============================] - 0s 736us/step - loss: 1.5721 - root_mean_squared_error: 1.2538\n"
     ]
    },
    {
     "data": {
      "text/plain": [
       "(1.5721226930618286, 1.2538431882858276)"
      ]
     },
     "execution_count": 37,
     "metadata": {},
     "output_type": "execute_result"
    }
   ],
   "source": [
    "mse_test, rmse_test = model.evaluate(X_test, y_test)\n",
    "mse_test, rmse_test"
   ]
  },
  {
   "cell_type": "code",
   "execution_count": 38,
   "id": "1871e9f0-91e9-4913-9fb8-1a267ccfa560",
   "metadata": {},
   "outputs": [
    {
     "name": "stdout",
     "output_type": "stream",
     "text": [
      "1/1 [==============================] - 0s 46ms/step\n"
     ]
    },
    {
     "data": {
      "text/plain": [
       "(array([[0.8420747],\n",
       "        [1.5278429],\n",
       "        [4.746677 ]], dtype=float32),\n",
       " array([0.477  , 0.458  , 5.00001]))"
      ]
     },
     "execution_count": 38,
     "metadata": {},
     "output_type": "execute_result"
    }
   ],
   "source": [
    "X_new = X_test[:3]\n",
    "y_pred = model.predict(X_new)\n",
    "y_pred, y_test[:3]"
   ]
  },
  {
   "cell_type": "code",
   "execution_count": 39,
   "id": "e220ab03-a021-4bac-9d4e-8045575d1f89",
   "metadata": {
    "scrolled": true,
    "tags": []
   },
   "outputs": [
    {
     "name": "stdout",
     "output_type": "stream",
     "text": [
      "Epoch 1/20\n",
      "363/363 [==============================] - 1s 2ms/step - loss: 1.3780 - root_mean_squared_error: 1.1739 - val_loss: 1.2349 - val_root_mean_squared_error: 1.1112\n",
      "Epoch 2/20\n",
      "363/363 [==============================] - 0s 1ms/step - loss: 0.5232 - root_mean_squared_error: 0.7233 - val_loss: 3.7272 - val_root_mean_squared_error: 1.9306\n",
      "Epoch 3/20\n",
      "363/363 [==============================] - 0s 1ms/step - loss: 0.4791 - root_mean_squared_error: 0.6922 - val_loss: 0.7709 - val_root_mean_squared_error: 0.8780\n",
      "Epoch 4/20\n",
      "363/363 [==============================] - 0s 1ms/step - loss: 0.4083 - root_mean_squared_error: 0.6390 - val_loss: 0.7865 - val_root_mean_squared_error: 0.8868\n",
      "Epoch 5/20\n",
      "363/363 [==============================] - 0s 1ms/step - loss: 0.3946 - root_mean_squared_error: 0.6281 - val_loss: 2.6691 - val_root_mean_squared_error: 1.6337\n",
      "Epoch 6/20\n",
      "363/363 [==============================] - 0s 1ms/step - loss: 0.3967 - root_mean_squared_error: 0.6298 - val_loss: 3.5908 - val_root_mean_squared_error: 1.8950\n",
      "Epoch 7/20\n",
      "363/363 [==============================] - 0s 1ms/step - loss: 0.3938 - root_mean_squared_error: 0.6275 - val_loss: 1.5219 - val_root_mean_squared_error: 1.2337\n",
      "Epoch 8/20\n",
      "363/363 [==============================] - 0s 1ms/step - loss: 0.3672 - root_mean_squared_error: 0.6060 - val_loss: 2.4073 - val_root_mean_squared_error: 1.5515\n",
      "Epoch 9/20\n",
      "363/363 [==============================] - 0s 1ms/step - loss: 0.3674 - root_mean_squared_error: 0.6062 - val_loss: 2.9314 - val_root_mean_squared_error: 1.7121\n",
      "Epoch 10/20\n",
      "363/363 [==============================] - 0s 1ms/step - loss: 0.3833 - root_mean_squared_error: 0.6191 - val_loss: 3.2978 - val_root_mean_squared_error: 1.8160\n",
      "Epoch 11/20\n",
      "363/363 [==============================] - 0s 1ms/step - loss: 0.3601 - root_mean_squared_error: 0.6001 - val_loss: 0.8765 - val_root_mean_squared_error: 0.9362\n",
      "Epoch 12/20\n",
      "363/363 [==============================] - 0s 1ms/step - loss: 0.3770 - root_mean_squared_error: 0.6140 - val_loss: 2.4858 - val_root_mean_squared_error: 1.5767\n",
      "Epoch 13/20\n",
      "363/363 [==============================] - 0s 1ms/step - loss: 0.3588 - root_mean_squared_error: 0.5990 - val_loss: 0.8252 - val_root_mean_squared_error: 0.9084\n",
      "Epoch 14/20\n",
      "363/363 [==============================] - 0s 1ms/step - loss: 0.3450 - root_mean_squared_error: 0.5874 - val_loss: 1.5069 - val_root_mean_squared_error: 1.2276\n",
      "Epoch 15/20\n",
      "363/363 [==============================] - 0s 1ms/step - loss: 0.3457 - root_mean_squared_error: 0.5879 - val_loss: 2.9934 - val_root_mean_squared_error: 1.7302\n",
      "Epoch 16/20\n",
      "363/363 [==============================] - 0s 1ms/step - loss: 0.3585 - root_mean_squared_error: 0.5987 - val_loss: 5.5338 - val_root_mean_squared_error: 2.3524\n",
      "Epoch 17/20\n",
      "363/363 [==============================] - 0s 1ms/step - loss: 0.3749 - root_mean_squared_error: 0.6123 - val_loss: 2.2251 - val_root_mean_squared_error: 1.4917\n",
      "Epoch 18/20\n",
      "363/363 [==============================] - 0s 1ms/step - loss: 0.3496 - root_mean_squared_error: 0.5913 - val_loss: 1.8718 - val_root_mean_squared_error: 1.3681\n",
      "Epoch 19/20\n",
      "363/363 [==============================] - 0s 1ms/step - loss: 0.3425 - root_mean_squared_error: 0.5852 - val_loss: 0.5037 - val_root_mean_squared_error: 0.7097\n",
      "Epoch 20/20\n",
      "363/363 [==============================] - 0s 1ms/step - loss: 0.3350 - root_mean_squared_error: 0.5788 - val_loss: 0.7373 - val_root_mean_squared_error: 0.8587\n",
      "162/162 [==============================] - 0s 814us/step - loss: 0.3319 - root_mean_squared_error: 0.5761\n",
      "mse test: [0.33189618587493896, 0.5761043429374695]\n",
      "1/1 [==============================] - 0s 52ms/step\n",
      "pred: [[0.4013543]\n",
      " [1.1830593]\n",
      " [3.5276737]] [0.477   0.458   5.00001]\n"
     ]
    }
   ],
   "source": [
    "input_wide = tf.keras.layers.Input(shape=[5])\n",
    "input_deep = tf.keras.layers.Input(shape=[6])\n",
    "\n",
    "norm_layer_wide = tf.keras.layers.Normalization()\n",
    "norm_layer_deep = tf.keras.layers.Normalization()\n",
    "\n",
    "norm_wide = norm_layer_wide(input_wide)\n",
    "norm_deep = norm_layer_deep(input_deep)\n",
    "\n",
    "hidden_1 = tf.keras.layers.Dense(30, activation=\"relu\")(norm_deep)\n",
    "hidden_2 = tf.keras.layers.Dense(30, activation=\"relu\")(hidden_1)\n",
    "concat = tf.keras.layers.Concatenate()([norm_wide, hidden_2])\n",
    "output = tf.keras.layers.Dense(1)(concat)\n",
    "\n",
    "model = tf.keras.Model(inputs=[input_wide, input_deep], outputs=[output])\n",
    "\n",
    "\n",
    "optimizer = tf.keras.optimizers.Adam(learning_rate=1e-3)\n",
    "model.compile(\n",
    "    loss=tf.keras.losses.mean_squared_error,\n",
    "    optimizer=optimizer,\n",
    "    metrics=[tf.keras.metrics.RootMeanSquaredError()]\n",
    ")\n",
    "\n",
    "X_train_wide, X_train_deep = X_train[:, :5], X_train[:, 2:]\n",
    "X_valid_wide, X_valid_deep = X_valid[:, :5], X_valid[:, 2:]\n",
    "X_test_wide, X_test_deep = X_test[:, :5], X_test[:, 2:]\n",
    "X_new_wide, X_new_deep = X_test_wide[:3], X_test_deep[:3]\n",
    "\n",
    "norm_layer_wide.adapt(X_train_wide)\n",
    "norm_layer_deep.adapt(X_train_deep)\n",
    "history = model.fit(\n",
    "    (X_train_wide, X_train_deep), y_train,\n",
    "    epochs=20,\n",
    "    validation_data=((X_valid_wide, X_valid_deep), y_valid)\n",
    ")\n",
    "mse_test = model.evaluate((X_test_wide, X_test_deep), y_test)\n",
    "print(\"mse test:\", mse_test)\n",
    "\n",
    "y_pred = model.predict((X_new_wide, X_new_deep))\n",
    "print(\"pred:\", y_pred, y_test[:3])"
   ]
  },
  {
   "cell_type": "markdown",
   "id": "3eac61eb-b98d-4aff-8e6f-06847d708ac9",
   "metadata": {},
   "source": [
    "### Using the Subclassing API to Build Dynamic Models"
   ]
  },
  {
   "cell_type": "code",
   "execution_count": 40,
   "id": "e855fee2-11d5-438a-99f3-10e48ada23c5",
   "metadata": {
    "scrolled": true,
    "tags": []
   },
   "outputs": [],
   "source": [
    "class WideAndDeepModel(tf.keras.Model):\n",
    "    def __init__(self, units=30, activation=\"relu\", **kwargs):\n",
    "        super().__init__(**kwargs)\n",
    "        \n",
    "        self.norm_layer_wide = tf.keras.layers.Normalization()\n",
    "        self.norm_layer_deep = tf.keras.layers.Normalization()\n",
    "        \n",
    "        self.hidden_1 = tf.keras.layers.Dense(units, activation=activation)\n",
    "        self.hidden_2 = tf.keras.layers.Dense(units, activation=activation)\n",
    "        \n",
    "        self.main_output = tf.keras.layers.Dense(1)\n",
    "        self.aux_output = tf.keras.layers.Dense(1)\n",
    "        \n",
    "    def call(self, inputs):\n",
    "        input_wide, input_deep = inputs\n",
    "        \n",
    "        norm_wide = self.norm_layer_wide(input_wide)\n",
    "        norm_deep = self.norm_layer_deep(input_deep)\n",
    "        \n",
    "        hidden_1 = self.hidden_1(norm_deep)\n",
    "        hidden_2 = self.hidden_2(hidden_1)\n",
    "        \n",
    "        concat = tf.keras.layers.concatenate([norm_wide, hidden_2])\n",
    "        \n",
    "        output = self.main_output(concat)\n",
    "        aux_output = self.aux_output(hidden_2)\n",
    "        \n",
    "        return output, aux_output\n",
    "\n",
    "tf.random.set_seed(42)\n",
    "model = WideAndDeepModel(30, activation=\"relu\", name=\"my_cool_model\")"
   ]
  },
  {
   "cell_type": "code",
   "execution_count": 41,
   "id": "c46c8c8c-c52c-419c-8939-502d6b2642b1",
   "metadata": {},
   "outputs": [
    {
     "data": {
      "text/plain": [
       "((11610, 5), (11610, 6))"
      ]
     },
     "execution_count": 41,
     "metadata": {},
     "output_type": "execute_result"
    }
   ],
   "source": [
    "X_train_wide.shape, X_train_deep.shape"
   ]
  },
  {
   "cell_type": "code",
   "execution_count": 42,
   "id": "0f17ea09-8fc0-455f-9d0b-c7b0c0d73942",
   "metadata": {
    "scrolled": true,
    "tags": []
   },
   "outputs": [
    {
     "name": "stdout",
     "output_type": "stream",
     "text": [
      "Epoch 1/10\n",
      "363/363 [==============================] - 2s 2ms/step - loss: 1.7249 - output_1_loss: 1.6659 - output_2_loss: 2.2556 - output_1_root_mean_squared_error: 1.2907 - output_2_root_mean_squared_error: 1.5019 - val_loss: 0.7775 - val_output_1_loss: 0.5908 - val_output_2_loss: 2.4578 - val_output_1_root_mean_squared_error: 0.7687 - val_output_2_root_mean_squared_error: 1.5678\n",
      "Epoch 2/10\n",
      "363/363 [==============================] - 1s 1ms/step - loss: 0.5423 - output_1_loss: 0.5256 - output_2_loss: 0.6929 - output_1_root_mean_squared_error: 0.7250 - output_2_root_mean_squared_error: 0.8324 - val_loss: 3.2522 - val_output_1_loss: 3.3644 - val_output_2_loss: 2.2420 - val_output_1_root_mean_squared_error: 1.8342 - val_output_2_root_mean_squared_error: 1.4973\n",
      "Epoch 3/10\n",
      "363/363 [==============================] - 1s 1ms/step - loss: 0.4854 - output_1_loss: 0.4750 - output_2_loss: 0.5792 - output_1_root_mean_squared_error: 0.6892 - output_2_root_mean_squared_error: 0.7610 - val_loss: 0.5083 - val_output_1_loss: 0.4795 - val_output_2_loss: 0.7674 - val_output_1_root_mean_squared_error: 0.6925 - val_output_2_root_mean_squared_error: 0.8760\n",
      "Epoch 4/10\n",
      "363/363 [==============================] - 1s 1ms/step - loss: 0.4272 - output_1_loss: 0.4158 - output_2_loss: 0.5299 - output_1_root_mean_squared_error: 0.6448 - output_2_root_mean_squared_error: 0.7279 - val_loss: 0.5309 - val_output_1_loss: 0.4960 - val_output_2_loss: 0.8456 - val_output_1_root_mean_squared_error: 0.7043 - val_output_2_root_mean_squared_error: 0.9196\n",
      "Epoch 5/10\n",
      "363/363 [==============================] - 1s 1ms/step - loss: 0.4065 - output_1_loss: 0.3967 - output_2_loss: 0.4945 - output_1_root_mean_squared_error: 0.6299 - output_2_root_mean_squared_error: 0.7032 - val_loss: 1.5190 - val_output_1_loss: 1.6241 - val_output_2_loss: 0.5734 - val_output_1_root_mean_squared_error: 1.2744 - val_output_2_root_mean_squared_error: 0.7572\n",
      "Epoch 6/10\n",
      "363/363 [==============================] - 0s 1ms/step - loss: 0.3940 - output_1_loss: 0.3861 - output_2_loss: 0.4652 - output_1_root_mean_squared_error: 0.6213 - output_2_root_mean_squared_error: 0.6820 - val_loss: 2.7236 - val_output_1_loss: 2.8761 - val_output_2_loss: 1.3516 - val_output_1_root_mean_squared_error: 1.6959 - val_output_2_root_mean_squared_error: 1.1626\n",
      "Epoch 7/10\n",
      "363/363 [==============================] - 1s 1ms/step - loss: 0.3908 - output_1_loss: 0.3833 - output_2_loss: 0.4577 - output_1_root_mean_squared_error: 0.6191 - output_2_root_mean_squared_error: 0.6765 - val_loss: 2.4131 - val_output_1_loss: 2.4899 - val_output_2_loss: 1.7224 - val_output_1_root_mean_squared_error: 1.5779 - val_output_2_root_mean_squared_error: 1.3124\n",
      "Epoch 8/10\n",
      "363/363 [==============================] - 0s 1ms/step - loss: 0.3702 - output_1_loss: 0.3623 - output_2_loss: 0.4413 - output_1_root_mean_squared_error: 0.6019 - output_2_root_mean_squared_error: 0.6643 - val_loss: 3.8365 - val_output_1_loss: 3.8434 - val_output_2_loss: 3.7742 - val_output_1_root_mean_squared_error: 1.9605 - val_output_2_root_mean_squared_error: 1.9427\n",
      "Epoch 9/10\n",
      "363/363 [==============================] - 1s 1ms/step - loss: 0.3742 - output_1_loss: 0.3663 - output_2_loss: 0.4450 - output_1_root_mean_squared_error: 0.6052 - output_2_root_mean_squared_error: 0.6671 - val_loss: 2.4603 - val_output_1_loss: 2.5218 - val_output_2_loss: 1.9071 - val_output_1_root_mean_squared_error: 1.5880 - val_output_2_root_mean_squared_error: 1.3810\n",
      "Epoch 10/10\n",
      "363/363 [==============================] - 0s 1ms/step - loss: 0.3792 - output_1_loss: 0.3724 - output_2_loss: 0.4405 - output_1_root_mean_squared_error: 0.6102 - output_2_root_mean_squared_error: 0.6637 - val_loss: 2.3939 - val_output_1_loss: 2.4399 - val_output_2_loss: 1.9800 - val_output_1_root_mean_squared_error: 1.5620 - val_output_2_root_mean_squared_error: 1.4071\n"
     ]
    }
   ],
   "source": [
    "optimizer = tf.keras.optimizers.Adam(learning_rate=1e-3)\n",
    "model.compile(\n",
    "    loss=\"mse\",\n",
    "    loss_weights=(0.9, 0.1),\n",
    "    optimizer=optimizer,\n",
    "    metrics=[tf.keras.metrics.RootMeanSquaredError()]\n",
    ")\n",
    "\n",
    "model.norm_layer_deep.adapt(X_train_deep)\n",
    "model.norm_layer_wide.adapt(X_train_wide)\n",
    "\n",
    "history = model.fit(\n",
    "    (X_train_wide, X_train_deep), (y_train, y_train), \n",
    "    epochs=10,\n",
    "    validation_data=((X_valid_wide, X_valid_deep), (y_valid, y_valid))\n",
    ")"
   ]
  },
  {
   "cell_type": "code",
   "execution_count": 43,
   "id": "b3749b40-4301-475e-b457-7d06675e5c90",
   "metadata": {},
   "outputs": [
    {
     "name": "stdout",
     "output_type": "stream",
     "text": [
      "162/162 [==============================] - 0s 930us/step - loss: 0.3585 - output_1_loss: 0.3513 - output_2_loss: 0.4226 - output_1_root_mean_squared_error: 0.5927 - output_2_root_mean_squared_error: 0.6500\n",
      "0.358467698097229 0.35134655237197876 0.4225592017173767 0.5927449464797974 0.6500455141067505\n"
     ]
    }
   ],
   "source": [
    "eval_results = model.evaluate((X_test_wide, X_test_deep), (y_test, y_test))\n",
    "weighted_sum_of_losses, main_loss, aux_loss, main_rmse, aux_rmse = eval_results\n",
    "print(weighted_sum_of_losses, main_loss, aux_loss, main_rmse, aux_rmse)"
   ]
  },
  {
   "cell_type": "code",
   "execution_count": 44,
   "id": "af225dda-39dc-4068-af56-6968aaf965e9",
   "metadata": {},
   "outputs": [
    {
     "name": "stdout",
     "output_type": "stream",
     "text": [
      "WARNING:tensorflow:5 out of the last 5 calls to <function Model.make_predict_function.<locals>.predict_function at 0x14568cca0> triggered tf.function retracing. Tracing is expensive and the excessive number of tracings could be due to (1) creating @tf.function repeatedly in a loop, (2) passing tensors with different shapes, (3) passing Python objects instead of tensors. For (1), please define your @tf.function outside of the loop. For (2), @tf.function has reduce_retracing=True option that can avoid unnecessary retracing. For (3), please refer to https://www.tensorflow.org/guide/function#controlling_retracing and https://www.tensorflow.org/api_docs/python/tf/function for  more details.\n",
      "1/1 [==============================] - 0s 58ms/step\n"
     ]
    },
    {
     "data": {
      "text/plain": [
       "(array([[0.4537172],\n",
       "        [1.5481731],\n",
       "        [3.619273 ]], dtype=float32),\n",
       " array([[0.67031693],\n",
       "        [1.6935211 ],\n",
       "        [3.549484  ]], dtype=float32))"
      ]
     },
     "execution_count": 44,
     "metadata": {},
     "output_type": "execute_result"
    }
   ],
   "source": [
    "y_pred_main, y_pred_aux = model.predict((X_new_wide, X_new_deep))\n",
    "y_pred_main, y_pred_aux"
   ]
  },
  {
   "cell_type": "code",
   "execution_count": 45,
   "id": "b3325291-43b5-46a3-b9af-0c6056b96e0d",
   "metadata": {},
   "outputs": [
    {
     "data": {
      "text/plain": [
       "array([0.477  , 0.458  , 5.00001])"
      ]
     },
     "execution_count": 45,
     "metadata": {},
     "output_type": "execute_result"
    }
   ],
   "source": [
    "y_test[:3]"
   ]
  },
  {
   "cell_type": "markdown",
   "id": "c09cc48f-4351-49c1-bfb6-d5727d1d62b4",
   "metadata": {},
   "source": [
    "### Saving and Restoring a Model"
   ]
  },
  {
   "cell_type": "code",
   "execution_count": 46,
   "id": "1e8c9671-5672-4bca-8881-556cb4f8f2e0",
   "metadata": {},
   "outputs": [
    {
     "name": "stderr",
     "output_type": "stream",
     "text": [
      "WARNING:absl:Found untraced functions such as _update_step_xla while saving (showing 1 of 1). These functions will not be directly callable after loading.\n"
     ]
    },
    {
     "name": "stdout",
     "output_type": "stream",
     "text": [
      "INFO:tensorflow:Assets written to: my_keras_model/assets\n"
     ]
    },
    {
     "name": "stderr",
     "output_type": "stream",
     "text": [
      "INFO:tensorflow:Assets written to: my_keras_model/assets\n"
     ]
    }
   ],
   "source": [
    "model.save(\"my_keras_model\", save_format=\"tf\")"
   ]
  },
  {
   "cell_type": "code",
   "execution_count": 47,
   "id": "ba2c5756-47a7-453c-84a6-d4efacd219ee",
   "metadata": {},
   "outputs": [
    {
     "name": "stdout",
     "output_type": "stream",
     "text": [
      "WARNING:tensorflow:6 out of the last 6 calls to <function Model.make_predict_function.<locals>.predict_function at 0x14508fee0> triggered tf.function retracing. Tracing is expensive and the excessive number of tracings could be due to (1) creating @tf.function repeatedly in a loop, (2) passing tensors with different shapes, (3) passing Python objects instead of tensors. For (1), please define your @tf.function outside of the loop. For (2), @tf.function has reduce_retracing=True option that can avoid unnecessary retracing. For (3), please refer to https://www.tensorflow.org/guide/function#controlling_retracing and https://www.tensorflow.org/api_docs/python/tf/function for  more details.\n"
     ]
    },
    {
     "name": "stderr",
     "output_type": "stream",
     "text": [
      "WARNING:tensorflow:6 out of the last 6 calls to <function Model.make_predict_function.<locals>.predict_function at 0x14508fee0> triggered tf.function retracing. Tracing is expensive and the excessive number of tracings could be due to (1) creating @tf.function repeatedly in a loop, (2) passing tensors with different shapes, (3) passing Python objects instead of tensors. For (1), please define your @tf.function outside of the loop. For (2), @tf.function has reduce_retracing=True option that can avoid unnecessary retracing. For (3), please refer to https://www.tensorflow.org/guide/function#controlling_retracing and https://www.tensorflow.org/api_docs/python/tf/function for  more details.\n"
     ]
    },
    {
     "name": "stdout",
     "output_type": "stream",
     "text": [
      "1/1 [==============================] - 0s 59ms/step\n"
     ]
    },
    {
     "data": {
      "text/plain": [
       "(array([[0.4537173],\n",
       "        [1.5481728],\n",
       "        [3.6192727]], dtype=float32),\n",
       " array([[0.67031693],\n",
       "        [1.6935211 ],\n",
       "        [3.549484  ]], dtype=float32))"
      ]
     },
     "execution_count": 47,
     "metadata": {},
     "output_type": "execute_result"
    }
   ],
   "source": [
    "model = tf.keras.models.load_model(\"my_keras_model\")\n",
    "y_pred_main, y_pred_aux = model.predict((X_new_wide, X_new_deep))\n",
    "y_pred_main, y_pred_aux"
   ]
  },
  {
   "cell_type": "markdown",
   "id": "b1fecd41-9bcd-4476-b091-9ef5ff386554",
   "metadata": {},
   "source": [
    "### Using callbacks"
   ]
  },
  {
   "cell_type": "code",
   "execution_count": 48,
   "id": "9fe18ab7-3511-4573-ad1a-90c999a21d82",
   "metadata": {
    "scrolled": true,
    "tags": []
   },
   "outputs": [
    {
     "name": "stdout",
     "output_type": "stream",
     "text": [
      "Epoch 1/10\n",
      "363/363 [==============================] - 1s 2ms/step - loss: 0.3707 - output_1_loss: 0.3634 - output_2_loss: 0.4363 - output_1_root_mean_squared_error: 0.6028 - output_2_root_mean_squared_error: 0.6605 - val_loss: 0.3540 - val_output_1_loss: 0.3439 - val_output_2_loss: 0.4453 - val_output_1_root_mean_squared_error: 0.5864 - val_output_2_root_mean_squared_error: 0.6673\n",
      "Epoch 2/10\n",
      "363/363 [==============================] - 1s 2ms/step - loss: 0.3519 - output_1_loss: 0.3454 - output_2_loss: 0.4109 - output_1_root_mean_squared_error: 0.5877 - output_2_root_mean_squared_error: 0.6410 - val_loss: 0.7888 - val_output_1_loss: 0.7399 - val_output_2_loss: 1.2283 - val_output_1_root_mean_squared_error: 0.8602 - val_output_2_root_mean_squared_error: 1.1083\n",
      "Epoch 3/10\n",
      "363/363 [==============================] - 1s 1ms/step - loss: 0.3511 - output_1_loss: 0.3443 - output_2_loss: 0.4120 - output_1_root_mean_squared_error: 0.5868 - output_2_root_mean_squared_error: 0.6419 - val_loss: 0.4618 - val_output_1_loss: 0.4696 - val_output_2_loss: 0.3915 - val_output_1_root_mean_squared_error: 0.6853 - val_output_2_root_mean_squared_error: 0.6257\n",
      "Epoch 4/10\n",
      "363/363 [==============================] - 1s 2ms/step - loss: 0.3441 - output_1_loss: 0.3371 - output_2_loss: 0.4063 - output_1_root_mean_squared_error: 0.5806 - output_2_root_mean_squared_error: 0.6374 - val_loss: 0.8990 - val_output_1_loss: 0.9036 - val_output_2_loss: 0.8575 - val_output_1_root_mean_squared_error: 0.9506 - val_output_2_root_mean_squared_error: 0.9260\n",
      "Epoch 5/10\n",
      "363/363 [==============================] - 1s 1ms/step - loss: 0.3505 - output_1_loss: 0.3444 - output_2_loss: 0.4047 - output_1_root_mean_squared_error: 0.5869 - output_2_root_mean_squared_error: 0.6362 - val_loss: 3.8362 - val_output_1_loss: 4.0090 - val_output_2_loss: 2.2812 - val_output_1_root_mean_squared_error: 2.0022 - val_output_2_root_mean_squared_error: 1.5104\n",
      "Epoch 6/10\n",
      "363/363 [==============================] - 1s 1ms/step - loss: 0.3691 - output_1_loss: 0.3639 - output_2_loss: 0.4163 - output_1_root_mean_squared_error: 0.6032 - output_2_root_mean_squared_error: 0.6452 - val_loss: 2.2552 - val_output_1_loss: 2.2460 - val_output_2_loss: 2.3376 - val_output_1_root_mean_squared_error: 1.4987 - val_output_2_root_mean_squared_error: 1.5289\n",
      "Epoch 7/10\n",
      "363/363 [==============================] - 1s 2ms/step - loss: 0.3538 - output_1_loss: 0.3478 - output_2_loss: 0.4073 - output_1_root_mean_squared_error: 0.5898 - output_2_root_mean_squared_error: 0.6382 - val_loss: 0.5818 - val_output_1_loss: 0.5998 - val_output_2_loss: 0.4198 - val_output_1_root_mean_squared_error: 0.7744 - val_output_2_root_mean_squared_error: 0.6479\n",
      "Epoch 8/10\n",
      "363/363 [==============================] - 1s 2ms/step - loss: 0.3361 - output_1_loss: 0.3299 - output_2_loss: 0.3918 - output_1_root_mean_squared_error: 0.5744 - output_2_root_mean_squared_error: 0.6259 - val_loss: 0.5782 - val_output_1_loss: 0.5589 - val_output_2_loss: 0.7525 - val_output_1_root_mean_squared_error: 0.7476 - val_output_2_root_mean_squared_error: 0.8675\n",
      "Epoch 9/10\n",
      "363/363 [==============================] - 1s 2ms/step - loss: 0.3340 - output_1_loss: 0.3278 - output_2_loss: 0.3904 - output_1_root_mean_squared_error: 0.5725 - output_2_root_mean_squared_error: 0.6249 - val_loss: 0.3438 - val_output_1_loss: 0.3400 - val_output_2_loss: 0.3778 - val_output_1_root_mean_squared_error: 0.5831 - val_output_2_root_mean_squared_error: 0.6146\n",
      "Epoch 10/10\n",
      "363/363 [==============================] - 1s 2ms/step - loss: 0.3346 - output_1_loss: 0.3288 - output_2_loss: 0.3864 - output_1_root_mean_squared_error: 0.5735 - output_2_root_mean_squared_error: 0.6216 - val_loss: 0.4781 - val_output_1_loss: 0.4586 - val_output_2_loss: 0.6539 - val_output_1_root_mean_squared_error: 0.6772 - val_output_2_root_mean_squared_error: 0.8086\n"
     ]
    }
   ],
   "source": [
    "checkpoint_cb = tf.keras.callbacks.ModelCheckpoint(\n",
    "    \"my_checkpoints\",\n",
    "    save_weights_only=True\n",
    ")\n",
    "\n",
    "history = model.fit(\n",
    "    (X_train_wide, X_train_deep), (y_train, y_train), \n",
    "    epochs=10,\n",
    "    validation_data=((X_valid_wide, X_valid_deep), (y_valid, y_valid)),\n",
    "    callbacks=[checkpoint_cb]\n",
    ")"
   ]
  },
  {
   "cell_type": "code",
   "execution_count": 49,
   "id": "9a9974e1-7cc2-452c-8268-e0ffd05bbbf6",
   "metadata": {
    "scrolled": true,
    "tags": []
   },
   "outputs": [
    {
     "name": "stdout",
     "output_type": "stream",
     "text": [
      "Epoch 1/100\n",
      "363/363 [==============================] - 1s 2ms/step - loss: 0.3320 - output_1_loss: 0.3260 - output_2_loss: 0.3863 - output_1_root_mean_squared_error: 0.5710 - output_2_root_mean_squared_error: 0.6215 - val_loss: 0.6457 - val_output_1_loss: 0.6679 - val_output_2_loss: 0.4462 - val_output_1_root_mean_squared_error: 0.8173 - val_output_2_root_mean_squared_error: 0.6679\n",
      "Epoch 2/100\n",
      "363/363 [==============================] - 1s 2ms/step - loss: 0.3355 - output_1_loss: 0.3297 - output_2_loss: 0.3869 - output_1_root_mean_squared_error: 0.5742 - output_2_root_mean_squared_error: 0.6220 - val_loss: 1.2765 - val_output_1_loss: 1.2474 - val_output_2_loss: 1.5386 - val_output_1_root_mean_squared_error: 1.1169 - val_output_2_root_mean_squared_error: 1.2404\n",
      "Epoch 3/100\n",
      "363/363 [==============================] - 1s 2ms/step - loss: 0.3422 - output_1_loss: 0.3369 - output_2_loss: 0.3893 - output_1_root_mean_squared_error: 0.5804 - output_2_root_mean_squared_error: 0.6239 - val_loss: 0.5787 - val_output_1_loss: 0.5959 - val_output_2_loss: 0.4240 - val_output_1_root_mean_squared_error: 0.7719 - val_output_2_root_mean_squared_error: 0.6511\n",
      "Epoch 4/100\n",
      "363/363 [==============================] - 1s 2ms/step - loss: 0.3315 - output_1_loss: 0.3255 - output_2_loss: 0.3854 - output_1_root_mean_squared_error: 0.5705 - output_2_root_mean_squared_error: 0.6208 - val_loss: 0.7770 - val_output_1_loss: 0.7527 - val_output_2_loss: 0.9959 - val_output_1_root_mean_squared_error: 0.8676 - val_output_2_root_mean_squared_error: 0.9980\n",
      "Epoch 5/100\n",
      "363/363 [==============================] - 1s 2ms/step - loss: 0.3305 - output_1_loss: 0.3248 - output_2_loss: 0.3815 - output_1_root_mean_squared_error: 0.5699 - output_2_root_mean_squared_error: 0.6177 - val_loss: 0.8724 - val_output_1_loss: 0.9081 - val_output_2_loss: 0.5508 - val_output_1_root_mean_squared_error: 0.9530 - val_output_2_root_mean_squared_error: 0.7422\n",
      "Epoch 6/100\n",
      "363/363 [==============================] - 1s 2ms/step - loss: 0.3308 - output_1_loss: 0.3253 - output_2_loss: 0.3806 - output_1_root_mean_squared_error: 0.5703 - output_2_root_mean_squared_error: 0.6169 - val_loss: 1.0179 - val_output_1_loss: 1.0239 - val_output_2_loss: 0.9635 - val_output_1_root_mean_squared_error: 1.0119 - val_output_2_root_mean_squared_error: 0.9816\n",
      "Epoch 7/100\n",
      "363/363 [==============================] - 1s 2ms/step - loss: 0.3320 - output_1_loss: 0.3265 - output_2_loss: 0.3817 - output_1_root_mean_squared_error: 0.5714 - output_2_root_mean_squared_error: 0.6178 - val_loss: 0.5222 - val_output_1_loss: 0.5366 - val_output_2_loss: 0.3921 - val_output_1_root_mean_squared_error: 0.7326 - val_output_2_root_mean_squared_error: 0.6262\n",
      "Epoch 8/100\n",
      "363/363 [==============================] - 1s 2ms/step - loss: 0.3250 - output_1_loss: 0.3193 - output_2_loss: 0.3765 - output_1_root_mean_squared_error: 0.5651 - output_2_root_mean_squared_error: 0.6136 - val_loss: 0.6536 - val_output_1_loss: 0.6408 - val_output_2_loss: 0.7687 - val_output_1_root_mean_squared_error: 0.8005 - val_output_2_root_mean_squared_error: 0.8768\n",
      "Epoch 9/100\n",
      "363/363 [==============================] - 1s 2ms/step - loss: 0.3246 - output_1_loss: 0.3187 - output_2_loss: 0.3772 - output_1_root_mean_squared_error: 0.5646 - output_2_root_mean_squared_error: 0.6142 - val_loss: 0.3665 - val_output_1_loss: 0.3670 - val_output_2_loss: 0.3619 - val_output_1_root_mean_squared_error: 0.6058 - val_output_2_root_mean_squared_error: 0.6016\n",
      "Epoch 10/100\n",
      "363/363 [==============================] - 1s 2ms/step - loss: 0.3238 - output_1_loss: 0.3183 - output_2_loss: 0.3740 - output_1_root_mean_squared_error: 0.5641 - output_2_root_mean_squared_error: 0.6115 - val_loss: 0.6292 - val_output_1_loss: 0.6118 - val_output_2_loss: 0.7859 - val_output_1_root_mean_squared_error: 0.7822 - val_output_2_root_mean_squared_error: 0.8865\n",
      "Epoch 11/100\n",
      "363/363 [==============================] - 1s 2ms/step - loss: 0.3221 - output_1_loss: 0.3165 - output_2_loss: 0.3733 - output_1_root_mean_squared_error: 0.5625 - output_2_root_mean_squared_error: 0.6110 - val_loss: 0.3923 - val_output_1_loss: 0.3957 - val_output_2_loss: 0.3616 - val_output_1_root_mean_squared_error: 0.6290 - val_output_2_root_mean_squared_error: 0.6013\n",
      "Epoch 12/100\n",
      "363/363 [==============================] - 1s 1ms/step - loss: 0.3314 - output_1_loss: 0.3265 - output_2_loss: 0.3755 - output_1_root_mean_squared_error: 0.5714 - output_2_root_mean_squared_error: 0.6128 - val_loss: 1.3318 - val_output_1_loss: 1.3016 - val_output_2_loss: 1.6035 - val_output_1_root_mean_squared_error: 1.1409 - val_output_2_root_mean_squared_error: 1.2663\n",
      "Epoch 13/100\n",
      "363/363 [==============================] - 1s 2ms/step - loss: 0.3260 - output_1_loss: 0.3203 - output_2_loss: 0.3775 - output_1_root_mean_squared_error: 0.5659 - output_2_root_mean_squared_error: 0.6144 - val_loss: 0.4219 - val_output_1_loss: 0.4283 - val_output_2_loss: 0.3648 - val_output_1_root_mean_squared_error: 0.6544 - val_output_2_root_mean_squared_error: 0.6040\n",
      "Epoch 14/100\n",
      "363/363 [==============================] - 1s 2ms/step - loss: 0.3218 - output_1_loss: 0.3163 - output_2_loss: 0.3716 - output_1_root_mean_squared_error: 0.5624 - output_2_root_mean_squared_error: 0.6096 - val_loss: 0.4640 - val_output_1_loss: 0.4496 - val_output_2_loss: 0.5940 - val_output_1_root_mean_squared_error: 0.6705 - val_output_2_root_mean_squared_error: 0.7707\n",
      "Epoch 15/100\n",
      "363/363 [==============================] - 1s 2ms/step - loss: 0.3208 - output_1_loss: 0.3153 - output_2_loss: 0.3699 - output_1_root_mean_squared_error: 0.5615 - output_2_root_mean_squared_error: 0.6082 - val_loss: 0.3483 - val_output_1_loss: 0.3460 - val_output_2_loss: 0.3686 - val_output_1_root_mean_squared_error: 0.5882 - val_output_2_root_mean_squared_error: 0.6071\n",
      "Epoch 16/100\n",
      "363/363 [==============================] - 1s 2ms/step - loss: 0.3179 - output_1_loss: 0.3123 - output_2_loss: 0.3682 - output_1_root_mean_squared_error: 0.5588 - output_2_root_mean_squared_error: 0.6068 - val_loss: 0.3846 - val_output_1_loss: 0.3680 - val_output_2_loss: 0.5340 - val_output_1_root_mean_squared_error: 0.6066 - val_output_2_root_mean_squared_error: 0.7308\n",
      "Epoch 17/100\n",
      "363/363 [==============================] - 1s 2ms/step - loss: 0.3196 - output_1_loss: 0.3139 - output_2_loss: 0.3710 - output_1_root_mean_squared_error: 0.5603 - output_2_root_mean_squared_error: 0.6091 - val_loss: 0.3112 - val_output_1_loss: 0.3049 - val_output_2_loss: 0.3684 - val_output_1_root_mean_squared_error: 0.5522 - val_output_2_root_mean_squared_error: 0.6069\n",
      "Epoch 18/100\n",
      "363/363 [==============================] - 1s 2ms/step - loss: 0.3165 - output_1_loss: 0.3111 - output_2_loss: 0.3648 - output_1_root_mean_squared_error: 0.5578 - output_2_root_mean_squared_error: 0.6040 - val_loss: 1.1811 - val_output_1_loss: 1.1985 - val_output_2_loss: 1.0247 - val_output_1_root_mean_squared_error: 1.0948 - val_output_2_root_mean_squared_error: 1.0123\n",
      "Epoch 19/100\n",
      "363/363 [==============================] - 1s 2ms/step - loss: 0.3218 - output_1_loss: 0.3167 - output_2_loss: 0.3675 - output_1_root_mean_squared_error: 0.5628 - output_2_root_mean_squared_error: 0.6062 - val_loss: 1.1217 - val_output_1_loss: 1.1782 - val_output_2_loss: 0.6131 - val_output_1_root_mean_squared_error: 1.0854 - val_output_2_root_mean_squared_error: 0.7830\n",
      "Epoch 20/100\n",
      "363/363 [==============================] - 1s 2ms/step - loss: 0.3259 - output_1_loss: 0.3211 - output_2_loss: 0.3688 - output_1_root_mean_squared_error: 0.5666 - output_2_root_mean_squared_error: 0.6073 - val_loss: 0.5599 - val_output_1_loss: 0.5390 - val_output_2_loss: 0.7479 - val_output_1_root_mean_squared_error: 0.7342 - val_output_2_root_mean_squared_error: 0.8648\n",
      "Epoch 21/100\n",
      "363/363 [==============================] - 1s 2ms/step - loss: 0.3163 - output_1_loss: 0.3111 - output_2_loss: 0.3633 - output_1_root_mean_squared_error: 0.5577 - output_2_root_mean_squared_error: 0.6027 - val_loss: 0.3257 - val_output_1_loss: 0.3108 - val_output_2_loss: 0.4601 - val_output_1_root_mean_squared_error: 0.5575 - val_output_2_root_mean_squared_error: 0.6783\n",
      "Epoch 22/100\n",
      "363/363 [==============================] - 1s 1ms/step - loss: 0.3153 - output_1_loss: 0.3101 - output_2_loss: 0.3621 - output_1_root_mean_squared_error: 0.5568 - output_2_root_mean_squared_error: 0.6017 - val_loss: 0.3806 - val_output_1_loss: 0.3653 - val_output_2_loss: 0.5186 - val_output_1_root_mean_squared_error: 0.6044 - val_output_2_root_mean_squared_error: 0.7201\n",
      "Epoch 23/100\n",
      "363/363 [==============================] - 1s 2ms/step - loss: 0.3124 - output_1_loss: 0.3071 - output_2_loss: 0.3606 - output_1_root_mean_squared_error: 0.5541 - output_2_root_mean_squared_error: 0.6005 - val_loss: 0.3303 - val_output_1_loss: 0.3138 - val_output_2_loss: 0.4791 - val_output_1_root_mean_squared_error: 0.5601 - val_output_2_root_mean_squared_error: 0.6922\n",
      "Epoch 24/100\n",
      "363/363 [==============================] - 1s 2ms/step - loss: 0.3169 - output_1_loss: 0.3118 - output_2_loss: 0.3627 - output_1_root_mean_squared_error: 0.5584 - output_2_root_mean_squared_error: 0.6022 - val_loss: 0.5696 - val_output_1_loss: 0.5520 - val_output_2_loss: 0.7278 - val_output_1_root_mean_squared_error: 0.7430 - val_output_2_root_mean_squared_error: 0.8531\n",
      "Epoch 25/100\n",
      "363/363 [==============================] - 1s 2ms/step - loss: 0.3129 - output_1_loss: 0.3076 - output_2_loss: 0.3611 - output_1_root_mean_squared_error: 0.5546 - output_2_root_mean_squared_error: 0.6009 - val_loss: 0.3129 - val_output_1_loss: 0.3018 - val_output_2_loss: 0.4135 - val_output_1_root_mean_squared_error: 0.5493 - val_output_2_root_mean_squared_error: 0.6431\n",
      "Epoch 26/100\n",
      "363/363 [==============================] - 1s 2ms/step - loss: 0.3121 - output_1_loss: 0.3066 - output_2_loss: 0.3608 - output_1_root_mean_squared_error: 0.5538 - output_2_root_mean_squared_error: 0.6006 - val_loss: 0.4928 - val_output_1_loss: 0.4740 - val_output_2_loss: 0.6625 - val_output_1_root_mean_squared_error: 0.6885 - val_output_2_root_mean_squared_error: 0.8140\n",
      "Epoch 27/100\n",
      "363/363 [==============================] - 1s 2ms/step - loss: 0.3110 - output_1_loss: 0.3057 - output_2_loss: 0.3590 - output_1_root_mean_squared_error: 0.5529 - output_2_root_mean_squared_error: 0.5992 - val_loss: 0.3072 - val_output_1_loss: 0.2987 - val_output_2_loss: 0.3831 - val_output_1_root_mean_squared_error: 0.5466 - val_output_2_root_mean_squared_error: 0.6189\n",
      "Epoch 28/100\n",
      "363/363 [==============================] - 1s 2ms/step - loss: 0.3113 - output_1_loss: 0.3062 - output_2_loss: 0.3572 - output_1_root_mean_squared_error: 0.5534 - output_2_root_mean_squared_error: 0.5977 - val_loss: 0.6004 - val_output_1_loss: 0.5841 - val_output_2_loss: 0.7475 - val_output_1_root_mean_squared_error: 0.7642 - val_output_2_root_mean_squared_error: 0.8646\n",
      "Epoch 29/100\n",
      "363/363 [==============================] - 1s 2ms/step - loss: 0.3158 - output_1_loss: 0.3109 - output_2_loss: 0.3601 - output_1_root_mean_squared_error: 0.5576 - output_2_root_mean_squared_error: 0.6001 - val_loss: 0.4104 - val_output_1_loss: 0.4163 - val_output_2_loss: 0.3574 - val_output_1_root_mean_squared_error: 0.6452 - val_output_2_root_mean_squared_error: 0.5978\n",
      "Epoch 30/100\n",
      "363/363 [==============================] - 1s 1ms/step - loss: 0.3104 - output_1_loss: 0.3053 - output_2_loss: 0.3555 - output_1_root_mean_squared_error: 0.5526 - output_2_root_mean_squared_error: 0.5962 - val_loss: 0.6060 - val_output_1_loss: 0.5950 - val_output_2_loss: 0.7053 - val_output_1_root_mean_squared_error: 0.7713 - val_output_2_root_mean_squared_error: 0.8398\n",
      "Epoch 31/100\n",
      "363/363 [==============================] - 1s 2ms/step - loss: 0.3151 - output_1_loss: 0.3103 - output_2_loss: 0.3580 - output_1_root_mean_squared_error: 0.5570 - output_2_root_mean_squared_error: 0.5983 - val_loss: 0.3027 - val_output_1_loss: 0.2951 - val_output_2_loss: 0.3714 - val_output_1_root_mean_squared_error: 0.5432 - val_output_2_root_mean_squared_error: 0.6094\n",
      "Epoch 32/100\n",
      "363/363 [==============================] - 1s 2ms/step - loss: 0.3094 - output_1_loss: 0.3045 - output_2_loss: 0.3537 - output_1_root_mean_squared_error: 0.5518 - output_2_root_mean_squared_error: 0.5947 - val_loss: 0.4341 - val_output_1_loss: 0.4152 - val_output_2_loss: 0.6041 - val_output_1_root_mean_squared_error: 0.6443 - val_output_2_root_mean_squared_error: 0.7772\n",
      "Epoch 33/100\n",
      "363/363 [==============================] - 1s 2ms/step - loss: 0.3069 - output_1_loss: 0.3017 - output_2_loss: 0.3530 - output_1_root_mean_squared_error: 0.5493 - output_2_root_mean_squared_error: 0.5942 - val_loss: 0.3258 - val_output_1_loss: 0.3217 - val_output_2_loss: 0.3633 - val_output_1_root_mean_squared_error: 0.5672 - val_output_2_root_mean_squared_error: 0.6027\n",
      "Epoch 34/100\n",
      "363/363 [==============================] - 1s 2ms/step - loss: 0.3054 - output_1_loss: 0.3004 - output_2_loss: 0.3510 - output_1_root_mean_squared_error: 0.5481 - output_2_root_mean_squared_error: 0.5925 - val_loss: 0.3795 - val_output_1_loss: 0.3656 - val_output_2_loss: 0.5043 - val_output_1_root_mean_squared_error: 0.6047 - val_output_2_root_mean_squared_error: 0.7101\n",
      "Epoch 35/100\n",
      "363/363 [==============================] - 1s 2ms/step - loss: 0.3080 - output_1_loss: 0.3030 - output_2_loss: 0.3529 - output_1_root_mean_squared_error: 0.5505 - output_2_root_mean_squared_error: 0.5941 - val_loss: 0.3070 - val_output_1_loss: 0.2972 - val_output_2_loss: 0.3951 - val_output_1_root_mean_squared_error: 0.5452 - val_output_2_root_mean_squared_error: 0.6286\n",
      "Epoch 36/100\n",
      "363/363 [==============================] - 1s 2ms/step - loss: 0.3057 - output_1_loss: 0.3006 - output_2_loss: 0.3520 - output_1_root_mean_squared_error: 0.5482 - output_2_root_mean_squared_error: 0.5933 - val_loss: 0.4023 - val_output_1_loss: 0.4057 - val_output_2_loss: 0.3710 - val_output_1_root_mean_squared_error: 0.6370 - val_output_2_root_mean_squared_error: 0.6091\n",
      "Epoch 37/100\n",
      "363/363 [==============================] - 1s 1ms/step - loss: 0.3065 - output_1_loss: 0.3015 - output_2_loss: 0.3510 - output_1_root_mean_squared_error: 0.5491 - output_2_root_mean_squared_error: 0.5924 - val_loss: 0.9175 - val_output_1_loss: 0.9165 - val_output_2_loss: 0.9259 - val_output_1_root_mean_squared_error: 0.9574 - val_output_2_root_mean_squared_error: 0.9623\n",
      "Epoch 38/100\n",
      "363/363 [==============================] - 1s 2ms/step - loss: 0.3078 - output_1_loss: 0.3028 - output_2_loss: 0.3523 - output_1_root_mean_squared_error: 0.5503 - output_2_root_mean_squared_error: 0.5936 - val_loss: 0.4383 - val_output_1_loss: 0.4478 - val_output_2_loss: 0.3535 - val_output_1_root_mean_squared_error: 0.6692 - val_output_2_root_mean_squared_error: 0.5946\n",
      "Epoch 39/100\n",
      "363/363 [==============================] - 1s 2ms/step - loss: 0.3097 - output_1_loss: 0.3049 - output_2_loss: 0.3531 - output_1_root_mean_squared_error: 0.5522 - output_2_root_mean_squared_error: 0.5942 - val_loss: 0.5772 - val_output_1_loss: 0.5519 - val_output_2_loss: 0.8050 - val_output_1_root_mean_squared_error: 0.7429 - val_output_2_root_mean_squared_error: 0.8972\n",
      "Epoch 40/100\n",
      "363/363 [==============================] - 1s 2ms/step - loss: 0.3053 - output_1_loss: 0.3003 - output_2_loss: 0.3508 - output_1_root_mean_squared_error: 0.5480 - output_2_root_mean_squared_error: 0.5923 - val_loss: 0.3189 - val_output_1_loss: 0.3151 - val_output_2_loss: 0.3525 - val_output_1_root_mean_squared_error: 0.5614 - val_output_2_root_mean_squared_error: 0.5938\n",
      "Epoch 41/100\n",
      "363/363 [==============================] - 1s 2ms/step - loss: 0.3054 - output_1_loss: 0.3006 - output_2_loss: 0.3488 - output_1_root_mean_squared_error: 0.5482 - output_2_root_mean_squared_error: 0.5906 - val_loss: 0.4895 - val_output_1_loss: 0.4648 - val_output_2_loss: 0.7114 - val_output_1_root_mean_squared_error: 0.6818 - val_output_2_root_mean_squared_error: 0.8434\n"
     ]
    }
   ],
   "source": [
    "checkpoint_cb = tf.keras.callbacks.ModelCheckpoint(\n",
    "    \"my_checkpoints\",\n",
    "    save_weights_only=True\n",
    ")\n",
    "early_stopping_cb = tf.keras.callbacks.EarlyStopping(\n",
    "    patience=10,\n",
    "    restore_best_weights=True\n",
    ")\n",
    "\n",
    "history = model.fit(\n",
    "    (X_train_wide, X_train_deep), (y_train, y_train), \n",
    "    epochs=100,\n",
    "    validation_data=((X_valid_wide, X_valid_deep), (y_valid, y_valid)),\n",
    "    callbacks=[checkpoint_cb, early_stopping_cb]\n",
    ")"
   ]
  },
  {
   "cell_type": "code",
   "execution_count": 50,
   "id": "5f7b7162-bfb4-4a37-8791-b011e2422e88",
   "metadata": {},
   "outputs": [
    {
     "data": {
      "text/plain": [
       "<AxesSubplot: >"
      ]
     },
     "execution_count": 50,
     "metadata": {},
     "output_type": "execute_result"
    },
    {
     "data": {
      "image/png": "[encoded data removed]",
      "text/plain": [
       "<Figure size 640x480 with 1 Axes>"
      ]
     },
     "metadata": {},
     "output_type": "display_data"
    }
   ],
   "source": [
    "sns.lineplot(history.history[\"loss\"])\n",
    "sns.lineplot(history.history[\"val_loss\"])\n",
    "sns.lineplot(history.history[\"val_output_1_loss\"])\n",
    "sns.lineplot(history.history[\"val_output_2_loss\"])"
   ]
  },
  {
   "cell_type": "code",
   "execution_count": 51,
   "id": "bcab80f9-7f7f-44fa-a70f-b712c48e5a27",
   "metadata": {},
   "outputs": [],
   "source": [
    "class PrintValTrainRatioCallback(tf.keras.callbacks.Callback):\n",
    "    def on_epoch_end(self, epoch, logs):\n",
    "        ratio = logs[\"val_loss\"] / logs[\"loss\"]\n",
    "        print(f\"\\n*** Epoch={epoch}, val/train={ratio:.2f} \\n\")"
   ]
  },
  {
   "cell_type": "code",
   "execution_count": 52,
   "id": "c3003ff6-eb0a-41d9-9a4e-17c09da3afb7",
   "metadata": {
    "scrolled": true,
    "tags": []
   },
   "outputs": [
    {
     "name": "stdout",
     "output_type": "stream",
     "text": [
      "Epoch 1/10\n",
      "358/363 [============================>.] - ETA: 0s - loss: 0.3071 - output_1_loss: 0.3020 - output_2_loss: 0.3528 - output_1_root_mean_squared_error: 0.5496 - output_2_root_mean_squared_error: 0.5940\n",
      "*** Epoch=0, val/train=1.01 \n",
      "\n",
      "363/363 [==============================] - 1s 2ms/step - loss: 0.3076 - output_1_loss: 0.3025 - output_2_loss: 0.3536 - output_1_root_mean_squared_error: 0.5500 - output_2_root_mean_squared_error: 0.5946 - val_loss: 0.3109 - val_output_1_loss: 0.2992 - val_output_2_loss: 0.4164 - val_output_1_root_mean_squared_error: 0.5470 - val_output_2_root_mean_squared_error: 0.6453\n",
      "Epoch 2/10\n",
      "354/363 [============================>.] - ETA: 0s - loss: 0.3103 - output_1_loss: 0.3053 - output_2_loss: 0.3551 - output_1_root_mean_squared_error: 0.5525 - output_2_root_mean_squared_error: 0.5959\n",
      "*** Epoch=1, val/train=1.60 \n",
      "\n",
      "363/363 [==============================] - 1s 1ms/step - loss: 0.3092 - output_1_loss: 0.3042 - output_2_loss: 0.3541 - output_1_root_mean_squared_error: 0.5516 - output_2_root_mean_squared_error: 0.5951 - val_loss: 0.4954 - val_output_1_loss: 0.4771 - val_output_2_loss: 0.6597 - val_output_1_root_mean_squared_error: 0.6908 - val_output_2_root_mean_squared_error: 0.8122\n",
      "Epoch 3/10\n",
      "348/363 [===========================>..] - ETA: 0s - loss: 0.3120 - output_1_loss: 0.3069 - output_2_loss: 0.3579 - output_1_root_mean_squared_error: 0.5540 - output_2_root_mean_squared_error: 0.5982\n",
      "*** Epoch=2, val/train=0.98 \n",
      "\n",
      "363/363 [==============================] - 1s 2ms/step - loss: 0.3097 - output_1_loss: 0.3048 - output_2_loss: 0.3544 - output_1_root_mean_squared_error: 0.5521 - output_2_root_mean_squared_error: 0.5953 - val_loss: 0.3045 - val_output_1_loss: 0.2983 - val_output_2_loss: 0.3603 - val_output_1_root_mean_squared_error: 0.5462 - val_output_2_root_mean_squared_error: 0.6003\n",
      "Epoch 4/10\n",
      "350/363 [===========================>..] - ETA: 0s - loss: 0.3073 - output_1_loss: 0.3022 - output_2_loss: 0.3529 - output_1_root_mean_squared_error: 0.5497 - output_2_root_mean_squared_error: 0.5940\n",
      "*** Epoch=3, val/train=1.31 \n",
      "\n",
      "363/363 [==============================] - 1s 1ms/step - loss: 0.3083 - output_1_loss: 0.3033 - output_2_loss: 0.3539 - output_1_root_mean_squared_error: 0.5507 - output_2_root_mean_squared_error: 0.5949 - val_loss: 0.4047 - val_output_1_loss: 0.3847 - val_output_2_loss: 0.5850 - val_output_1_root_mean_squared_error: 0.6202 - val_output_2_root_mean_squared_error: 0.7648\n",
      "Epoch 5/10\n",
      "353/363 [============================>.] - ETA: 0s - loss: 0.3083 - output_1_loss: 0.3034 - output_2_loss: 0.3527 - output_1_root_mean_squared_error: 0.5508 - output_2_root_mean_squared_error: 0.5939\n",
      "*** Epoch=4, val/train=1.71 \n",
      "\n",
      "363/363 [==============================] - 1s 1ms/step - loss: 0.3093 - output_1_loss: 0.3044 - output_2_loss: 0.3529 - output_1_root_mean_squared_error: 0.5518 - output_2_root_mean_squared_error: 0.5941 - val_loss: 0.5294 - val_output_1_loss: 0.5426 - val_output_2_loss: 0.4107 - val_output_1_root_mean_squared_error: 0.7366 - val_output_2_root_mean_squared_error: 0.6409\n",
      "Epoch 6/10\n",
      "359/363 [============================>.] - ETA: 0s - loss: 0.3065 - output_1_loss: 0.3016 - output_2_loss: 0.3509 - output_1_root_mean_squared_error: 0.5491 - output_2_root_mean_squared_error: 0.5924\n",
      "*** Epoch=5, val/train=1.99 \n",
      "\n",
      "363/363 [==============================] - 1s 1ms/step - loss: 0.3073 - output_1_loss: 0.3024 - output_2_loss: 0.3515 - output_1_root_mean_squared_error: 0.5499 - output_2_root_mean_squared_error: 0.5929 - val_loss: 0.6128 - val_output_1_loss: 0.6079 - val_output_2_loss: 0.6568 - val_output_1_root_mean_squared_error: 0.7797 - val_output_2_root_mean_squared_error: 0.8105\n",
      "Epoch 7/10\n",
      "355/363 [============================>.] - ETA: 0s - loss: 0.3074 - output_1_loss: 0.3024 - output_2_loss: 0.3523 - output_1_root_mean_squared_error: 0.5499 - output_2_root_mean_squared_error: 0.5935\n",
      "*** Epoch=6, val/train=1.01 \n",
      "\n",
      "363/363 [==============================] - 1s 1ms/step - loss: 0.3076 - output_1_loss: 0.3027 - output_2_loss: 0.3522 - output_1_root_mean_squared_error: 0.5502 - output_2_root_mean_squared_error: 0.5935 - val_loss: 0.3107 - val_output_1_loss: 0.3031 - val_output_2_loss: 0.3784 - val_output_1_root_mean_squared_error: 0.5506 - val_output_2_root_mean_squared_error: 0.6152\n",
      "Epoch 8/10\n",
      "358/363 [============================>.] - ETA: 0s - loss: 0.3028 - output_1_loss: 0.2977 - output_2_loss: 0.3487 - output_1_root_mean_squared_error: 0.5456 - output_2_root_mean_squared_error: 0.5905\n",
      "*** Epoch=7, val/train=1.81 \n",
      "\n",
      "363/363 [==============================] - 1s 1ms/step - loss: 0.3035 - output_1_loss: 0.2985 - output_2_loss: 0.3484 - output_1_root_mean_squared_error: 0.5464 - output_2_root_mean_squared_error: 0.5903 - val_loss: 0.5479 - val_output_1_loss: 0.5249 - val_output_2_loss: 0.7550 - val_output_1_root_mean_squared_error: 0.7245 - val_output_2_root_mean_squared_error: 0.8689\n",
      "Epoch 9/10\n",
      "349/363 [===========================>..] - ETA: 0s - loss: 0.3064 - output_1_loss: 0.3013 - output_2_loss: 0.3520 - output_1_root_mean_squared_error: 0.5489 - output_2_root_mean_squared_error: 0.5933\n",
      "*** Epoch=8, val/train=1.13 \n",
      "\n",
      "363/363 [==============================] - 1s 1ms/step - loss: 0.3037 - output_1_loss: 0.2986 - output_2_loss: 0.3496 - output_1_root_mean_squared_error: 0.5465 - output_2_root_mean_squared_error: 0.5913 - val_loss: 0.3430 - val_output_1_loss: 0.3431 - val_output_2_loss: 0.3430 - val_output_1_root_mean_squared_error: 0.5857 - val_output_2_root_mean_squared_error: 0.5856\n",
      "Epoch 10/10\n",
      "357/363 [============================>.] - ETA: 0s - loss: 0.3049 - output_1_loss: 0.3000 - output_2_loss: 0.3490 - output_1_root_mean_squared_error: 0.5478 - output_2_root_mean_squared_error: 0.5908\n",
      "*** Epoch=9, val/train=1.58 \n",
      "\n",
      "363/363 [==============================] - 1s 1ms/step - loss: 0.3048 - output_1_loss: 0.2999 - output_2_loss: 0.3483 - output_1_root_mean_squared_error: 0.5477 - output_2_root_mean_squared_error: 0.5902 - val_loss: 0.4816 - val_output_1_loss: 0.4706 - val_output_2_loss: 0.5814 - val_output_1_root_mean_squared_error: 0.6860 - val_output_2_root_mean_squared_error: 0.7625\n"
     ]
    }
   ],
   "source": [
    "val_train_ratio_cb = PrintValTrainRatioCallback()\n",
    "history = model.fit(\n",
    "    (X_train_wide, X_train_deep), (y_train, y_train), \n",
    "    epochs=10,\n",
    "    validation_data=((X_valid_wide, X_valid_deep), (y_valid, y_valid)),\n",
    "    callbacks=[val_train_ratio_cb]\n",
    ")"
   ]
  },
  {
   "cell_type": "markdown",
   "id": "138a14ed-b065-477b-957d-99a273cf3ab4",
   "metadata": {},
   "source": [
    "### Using TensorBoard for Visualization"
   ]
  },
  {
   "cell_type": "code",
   "execution_count": 53,
   "id": "2d34d372-8a80-41fe-b4ce-931ac320c625",
   "metadata": {},
   "outputs": [
    {
     "data": {
      "text/plain": [
       "PosixPath('my_logs/run_2023_05_01_10_47_15')"
      ]
     },
     "execution_count": 53,
     "metadata": {},
     "output_type": "execute_result"
    }
   ],
   "source": [
    "from pathlib import Path\n",
    "from time import strftime\n",
    "\n",
    "def get_run_logdir(root_logdir=\"my_logs\"):\n",
    "    return Path(root_logdir) / strftime(\"run_%Y_%m_%d_%H_%M_%S\")\n",
    "\n",
    "run_logdir = get_run_logdir()\n",
    "run_logdir"
   ]
  },
  {
   "cell_type": "code",
   "execution_count": 54,
   "id": "41d9368a-e3cd-4ef6-9443-64a69230b1f3",
   "metadata": {
    "scrolled": true,
    "tags": []
   },
   "outputs": [
    {
     "name": "stdout",
     "output_type": "stream",
     "text": [
      "Epoch 1/10\n",
      " 92/363 [======>.......................] - ETA: 0s - loss: 0.2933 - output_1_loss: 0.2890 - output_2_loss: 0.3317 - output_1_root_mean_squared_error: 0.5376 - output_2_root_mean_squared_error: 0.5760"
     ]
    },
    {
     "name": "stderr",
     "output_type": "stream",
     "text": [
      "2023-05-01 10:47:15.503647: I tensorflow/core/profiler/lib/profiler_session.cc:101] Profiler session initializing.\n",
      "2023-05-01 10:47:15.503659: I tensorflow/core/profiler/lib/profiler_session.cc:116] Profiler session started.\n",
      "2023-05-01 10:47:15.504086: I tensorflow/core/profiler/lib/profiler_session.cc:128] Profiler session tear down.\n"
     ]
    },
    {
     "name": "stdout",
     "output_type": "stream",
     "text": [
      "253/363 [===================>..........] - ETA: 0s - loss: 0.3022 - output_1_loss: 0.2975 - output_2_loss: 0.3446 - output_1_root_mean_squared_error: 0.5454 - output_2_root_mean_squared_error: 0.5870"
     ]
    },
    {
     "name": "stderr",
     "output_type": "stream",
     "text": [
      "2023-05-01 10:47:15.707357: I tensorflow/core/profiler/lib/profiler_session.cc:101] Profiler session initializing.\n",
      "2023-05-01 10:47:15.707372: I tensorflow/core/profiler/lib/profiler_session.cc:116] Profiler session started.\n",
      "2023-05-01 10:47:15.826688: I tensorflow/core/profiler/lib/profiler_session.cc:67] Profiler session collecting data.\n",
      "2023-05-01 10:47:15.837170: I tensorflow/core/profiler/lib/profiler_session.cc:128] Profiler session tear down.\n",
      "2023-05-01 10:47:15.839688: I tensorflow/core/profiler/rpc/client/save_profile.cc:164] Collecting XSpace to repository: my_logs/run_2023_05_01_10_47_15/plugins/profile/2023_05_01_10_47_15/Mael-FOSSO.local.xplane.pb\n"
     ]
    },
    {
     "name": "stdout",
     "output_type": "stream",
     "text": [
      "363/363 [==============================] - 1s 2ms/step - loss: 0.3028 - output_1_loss: 0.2979 - output_2_loss: 0.3470 - output_1_root_mean_squared_error: 0.5458 - output_2_root_mean_squared_error: 0.5891 - val_loss: 0.3289 - val_output_1_loss: 0.3265 - val_output_2_loss: 0.3506 - val_output_1_root_mean_squared_error: 0.5714 - val_output_2_root_mean_squared_error: 0.5921\n",
      "Epoch 2/10\n",
      "363/363 [==============================] - 1s 1ms/step - loss: 0.3057 - output_1_loss: 0.3010 - output_2_loss: 0.3475 - output_1_root_mean_squared_error: 0.5487 - output_2_root_mean_squared_error: 0.5895 - val_loss: 0.4620 - val_output_1_loss: 0.4472 - val_output_2_loss: 0.5956 - val_output_1_root_mean_squared_error: 0.6687 - val_output_2_root_mean_squared_error: 0.7717\n",
      "Epoch 3/10\n",
      "363/363 [==============================] - 1s 1ms/step - loss: 0.3034 - output_1_loss: 0.2987 - output_2_loss: 0.3459 - output_1_root_mean_squared_error: 0.5465 - output_2_root_mean_squared_error: 0.5882 - val_loss: 0.3090 - val_output_1_loss: 0.2954 - val_output_2_loss: 0.4320 - val_output_1_root_mean_squared_error: 0.5435 - val_output_2_root_mean_squared_error: 0.6572\n",
      "Epoch 4/10\n",
      "363/363 [==============================] - 1s 2ms/step - loss: 0.3012 - output_1_loss: 0.2963 - output_2_loss: 0.3455 - output_1_root_mean_squared_error: 0.5444 - output_2_root_mean_squared_error: 0.5878 - val_loss: 0.3015 - val_output_1_loss: 0.2903 - val_output_2_loss: 0.4024 - val_output_1_root_mean_squared_error: 0.5388 - val_output_2_root_mean_squared_error: 0.6344\n",
      "Epoch 5/10\n",
      "363/363 [==============================] - 1s 1ms/step - loss: 0.3015 - output_1_loss: 0.2968 - output_2_loss: 0.3440 - output_1_root_mean_squared_error: 0.5448 - output_2_root_mean_squared_error: 0.5865 - val_loss: 0.3110 - val_output_1_loss: 0.3071 - val_output_2_loss: 0.3460 - val_output_1_root_mean_squared_error: 0.5541 - val_output_2_root_mean_squared_error: 0.5882\n",
      "Epoch 6/10\n",
      "363/363 [==============================] - 1s 2ms/step - loss: 0.2981 - output_1_loss: 0.2932 - output_2_loss: 0.3416 - output_1_root_mean_squared_error: 0.5415 - output_2_root_mean_squared_error: 0.5845 - val_loss: 0.3758 - val_output_1_loss: 0.3658 - val_output_2_loss: 0.4655 - val_output_1_root_mean_squared_error: 0.6048 - val_output_2_root_mean_squared_error: 0.6823\n",
      "Epoch 7/10\n",
      "363/363 [==============================] - 1s 1ms/step - loss: 0.2995 - output_1_loss: 0.2947 - output_2_loss: 0.3424 - output_1_root_mean_squared_error: 0.5428 - output_2_root_mean_squared_error: 0.5852 - val_loss: 0.3041 - val_output_1_loss: 0.2963 - val_output_2_loss: 0.3737 - val_output_1_root_mean_squared_error: 0.5443 - val_output_2_root_mean_squared_error: 0.6113\n",
      "Epoch 8/10\n",
      "363/363 [==============================] - 1s 1ms/step - loss: 0.2969 - output_1_loss: 0.2921 - output_2_loss: 0.3396 - output_1_root_mean_squared_error: 0.5405 - output_2_root_mean_squared_error: 0.5827 - val_loss: 0.5423 - val_output_1_loss: 0.5209 - val_output_2_loss: 0.7342 - val_output_1_root_mean_squared_error: 0.7218 - val_output_2_root_mean_squared_error: 0.8569\n",
      "Epoch 9/10\n",
      "363/363 [==============================] - 1s 1ms/step - loss: 0.2965 - output_1_loss: 0.2916 - output_2_loss: 0.3404 - output_1_root_mean_squared_error: 0.5400 - output_2_root_mean_squared_error: 0.5834 - val_loss: 0.3725 - val_output_1_loss: 0.3756 - val_output_2_loss: 0.3451 - val_output_1_root_mean_squared_error: 0.6128 - val_output_2_root_mean_squared_error: 0.5874\n",
      "Epoch 10/10\n",
      "363/363 [==============================] - 1s 1ms/step - loss: 0.2988 - output_1_loss: 0.2942 - output_2_loss: 0.3403 - output_1_root_mean_squared_error: 0.5424 - output_2_root_mean_squared_error: 0.5833 - val_loss: 0.5991 - val_output_1_loss: 0.5982 - val_output_2_loss: 0.6076 - val_output_1_root_mean_squared_error: 0.7734 - val_output_2_root_mean_squared_error: 0.7795\n"
     ]
    }
   ],
   "source": [
    "tensorboard_cb = tf.keras.callbacks.TensorBoard(\n",
    "    run_logdir,\n",
    "    profile_batch=(100, 200)\n",
    ")\n",
    "\n",
    "history = model.fit(\n",
    "    (X_train_wide, X_train_deep), (y_train, y_train), \n",
    "    epochs=10,\n",
    "    validation_data=((X_valid_wide, X_valid_deep), (y_valid, y_valid)),\n",
    "    callbacks=[tensorboard_cb]\n",
    ")"
   ]
  },
  {
   "cell_type": "code",
   "execution_count": 55,
   "id": "52cb1848-e0c0-4576-bc82-dafcca5b9c65",
   "metadata": {
    "scrolled": true,
    "tags": []
   },
   "outputs": [
    {
     "name": "stdout",
     "output_type": "stream",
     "text": [
      "Epoch 1/10\n"
     ]
    },
    {
     "name": "stderr",
     "output_type": "stream",
     "text": [
      "2023-05-01 10:47:21.071511: I tensorflow/core/profiler/lib/profiler_session.cc:101] Profiler session initializing.\n",
      "2023-05-01 10:47:21.071522: I tensorflow/core/profiler/lib/profiler_session.cc:116] Profiler session started.\n",
      "2023-05-01 10:47:21.071829: I tensorflow/core/profiler/lib/profiler_session.cc:128] Profiler session tear down.\n"
     ]
    },
    {
     "name": "stdout",
     "output_type": "stream",
     "text": [
      "200/363 [===============>..............] - ETA: 0s - loss: 0.4888 - output_1_loss: 0.4771 - output_2_loss: 0.5946 - output_1_root_mean_squared_error: 0.6907 - output_2_root_mean_squared_error: 0.7711"
     ]
    },
    {
     "name": "stderr",
     "output_type": "stream",
     "text": [
      "2023-05-01 10:47:21.980769: I tensorflow/core/profiler/lib/profiler_session.cc:101] Profiler session initializing.\n",
      "2023-05-01 10:47:21.980784: I tensorflow/core/profiler/lib/profiler_session.cc:116] Profiler session started.\n",
      "2023-05-01 10:47:22.141694: I tensorflow/core/profiler/lib/profiler_session.cc:67] Profiler session collecting data.\n",
      "2023-05-01 10:47:22.163571: I tensorflow/core/profiler/lib/profiler_session.cc:128] Profiler session tear down.\n",
      "2023-05-01 10:47:22.164110: I tensorflow/core/profiler/rpc/client/save_profile.cc:164] Collecting XSpace to repository: my_logs/run_2023_05_01_10_47_21/plugins/profile/2023_05_01_10_47_22/Mael-FOSSO.local.xplane.pb\n"
     ]
    },
    {
     "name": "stdout",
     "output_type": "stream",
     "text": [
      "363/363 [==============================] - 1s 2ms/step - loss: 0.4488 - output_1_loss: 0.4385 - output_2_loss: 0.5420 - output_1_root_mean_squared_error: 0.6622 - output_2_root_mean_squared_error: 0.7362 - val_loss: 0.3682 - val_output_1_loss: 0.3566 - val_output_2_loss: 0.4722 - val_output_1_root_mean_squared_error: 0.5972 - val_output_2_root_mean_squared_error: 0.6872\n",
      "Epoch 2/10\n",
      "363/363 [==============================] - 1s 1ms/step - loss: 0.3733 - output_1_loss: 0.3665 - output_2_loss: 0.4343 - output_1_root_mean_squared_error: 0.6054 - output_2_root_mean_squared_error: 0.6590 - val_loss: 0.8575 - val_output_1_loss: 0.8349 - val_output_2_loss: 1.0615 - val_output_1_root_mean_squared_error: 0.9137 - val_output_2_root_mean_squared_error: 1.0303\n",
      "Epoch 3/10\n",
      "363/363 [==============================] - 1s 1ms/step - loss: 0.3742 - output_1_loss: 0.3676 - output_2_loss: 0.4340 - output_1_root_mean_squared_error: 0.6063 - output_2_root_mean_squared_error: 0.6588 - val_loss: 0.6430 - val_output_1_loss: 0.6388 - val_output_2_loss: 0.6814 - val_output_1_root_mean_squared_error: 0.7992 - val_output_2_root_mean_squared_error: 0.8255\n",
      "Epoch 4/10\n",
      "363/363 [==============================] - 1s 1ms/step - loss: 0.3553 - output_1_loss: 0.3477 - output_2_loss: 0.4236 - output_1_root_mean_squared_error: 0.5896 - output_2_root_mean_squared_error: 0.6509 - val_loss: 1.7879 - val_output_1_loss: 1.7150 - val_output_2_loss: 2.4439 - val_output_1_root_mean_squared_error: 1.3096 - val_output_2_root_mean_squared_error: 1.5633\n",
      "Epoch 5/10\n",
      "363/363 [==============================] - 1s 2ms/step - loss: 0.3601 - output_1_loss: 0.3522 - output_2_loss: 0.4317 - output_1_root_mean_squared_error: 0.5934 - output_2_root_mean_squared_error: 0.6570 - val_loss: 8.7116 - val_output_1_loss: 7.0527 - val_output_2_loss: 23.6423 - val_output_1_root_mean_squared_error: 2.6557 - val_output_2_root_mean_squared_error: 4.8623\n",
      "Epoch 6/10\n",
      "363/363 [==============================] - 1s 2ms/step - loss: 0.4322 - output_1_loss: 0.4128 - output_2_loss: 0.6072 - output_1_root_mean_squared_error: 0.6425 - output_2_root_mean_squared_error: 0.7792 - val_loss: 0.3707 - val_output_1_loss: 0.3530 - val_output_2_loss: 0.5302 - val_output_1_root_mean_squared_error: 0.5942 - val_output_2_root_mean_squared_error: 0.7282\n",
      "Epoch 7/10\n",
      "363/363 [==============================] - 1s 1ms/step - loss: 0.3617 - output_1_loss: 0.3525 - output_2_loss: 0.4448 - output_1_root_mean_squared_error: 0.5937 - output_2_root_mean_squared_error: 0.6669 - val_loss: 1.3399 - val_output_1_loss: 1.3042 - val_output_2_loss: 1.6617 - val_output_1_root_mean_squared_error: 1.1420 - val_output_2_root_mean_squared_error: 1.2891\n",
      "Epoch 8/10\n",
      "363/363 [==============================] - 1s 1ms/step - loss: 0.3481 - output_1_loss: 0.3406 - output_2_loss: 0.4156 - output_1_root_mean_squared_error: 0.5836 - output_2_root_mean_squared_error: 0.6447 - val_loss: 0.3295 - val_output_1_loss: 0.3251 - val_output_2_loss: 0.3691 - val_output_1_root_mean_squared_error: 0.5702 - val_output_2_root_mean_squared_error: 0.6075\n",
      "Epoch 9/10\n",
      "363/363 [==============================] - 1s 2ms/step - loss: 0.3355 - output_1_loss: 0.3291 - output_2_loss: 0.3934 - output_1_root_mean_squared_error: 0.5737 - output_2_root_mean_squared_error: 0.6272 - val_loss: 0.3317 - val_output_1_loss: 0.3192 - val_output_2_loss: 0.4441 - val_output_1_root_mean_squared_error: 0.5650 - val_output_2_root_mean_squared_error: 0.6664\n",
      "Epoch 10/10\n",
      "363/363 [==============================] - 1s 1ms/step - loss: 0.3361 - output_1_loss: 0.3295 - output_2_loss: 0.3961 - output_1_root_mean_squared_error: 0.5740 - output_2_root_mean_squared_error: 0.6294 - val_loss: 0.3632 - val_output_1_loss: 0.3400 - val_output_2_loss: 0.5726 - val_output_1_root_mean_squared_error: 0.5831 - val_output_2_root_mean_squared_error: 0.7567\n"
     ]
    }
   ],
   "source": [
    "tensorboard_cb = tf.keras.callbacks.TensorBoard(\n",
    "    get_run_logdir(),\n",
    "    profile_batch=(100, 200)\n",
    ")\n",
    "\n",
    "optimizer = tf.keras.optimizers.Adam(learning_rate=1e-2)\n",
    "model.compile(\n",
    "    loss=\"mse\",\n",
    "    loss_weights=(0.9, 0.1),\n",
    "    optimizer=optimizer,\n",
    "    metrics=[tf.keras.metrics.RootMeanSquaredError()]\n",
    ")\n",
    "\n",
    "history = model.fit(\n",
    "    (X_train_wide, X_train_deep), (y_train, y_train), \n",
    "    epochs=10,\n",
    "    validation_data=((X_valid_wide, X_valid_deep), (y_valid, y_valid)),\n",
    "    callbacks=[tensorboard_cb]\n",
    ")"
   ]
  },
  {
   "cell_type": "code",
   "execution_count": 56,
   "id": "0b09bdf9-2a0a-44eb-8714-e145ff540183",
   "metadata": {},
   "outputs": [],
   "source": [
    "%load_ext tensorboard"
   ]
  },
  {
   "cell_type": "code",
   "execution_count": 57,
   "id": "1eda0c07-4054-4ce3-a918-b2bcc80e58ba",
   "metadata": {},
   "outputs": [
    {
     "name": "stdout",
     "output_type": "stream",
     "text": [
      "/usr/local/opt/python@3.11/bin/python3.11: Error while finding module specification for 'tensorboard.main' (ModuleNotFoundError: No module named 'tensorboard')\n"
     ]
    }
   ],
   "source": [
    "!python3 -m tensorboard.main --logdir=./my_logs"
   ]
  },
  {
   "cell_type": "markdown",
   "id": "9b095d72-5a04-4714-acee-38a5e6694376",
   "metadata": {},
   "source": [
    "## Fine-Tuning NEural Network Hyperparameters"
   ]
  },
  {
   "cell_type": "code",
   "execution_count": 58,
   "id": "cda24257-aa0b-4173-ab46-53bc6aefad09",
   "metadata": {},
   "outputs": [],
   "source": [
    "(X_train_full, y_train_full), (X_test, y_test) = fashion_mnist\n",
    "X_train, y_train = X_train_full[:-5000], y_train_full[:-5000]\n",
    "X_valid, y_valid = X_train_full[-5000:], y_train_full[-5000:]"
   ]
  },
  {
   "cell_type": "code",
   "execution_count": 59,
   "id": "912092c2-27d6-4855-b8ad-13c812a8c371",
   "metadata": {},
   "outputs": [],
   "source": [
    "tf.keras.backend.clear_session()\n",
    "tf.random.set_seed(42)"
   ]
  },
  {
   "cell_type": "code",
   "execution_count": 60,
   "id": "3d4359ed-b1cb-4afd-ba7c-26ce30411f53",
   "metadata": {},
   "outputs": [],
   "source": [
    "import keras_tuner as kt"
   ]
  },
  {
   "cell_type": "code",
   "execution_count": 61,
   "id": "0c69c224-6b10-431f-bac8-12dcc812f2b7",
   "metadata": {},
   "outputs": [],
   "source": [
    "def build_model(hp):\n",
    "    n_hidden = hp.Int(\"n_hidden\", min_value=0, max_value=8, default=2)\n",
    "    n_neurons = hp.Int(\"n_neurons\", min_value=16, max_value=256)\n",
    "    learning_rate = hp.Float(\"learning_rate\", min_value=1e-4, max_value=1e-2, sampling=\"log\")\n",
    "    optimizer = hp.Choice(\"optimizer\", values=[\"sgd\", \"adam\"])\n",
    "    if optimizer == \"sgd\":\n",
    "        optimizer = tf.keras.optimizers.SGD(learning_rate=learning_rate)\n",
    "    else:\n",
    "        optimizer = tf.keras.optimizers.Adam(learning_rate=learning_rate)\n",
    "        \n",
    "    model = tf.keras.Sequential()\n",
    "    model.add(tf.keras.layers.Flatten())\n",
    "    for _ in range(n_hidden):\n",
    "        model.add(tf.keras.layers.Dense(n_neurons, activation=\"relu\"))\n",
    "    model.add(tf.keras.layers.Dense(10, activation=\"relu\"))\n",
    "    model.compile(\n",
    "        loss=\"sparse_categorical_crossentropy\", # tf.keras.losses.sparse_categorical_crossentropy,\n",
    "        optimizer=optimizer,\n",
    "        metrics=[\"accuracy\"], #[tf.keras.metrics.Accuracy()]\n",
    "    )\n",
    "    \n",
    "    return model"
   ]
  },
  {
   "cell_type": "code",
   "execution_count": 62,
   "id": "06e94a33-8aa1-41cc-ad62-a6375d0b4878",
   "metadata": {},
   "outputs": [
    {
     "data": {
      "text/plain": [
       "((55000, 28, 28), (55000,), (5000, 28, 28), (5000,))"
      ]
     },
     "execution_count": 62,
     "metadata": {},
     "output_type": "execute_result"
    }
   ],
   "source": [
    "X_train.shape, y_train.shape, X_valid.shape, y_valid.shape"
   ]
  },
  {
   "cell_type": "code",
   "execution_count": 63,
   "id": "d374a72c-7c75-4946-b988-a5fa0f536486",
   "metadata": {
    "tags": []
   },
   "outputs": [
    {
     "name": "stdout",
     "output_type": "stream",
     "text": [
      "Trial 5 Complete [00h 00m 29s]\n",
      "val_accuracy: 0.2313999980688095\n",
      "\n",
      "Best val_accuracy So Far: 0.2313999980688095\n",
      "Total elapsed time: 00h 02m 36s\n",
      "INFO:tensorflow:Oracle triggered exit\n"
     ]
    },
    {
     "name": "stderr",
     "output_type": "stream",
     "text": [
      "INFO:tensorflow:Oracle triggered exit\n"
     ]
    }
   ],
   "source": [
    "random_search_tunner = kt.RandomSearch(\n",
    "    build_model,\n",
    "    objective=\"val_accuracy\",\n",
    "    max_trials=5,\n",
    "    overwrite=True,\n",
    "    directory=\"my_fashion_mnist\",\n",
    "    project_name=\"my_rnd_search\",\n",
    "    seed=42\n",
    ")\n",
    "\n",
    "random_search_tunner.search(\n",
    "    X_train, y_train,\n",
    "    epochs=10,\n",
    "    validation_data=(X_valid, y_valid)\n",
    ")"
   ]
  },
  {
   "cell_type": "code",
   "execution_count": 64,
   "id": "5cc9a317-9750-4fcb-b93f-3c7c8b8fb384",
   "metadata": {},
   "outputs": [
    {
     "data": {
      "text/plain": [
       "[<keras.engine.sequential.Sequential at 0x14526c850>,\n",
       " <keras.engine.sequential.Sequential at 0x145204070>,\n",
       " <keras.engine.sequential.Sequential at 0x145356c70>]"
      ]
     },
     "execution_count": 64,
     "metadata": {},
     "output_type": "execute_result"
    }
   ],
   "source": [
    "top3_models = random_search_tunner.get_best_models(num_models=3)\n",
    "top3_models"
   ]
  },
  {
   "cell_type": "code",
   "execution_count": 65,
   "id": "7ee9efe7-f500-4ec5-a52c-fcaa877ec869",
   "metadata": {},
   "outputs": [
    {
     "data": {
      "text/plain": [
       "<keras.engine.sequential.Sequential at 0x14526c850>"
      ]
     },
     "execution_count": 65,
     "metadata": {},
     "output_type": "execute_result"
    }
   ],
   "source": [
    "best_model = top3_models[0]\n",
    "best_model"
   ]
  },
  {
   "cell_type": "code",
   "execution_count": 66,
   "id": "114115d9-383e-4d89-a794-06b83414181b",
   "metadata": {},
   "outputs": [
    {
     "data": {
      "text/plain": [
       "{'n_hidden': 5,\n",
       " 'n_neurons': 70,\n",
       " 'learning_rate': 0.00041268008323824807,\n",
       " 'optimizer': 'sgd'}"
      ]
     },
     "execution_count": 66,
     "metadata": {},
     "output_type": "execute_result"
    }
   ],
   "source": [
    "top3_params = random_search_tunner.get_best_hyperparameters(num_trials=3)\n",
    "top3_params[0].values"
   ]
  },
  {
   "cell_type": "code",
   "execution_count": 67,
   "id": "60b0a840-fa68-424c-928c-d378634c4f08",
   "metadata": {},
   "outputs": [
    {
     "name": "stdout",
     "output_type": "stream",
     "text": [
      "Trial 4 summary\n",
      "Hyperparameters:\n",
      "n_hidden: 5\n",
      "n_neurons: 70\n",
      "learning_rate: 0.00041268008323824807\n",
      "optimizer: sgd\n",
      "Score: 0.2313999980688095\n"
     ]
    }
   ],
   "source": [
    "best_trial = random_search_tunner.oracle.get_best_trials(num_trials=1)[0]\n",
    "best_trial.summary()"
   ]
  },
  {
   "cell_type": "markdown",
   "id": "00a377db-7fda-4cf0-bd0a-22a16d04c5b7",
   "metadata": {},
   "source": [
    "# Exercises"
   ]
  },
  {
   "cell_type": "code",
   "execution_count": 87,
   "id": "3a053a24-a63d-482d-860a-1c69bf2bc16f",
   "metadata": {},
   "outputs": [
    {
     "data": {
      "text/plain": [
       "((60000, 28, 28), (60000,), (10000, 28, 28), (10000,))"
      ]
     },
     "execution_count": 87,
     "metadata": {},
     "output_type": "execute_result"
    }
   ],
   "source": [
    "(x_train_full, y_train_full), (x_test, y_test) = tf.keras.datasets.mnist.load_data()\n",
    "x_train_full.shape, y_train_full.shape, x_test.shape, y_test.shape"
   ]
  },
  {
   "cell_type": "code",
   "execution_count": 88,
   "id": "81908162-3dcc-446b-bae0-9d482d63deb3",
   "metadata": {},
   "outputs": [],
   "source": [
    "x_train, y_train = x_train_full[:-5000], y_train_full[:-5000]\n",
    "x_valid, y_valid = x_train_full[-5000:], y_train_full[-5000:]"
   ]
  },
  {
   "cell_type": "code",
   "execution_count": 89,
   "id": "83cb30d8-0324-4eb8-adeb-ba3f7ab403c6",
   "metadata": {
    "scrolled": true,
    "tags": []
   },
   "outputs": [
    {
     "data": {
      "text/plain": [
       "((55000, 28, 28), (55000,), (5000, 28, 28), (5000,))"
      ]
     },
     "execution_count": 89,
     "metadata": {},
     "output_type": "execute_result"
    }
   ],
   "source": [
    "x_train.shape, y_train.shape, x_valid.shape, y_valid.shape"
   ]
  },
  {
   "cell_type": "code",
   "execution_count": 90,
   "id": "cc2859ae-b862-4a64-8fb8-1c095cdf53fd",
   "metadata": {
    "scrolled": true,
    "tags": []
   },
   "outputs": [],
   "source": [
    "x_train, x_valid, x_test = x_train/255.0, x_valid/255.0, x_test/255.0"
   ]
  },
  {
   "cell_type": "code",
   "execution_count": 130,
   "id": "1bf7eda4-4142-4a6f-b0a3-a237258cc8dd",
   "metadata": {},
   "outputs": [],
   "source": [
    "from IPython.display import clear_output\n",
    "\n",
    "class PlotLogDuringTrainingCallback(tf.keras.callbacks.Callback):\n",
    "    def on_train_begin(self, logs={}):\n",
    "        self.metrics = {}\n",
    "        for metric in logs:\n",
    "            self.metrics[metric] = []\n",
    "            \n",
    "        print(self.metrics)\n",
    "            \n",
    "    def on_epoch_end(self, epoch, logs={}):\n",
    "        # Storing metrics\n",
    "        for metric in logs:\n",
    "            if metric in self.metrics:\n",
    "                self.metrics[metric].append(logs.get(metric))\n",
    "            else:\n",
    "                self.metrics[metric] = [logs.get(metric)]\n",
    "                \n",
    "        # Plotting\n",
    "        metrics = [x for x in logs if 'val' not in x]\n",
    "        \n",
    "        f, axs = plt.subplots(1, len(metrics), figsize=(15, 5))\n",
    "        clear_output(wait=True)\n",
    "        \n",
    "        for i, metric in enumerate(metrics):\n",
    "            axs[i].plot(\n",
    "                range(1, epoch + 2),\n",
    "                self.metrics[metric],\n",
    "                label=metric\n",
    "            )\n",
    "            \n",
    "            if logs['val_' + metric]:\n",
    "                axs[i].plot(\n",
    "                    range(1, epoch + 2),\n",
    "                    self.metrics['val_' + metric],\n",
    "                    label='val_' + metric\n",
    "                )\n",
    "                \n",
    "            axs[i].legend()\n",
    "            axs[i].grid()\n",
    "        \n",
    "        plt.tight_layout()\n",
    "        plt.show()"
   ]
  },
  {
   "cell_type": "code",
   "execution_count": 129,
   "id": "5b929112-f3d8-42dd-a718-34cad16d69d9",
   "metadata": {},
   "outputs": [
    {
     "name": "stdout",
     "output_type": "stream",
     "text": [
      "Model: \"sequential\"\n",
      "_________________________________________________________________\n",
      " Layer (type)                Output Shape              Param #   \n",
      "=================================================================\n",
      " flatten (Flatten)           (None, 784)               0         \n",
      "                                                                 \n",
      " dense (Dense)               (None, 500)               392500    \n",
      "                                                                 \n",
      " dense_1 (Dense)             (None, 500)               250500    \n",
      "                                                                 \n",
      " dense_2 (Dense)             (None, 10)                5010      \n",
      "                                                                 \n",
      "=================================================================\n",
      "Total params: 648,010\n",
      "Trainable params: 648,010\n",
      "Non-trainable params: 0\n",
      "_________________________________________________________________\n"
     ]
    }
   ],
   "source": [
    "tf.keras.backend.clear_session()\n",
    "tf.random.set_seed(42)\n",
    "\n",
    "\n",
    "model = tf.keras.Sequential([\n",
    "    tf.keras.layers.Input(shape=(28, 28)),\n",
    "    tf.keras.layers.Flatten(),\n",
    "    tf.keras.layers.Dense(500, activation=\"relu\"),\n",
    "    tf.keras.layers.Dense(500, activation=\"relu\"),\n",
    "    tf.keras.layers.Dense(10, activation=\"softmax\")\n",
    "])\n",
    "\n",
    "model.summary()"
   ]
  },
  {
   "cell_type": "code",
   "execution_count": 132,
   "id": "2c42293e-f5ac-47e1-9552-c6be98be1d9a",
   "metadata": {
    "tags": []
   },
   "outputs": [
    {
     "data": {
      "image/png": "[encoded data removed]",
      "text/plain": [
       "<Figure size 1500x500 with 2 Axes>"
      ]
     },
     "metadata": {},
     "output_type": "display_data"
    },
    {
     "name": "stdout",
     "output_type": "stream",
     "text": [
      "1719/1719 [==============================] - 6s 3ms/step - loss: 1.1707e-04 - sparse_categorical_accuracy: 1.0000 - val_loss: 0.0784 - val_sparse_categorical_accuracy: 0.9848\n"
     ]
    }
   ],
   "source": [
    "model.compile(\n",
    "    loss=tf.keras.losses.SparseCategoricalCrossentropy(),\n",
    "    optimizer=tf.keras.optimizers.SGD(learning_rate=0.01),\n",
    "    metrics=[tf.keras.metrics.sparse_categorical_accuracy]\n",
    ")\n",
    "\n",
    "history = model.fit(\n",
    "    x_train, y_train,\n",
    "    epochs=50,\n",
    "    validation_data=(x_valid, y_valid),\n",
    "    callbacks=[PlotLogDuringTrainingCallback()]\n",
    ")"
   ]
  },
  {
   "cell_type": "code",
   "execution_count": 133,
   "id": "b1e43fa4-246f-4590-a43f-bcc87f58421a",
   "metadata": {
    "tags": []
   },
   "outputs": [
    {
     "data": {
      "image/png": "[encoded data removed]",
      "text/plain": [
       "<Figure size 800x500 with 1 Axes>"
      ]
     },
     "metadata": {},
     "output_type": "display_data"
    }
   ],
   "source": [
    "pd.DataFrame(history.history).plot(\n",
    "    figsize=(8, 5),\n",
    "    xlim=[0, 29],\n",
    "    ylim=[-1, 2],\n",
    "    grid=True,\n",
    "    xlabel=\"Epoch\",\n",
    "    style=[\"r--\", \"r-*\", \"b-\", \"b-*\"]\n",
    ")\n",
    "plt.show()"
   ]
  },
  {
   "cell_type": "code",
   "execution_count": 107,
   "id": "b3597810-573a-4a6c-832c-e80d0e7c605a",
   "metadata": {},
   "outputs": [
    {
     "name": "stdout",
     "output_type": "stream",
     "text": [
      "313/313 [==============================] - 0s 1ms/step - loss: 0.0821 - sparse_categorical_accuracy: 0.9811\n"
     ]
    },
    {
     "data": {
      "text/plain": [
       "[0.08207842707633972, 0.9811000227928162]"
      ]
     },
     "execution_count": 107,
     "metadata": {},
     "output_type": "execute_result"
    }
   ],
   "source": [
    "model.evaluate(x_test, y_test)"
   ]
  },
  {
   "cell_type": "code",
   "execution_count": 134,
   "id": "ba36323b-5119-476c-a876-8769557e9c80",
   "metadata": {},
   "outputs": [
    {
     "name": "stdout",
     "output_type": "stream",
     "text": [
      "313/313 [==============================] - 0s 2ms/step - loss: 0.0759 - sparse_categorical_accuracy: 0.9828\n"
     ]
    },
    {
     "data": {
      "text/plain": [
       "[0.07592116296291351, 0.9828000068664551]"
      ]
     },
     "execution_count": 134,
     "metadata": {},
     "output_type": "execute_result"
    }
   ],
   "source": [
    "model.evaluate(x_test, y_test)"
   ]
  },
  {
   "cell_type": "code",
   "execution_count": null,
   "id": "ef40a8a8-f5cc-4f7e-b6d4-e0d720e2b06d",
   "metadata": {},
   "outputs": [],
   "source": []
  }
 ],
 "metadata": {
  "kernelspec": {
   "display_name": "Python 3 (ipykernel)",
   "language": "python",
   "name": "python3"
  },
  "language_info": {
   "codemirror_mode": {
    "name": "ipython",
    "version": 3
   },
   "file_extension": ".py",
   "mimetype": "text/x-python",
   "name": "python",
   "nbconvert_exporter": "python",
   "pygments_lexer": "ipython3",
   "version": "3.9.6"
  }
 },
 "nbformat": 4,
 "nbformat_minor": 5
}
