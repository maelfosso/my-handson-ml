{
 "cells": [
  {
   "cell_type": "markdown",
   "id": "d41015bd-f1a4-4b67-b4f5-be04f081edf8",
   "metadata": {},
   "source": [
    "# Python Practise"
   ]
  },
  {
   "cell_type": "markdown",
   "id": "11f998c7-9ffb-4d24-97a6-77a7116b10de",
   "metadata": {},
   "source": [
    "## Log and Power transformations"
   ]
  },
  {
   "cell_type": "code",
   "execution_count": 1,
   "id": "00de33fa-6bdd-46c8-a491-a821297744d4",
   "metadata": {},
   "outputs": [],
   "source": [
    "from scipy.optimize import minimize\n",
    "import numpy as np\n",
    "\n",
    "np.random.seed(0)"
   ]
  },
  {
   "cell_type": "code",
   "execution_count": 9,
   "id": "ad52b0be-4543-47f0-b4a9-28858b851f97",
   "metadata": {},
   "outputs": [
    {
     "name": "stdout",
     "output_type": "stream",
     "text": [
      "[0.14377577 2.09352753 4.03370186 ... 0.77853466 1.79450279 0.28626797]\n",
      "(10000,)\n",
      "(10000, 1)\n"
     ]
    }
   ],
   "source": [
    "pts = 10000\n",
    "vals = np.random.lognormal(0, 1.0, pts)\n",
    "print(vals)\n",
    "print(vals.shape)\n",
    "print(vals.reshape(-1, 1).shape)"
   ]
  },
  {
   "cell_type": "code",
   "execution_count": 5,
   "id": "29406c75-23c9-4f6a-8873-da9bc96a37ec",
   "metadata": {},
   "outputs": [
    {
     "data": {
      "text/plain": [
       "<AxesSubplot: ylabel='Count'>"
      ]
     },
     "execution_count": 5,
     "metadata": {},
     "output_type": "execute_result"
    },
    {
     "data": {
      "image/png": "[encoded data removed]",
      "text/plain": [
       "<Figure size 640x480 with 1 Axes>"
      ]
     },
     "metadata": {},
     "output_type": "display_data"
    }
   ],
   "source": [
    "import seaborn as sns\n",
    "import matplotlib.pyplot as plt\n",
    "\n",
    "sns.histplot(vals)"
   ]
  },
  {
   "cell_type": "code",
   "execution_count": 13,
   "id": "9d9ee98e-28ef-4d50-bb9c-c983b9b8f990",
   "metadata": {},
   "outputs": [
    {
     "name": "stdout",
     "output_type": "stream",
     "text": [
      "significance: [0.]\n"
     ]
    }
   ],
   "source": [
    "from sklearn.preprocessing import StandardScaler\n",
    "from scipy.stats import normaltest\n",
    "\n",
    "scaler = StandardScaler()\n",
    "vals_ss = scaler.fit_transform(vals.reshape(-1, 1))\n",
    "\n",
    "_, p = normaltest(vals_ss)\n",
    "print(\"significance:\", p)"
   ]
  },
  {
   "cell_type": "code",
   "execution_count": 17,
   "id": "9e97d9f9-aea4-4443-b25f-706f11a8f53d",
   "metadata": {},
   "outputs": [
    {
     "data": {
      "text/plain": [
       "<AxesSubplot: ylabel='Count'>"
      ]
     },
     "execution_count": 17,
     "metadata": {},
     "output_type": "execute_result"
    },
    {
     "data": {
      "image/png": "[encoded data removed]",
      "text/plain": [
       "<Figure size 640x480 with 1 Axes>"
      ]
     },
     "metadata": {},
     "output_type": "display_data"
    }
   ],
   "source": [
    "sns.histplot(vals_ss.reshape(-1).shape)"
   ]
  },
  {
   "cell_type": "code",
   "execution_count": 19,
   "id": "8aede4fe-27b8-400a-9fdd-ee85070222aa",
   "metadata": {},
   "outputs": [
    {
     "data": {
      "text/plain": [
       "array([-0.72743369,  0.22940717,  1.18154792, ..., -0.4159257 ,\n",
       "        0.08266076, -0.65750563])"
      ]
     },
     "execution_count": 19,
     "metadata": {},
     "output_type": "execute_result"
    }
   ],
   "source": [
    "vals_ss.reshape(-1)"
   ]
  },
  {
   "cell_type": "code",
   "execution_count": 20,
   "id": "03983824-7554-4baa-bf9c-e3070c8ed35a",
   "metadata": {},
   "outputs": [
    {
     "name": "stdout",
     "output_type": "stream",
     "text": [
      "significance: 0.0\n"
     ]
    }
   ],
   "source": [
    "from sklearn.preprocessing import minmax_scale\n",
    "\n",
    "vals_mm = minmax_scale(vals)\n",
    "_, p = normaltest(vals_mm.squeeze())\n",
    "print(\"significance:\", p)"
   ]
  },
  {
   "cell_type": "code",
   "execution_count": 24,
   "id": "6d2c3d2d-6df3-4153-a00e-da1d6264e82f",
   "metadata": {
    "scrolled": true,
    "tags": []
   },
   "outputs": [
    {
     "ename": "TypeError",
     "evalue": "'data' must be pandas DataFrame object, not: <class 'numpy.ndarray'>",
     "output_type": "error",
     "traceback": [
      "\u001b[0;31m---------------------------------------------------------------------------\u001b[0m",
      "\u001b[0;31mTypeError\u001b[0m                                 Traceback (most recent call last)",
      "Cell \u001b[0;32mIn[24], line 3\u001b[0m\n\u001b[1;32m      1\u001b[0m \u001b[38;5;28;01mfrom\u001b[39;00m \u001b[38;5;21;01mseaborn_qqplot\u001b[39;00m \u001b[38;5;28;01mimport\u001b[39;00m pplot\n\u001b[0;32m----> 3\u001b[0m \u001b[43mpplot\u001b[49m\u001b[43m(\u001b[49m\u001b[43mvals\u001b[49m\u001b[38;5;241;43m.\u001b[39;49m\u001b[43mreshape\u001b[49m\u001b[43m(\u001b[49m\u001b[38;5;241;43m-\u001b[39;49m\u001b[38;5;241;43m1\u001b[39;49m\u001b[43m)\u001b[49m\u001b[43m,\u001b[49m\u001b[43m \u001b[49m\u001b[43mkind\u001b[49m\u001b[38;5;241;43m=\u001b[39;49m\u001b[38;5;124;43m'\u001b[39;49m\u001b[38;5;124;43mqq\u001b[39;49m\u001b[38;5;124;43m'\u001b[39;49m\u001b[43m)\u001b[49m\n",
      "File \u001b[0;32m~/Library/Python/3.9/lib/python/site-packages/seaborn_qqplot/__init__.py:108\u001b[0m, in \u001b[0;36mpplot\u001b[0;34m(data, x, y, hue, hue_order, palette, kind, height, aspect, scale, interpolation, dropna, plot_kws, display_kws)\u001b[0m\n\u001b[1;32m     55\u001b[0m \u001b[38;5;28;01mdef\u001b[39;00m \u001b[38;5;21mpplot\u001b[39m(data, \n\u001b[1;32m     56\u001b[0m         x\u001b[38;5;241m=\u001b[39m\u001b[38;5;28;01mNone\u001b[39;00m, \n\u001b[1;32m     57\u001b[0m         y\u001b[38;5;241m=\u001b[39m\u001b[38;5;28;01mNone\u001b[39;00m, \n\u001b[0;32m   (...)\u001b[0m\n\u001b[1;32m     67\u001b[0m         plot_kws\u001b[38;5;241m=\u001b[39m{},\n\u001b[1;32m     68\u001b[0m         display_kws\u001b[38;5;241m=\u001b[39m{}):\n\u001b[1;32m     69\u001b[0m     \u001b[38;5;124;03m\"\"\"Draw a probability plot of one variable against a probability distribution or\u001b[39;00m\n\u001b[1;32m     70\u001b[0m \u001b[38;5;124;03m    two variables.\u001b[39;00m\n\u001b[1;32m     71\u001b[0m \n\u001b[0;32m   (...)\u001b[0m\n\u001b[1;32m    105\u001b[0m \u001b[38;5;124;03m        :class:`PairGrid` object with the plot on it.\u001b[39;00m\n\u001b[1;32m    106\u001b[0m \u001b[38;5;124;03m    \"\"\"\u001b[39;00m\n\u001b[0;32m--> 108\u001b[0m     validated_data \u001b[38;5;241m=\u001b[39m \u001b[43m_validate_data\u001b[49m\u001b[43m(\u001b[49m\u001b[43mdata\u001b[49m\u001b[43m,\u001b[49m\u001b[43m \u001b[49m\u001b[43mdropna\u001b[49m\u001b[43m)\u001b[49m\n\u001b[1;32m    109\u001b[0m     validated_x, validated_y \u001b[38;5;241m=\u001b[39m _validate_x_and_y(x,y)\n\u001b[1;32m    110\u001b[0m     x_vars \u001b[38;5;241m=\u001b[39m [validated_x]\n",
      "File \u001b[0;32m~/Library/Python/3.9/lib/python/site-packages/seaborn_qqplot/validation.py:39\u001b[0m, in \u001b[0;36m_validate_data\u001b[0;34m(data, dropna)\u001b[0m\n\u001b[1;32m     35\u001b[0m \u001b[38;5;124;03m\"\"\"\u001b[39;00m\n\u001b[1;32m     36\u001b[0m \u001b[38;5;124;03mOnly supports  pandas.DataFrame as input\u001b[39;00m\n\u001b[1;32m     37\u001b[0m \u001b[38;5;124;03m\"\"\"\u001b[39;00m\n\u001b[1;32m     38\u001b[0m \u001b[38;5;28;01mif\u001b[39;00m \u001b[38;5;129;01mnot\u001b[39;00m \u001b[38;5;28misinstance\u001b[39m(data, DataFrame):\n\u001b[0;32m---> 39\u001b[0m     \u001b[38;5;28;01mraise\u001b[39;00m \u001b[38;5;167;01mTypeError\u001b[39;00m(\n\u001b[1;32m     40\u001b[0m         \u001b[38;5;124m\"\u001b[39m\u001b[38;5;124m'\u001b[39m\u001b[38;5;124mdata\u001b[39m\u001b[38;5;124m'\u001b[39m\u001b[38;5;124m must be pandas DataFrame object, not: \u001b[39m\u001b[38;5;132;01m{typefound}\u001b[39;00m\u001b[38;5;124m\"\u001b[39m\u001b[38;5;241m.\u001b[39mformat(\n\u001b[1;32m     41\u001b[0m             typefound\u001b[38;5;241m=\u001b[39m\u001b[38;5;28mtype\u001b[39m(data)))\n\u001b[1;32m     42\u001b[0m \u001b[38;5;28;01mreturn\u001b[39;00m data\u001b[38;5;241m.\u001b[39mcopy()\n",
      "\u001b[0;31mTypeError\u001b[0m: 'data' must be pandas DataFrame object, not: <class 'numpy.ndarray'>"
     ]
    }
   ],
   "source": [
    "from seaborn_qqplot import pplot\n",
    "\n",
    "pplot(vals.reshape(-1), kind='qq')"
   ]
  },
  {
   "cell_type": "code",
   "execution_count": 25,
   "id": "71f7db24-c3a9-43fb-b97a-2518db3e0b6f",
   "metadata": {},
   "outputs": [
    {
     "name": "stdout",
     "output_type": "stream",
     "text": [
      "significance: 0.26975774095900606\n"
     ]
    }
   ],
   "source": [
    "log_transformed = np.log(vals)\n",
    "_, p = normaltest(log_transformed)\n",
    "print(\"significance:\", p)"
   ]
  },
  {
   "cell_type": "code",
   "execution_count": 26,
   "id": "adc5e711-1d2e-40af-bb4c-510b28ae63a6",
   "metadata": {},
   "outputs": [
    {
     "data": {
      "text/plain": [
       "(-0.0038555689325038395, 0.9963606439533336)"
      ]
     },
     "execution_count": 26,
     "metadata": {},
     "output_type": "execute_result"
    }
   ],
   "source": [
    "np.mean(log_transformed), np.std(log_transformed)"
   ]
  },
  {
   "cell_type": "code",
   "execution_count": 27,
   "id": "8120c2d4-8aed-4f56-8ddb-fb27d4b0e7f1",
   "metadata": {},
   "outputs": [
    {
     "data": {
      "text/plain": [
       "<AxesSubplot: ylabel='Count'>"
      ]
     },
     "execution_count": 27,
     "metadata": {},
     "output_type": "execute_result"
    },
    {
     "data": {
      "image/png": "[encoded data removed]",
      "text/plain": [
       "<Figure size 640x480 with 1 Axes>"
      ]
     },
     "metadata": {},
     "output_type": "display_data"
    }
   ],
   "source": [
    "sns.histplot(log_transformed)"
   ]
  },
  {
   "cell_type": "code",
   "execution_count": 29,
   "id": "08a35d47-353b-4873-9371-cd90c757a2ec",
   "metadata": {},
   "outputs": [
    {
     "data": {
      "text/plain": [
       "<AxesSubplot: ylabel='Count'>"
      ]
     },
     "execution_count": 29,
     "metadata": {},
     "output_type": "execute_result"
    },
    {
     "data": {
      "image/png": "[encoded data removed]",
      "text/plain": [
       "<Figure size 640x480 with 1 Axes>"
      ]
     },
     "metadata": {},
     "output_type": "display_data"
    }
   ],
   "source": [
    "from scipy.stats import boxcox\n",
    "\n",
    "vals_bc = boxcox(vals, 0.0)\n",
    "sns.histplot(vals_bc)"
   ]
  },
  {
   "cell_type": "code",
   "execution_count": 30,
   "id": "e6d0dac7-020d-43b7-a3cf-f3a6b12005c7",
   "metadata": {},
   "outputs": [
    {
     "name": "stdout",
     "output_type": "stream",
     "text": [
      "significance: 0.26975774095900606\n"
     ]
    }
   ],
   "source": [
    "_, p = normaltest(vals_bc)\n",
    "print(\"significance:\", p)"
   ]
  },
  {
   "cell_type": "markdown",
   "id": "05357e79-130b-459f-8e85-04e7d7b19850",
   "metadata": {},
   "source": [
    "## Imputation"
   ]
  },
  {
   "cell_type": "code",
   "execution_count": 33,
   "id": "76673073-01fd-4010-b2d3-1a10cb8408af",
   "metadata": {},
   "outputs": [
    {
     "name": "stdout",
     "output_type": "stream",
     "text": [
      "[[ 7.   2.   3. ]\n",
      " [ 4.   3.5  6. ]\n",
      " [10.   3.5  9. ]]\n"
     ]
    }
   ],
   "source": [
    "from sklearn.impute import SimpleImputer\n",
    "\n",
    "imp_mean = SimpleImputer(missing_values=np.nan, strategy='mean')\n",
    "imp_mean.fit([[7, 2, 3], [4, np.nan, 6], [10, 5, 9]])\n",
    "\n",
    "df = [[np.nan, 2, 3], [4, np.nan, 6], [10, np.nan, 9]]\n",
    "print(imp_mean.transform(df))"
   ]
  },
  {
   "cell_type": "code",
   "execution_count": 39,
   "id": "bedd491f-4a03-451e-842d-0bbbd42826ef",
   "metadata": {},
   "outputs": [
    {
     "data": {
      "text/plain": [
       "5.666666666666667"
      ]
     },
     "execution_count": 39,
     "metadata": {},
     "output_type": "execute_result"
    }
   ],
   "source": [
    "np.nanmean(np.array(df).reshape(-1))"
   ]
  },
  {
   "cell_type": "markdown",
   "id": "5e74b1f4-9399-4a06-ad96-e412611fda92",
   "metadata": {},
   "source": [
    "## Holiday Features"
   ]
  },
  {
   "cell_type": "code",
   "execution_count": 42,
   "id": "ca532ee2-b79c-4be9-8609-50f4d41517f2",
   "metadata": {},
   "outputs": [
    {
     "data": {
      "text/plain": [
       "[(datetime.date(2023, 1, 1), 'New year'),\n",
       " (datetime.date(2023, 1, 2), 'New Year shift'),\n",
       " (datetime.date(2023, 4, 7), 'Good Friday'),\n",
       " (datetime.date(2023, 4, 9), 'Easter Sunday'),\n",
       " (datetime.date(2023, 4, 10), 'Easter Monday'),\n",
       " (datetime.date(2023, 5, 1), 'Early May Bank Holiday'),\n",
       " (datetime.date(2023, 5, 29), 'Spring Bank Holiday'),\n",
       " (datetime.date(2023, 8, 28), 'Late Summer Bank Holiday'),\n",
       " (datetime.date(2023, 12, 25), 'Christmas Day'),\n",
       " (datetime.date(2023, 12, 26), 'Boxing Day')]"
      ]
     },
     "execution_count": 42,
     "metadata": {},
     "output_type": "execute_result"
    }
   ],
   "source": [
    "from workalendar.europe.united_kingdom import UnitedKingdom\n",
    "UnitedKingdom().holidays()"
   ]
  },
  {
   "cell_type": "code",
   "execution_count": 44,
   "id": "6130502c-b79b-496e-9346-71cfd86fe306",
   "metadata": {},
   "outputs": [],
   "source": [
    "from typing import List\n",
    "from dateutil.relativedelta import relativedelta, TH\n",
    "import datetime\n",
    "from workalendar.usa import California\n",
    "\n",
    "def create_custom_holidays(year: int) -> List:\n",
    "    custom_holidays = California().holidays()\n",
    "    custom_holidays.append((\n",
    "        (datetime.datetime(year, 11, 1) + relativedelta(weekday=TH(+4))\n",
    "         + datetime.timedelta(days=1)).date(),\n",
    "            \"Black Friday\"\n",
    "    ))\n",
    "    \n",
    "    return {k: v for (k, v) in custom_holidays}\n",
    "\n",
    "custom_holidays = create_custom_holidays(2021)"
   ]
  },
  {
   "cell_type": "code",
   "execution_count": 45,
   "id": "9a6b301e-47de-48d9-814c-7c7bee5320df",
   "metadata": {},
   "outputs": [
    {
     "data": {
      "text/plain": [
       "{datetime.date(2023, 1, 1): 'New year',\n",
       " datetime.date(2023, 1, 2): 'New year (Observed)',\n",
       " datetime.date(2023, 1, 16): 'Birthday of Martin Luther King, Jr.',\n",
       " datetime.date(2023, 2, 20): \"Washington's Birthday\",\n",
       " datetime.date(2023, 3, 31): 'Cesar Chavez Day',\n",
       " datetime.date(2023, 5, 29): 'Memorial Day',\n",
       " datetime.date(2023, 7, 4): 'Independence Day',\n",
       " datetime.date(2023, 9, 4): 'Labor Day',\n",
       " datetime.date(2023, 11, 10): 'Veterans Day (Observed)',\n",
       " datetime.date(2023, 11, 11): 'Veterans Day',\n",
       " datetime.date(2023, 11, 23): 'Thanksgiving Day',\n",
       " datetime.date(2023, 11, 24): 'Thanksgiving Friday',\n",
       " datetime.date(2023, 12, 25): 'Christmas Day',\n",
       " datetime.date(2021, 11, 26): 'Black Friday'}"
      ]
     },
     "execution_count": 45,
     "metadata": {},
     "output_type": "execute_result"
    }
   ],
   "source": [
    "custom_holidays"
   ]
  },
  {
   "cell_type": "code",
   "execution_count": 47,
   "id": "16e73ef2-d823-4765-8b17-bca5da9ae930",
   "metadata": {},
   "outputs": [
    {
     "data": {
      "text/plain": [
       "relativedelta(weekday=TH(+4))"
      ]
     },
     "execution_count": 47,
     "metadata": {},
     "output_type": "execute_result"
    }
   ],
   "source": [
    "relativedelta(weekday = TH(+4))"
   ]
  },
  {
   "cell_type": "code",
   "execution_count": 49,
   "id": "2568e7fc-077f-40d6-bd08-91d2a505ef10",
   "metadata": {},
   "outputs": [
    {
     "data": {
      "text/plain": [
       "[(datetime.date(2023, 1, 1), 'New year'),\n",
       " (datetime.date(2023, 1, 2), 'New year (Observed)'),\n",
       " (datetime.date(2023, 1, 16), 'Birthday of Martin Luther King, Jr.'),\n",
       " (datetime.date(2023, 2, 20), \"Washington's Birthday\"),\n",
       " (datetime.date(2023, 3, 31), 'Cesar Chavez Day'),\n",
       " (datetime.date(2023, 5, 29), 'Memorial Day'),\n",
       " (datetime.date(2023, 7, 4), 'Independence Day'),\n",
       " (datetime.date(2023, 9, 4), 'Labor Day'),\n",
       " (datetime.date(2023, 11, 10), 'Veterans Day (Observed)'),\n",
       " (datetime.date(2023, 11, 11), 'Veterans Day'),\n",
       " (datetime.date(2023, 11, 23), 'Thanksgiving Day'),\n",
       " (datetime.date(2023, 11, 24), 'Thanksgiving Friday'),\n",
       " (datetime.date(2023, 12, 25), 'Christmas Day')]"
      ]
     },
     "execution_count": 49,
     "metadata": {},
     "output_type": "execute_result"
    }
   ],
   "source": [
    "California().holidays()"
   ]
  },
  {
   "cell_type": "code",
   "execution_count": 57,
   "id": "b6a8b543-b4fc-4003-8aac-c823b503f6d1",
   "metadata": {},
   "outputs": [
    {
     "data": {
      "text/plain": [
       "False"
      ]
     },
     "execution_count": 57,
     "metadata": {},
     "output_type": "execute_result"
    }
   ],
   "source": [
    "def is_holiday(current_date: datetime.date):\n",
    "    return custom_holidays.get(current_date, False)\n",
    "\n",
    "\n",
    "today = datetime.date(2023, 3, 29)\n",
    "is_holiday(today)"
   ]
  },
  {
   "cell_type": "markdown",
   "id": "d62e6811-8bd1-42d8-90ec-11f16e901159",
   "metadata": {},
   "source": [
    "## Date Annotation"
   ]
  },
  {
   "cell_type": "code",
   "execution_count": 54,
   "id": "49233d6e-3712-4396-b8a6-906352310b2b",
   "metadata": {},
   "outputs": [
    {
     "data": {
      "text/plain": [
       "(5, 30)"
      ]
     },
     "execution_count": 54,
     "metadata": {},
     "output_type": "execute_result"
    }
   ],
   "source": [
    "import calendar\n",
    "calendar.monthrange(2023, 4)"
   ]
  },
  {
   "cell_type": "code",
   "execution_count": 58,
   "id": "dbc78031-0b3b-4d52-858a-ab142b70aa1b",
   "metadata": {},
   "outputs": [
    {
     "data": {
      "text/plain": [
       "(87, 277)"
      ]
     },
     "execution_count": 58,
     "metadata": {},
     "output_type": "execute_result"
    }
   ],
   "source": [
    "from datetime import date\n",
    "\n",
    "def year_anchor(current_date: datetime.date):\n",
    "    return (\n",
    "        (current_date - date(current_date.year, 1, 1)).days,\n",
    "        (date(current_date.year, 12, 31) - current_date).days\n",
    "    )\n",
    "\n",
    "year_anchor(today)"
   ]
  },
  {
   "cell_type": "code",
   "execution_count": 64,
   "id": "2435bbe5-2c21-4ba8-86ab-8ea9463bfb44",
   "metadata": {},
   "outputs": [
    {
     "name": "stdout",
     "output_type": "stream",
     "text": [
      "last day 2\n"
     ]
    },
    {
     "data": {
      "text/plain": [
       "(28, 27)"
      ]
     },
     "execution_count": 64,
     "metadata": {},
     "output_type": "execute_result"
    }
   ],
   "source": [
    "def month_anchor(current_date: datetime.date):\n",
    "    last_day = calendar.monthrange(current_date.year, current_date.month)[0]\n",
    "    print('last day', last_day)\n",
    "    \n",
    "    return (\n",
    "        (current_date - datetime.date(current_date.year, current_date.month, 1)).days,\n",
    "        (current_date - datetime.date(current_date.year, current_date.month, last_day)).days\n",
    "    )\n",
    "\n",
    "month_anchor(today)"
   ]
  },
  {
   "cell_type": "markdown",
   "id": "3a82837f-67ec-431a-a575-7d7c0f4f6880",
   "metadata": {},
   "source": [
    "## Paydays"
   ]
  },
  {
   "cell_type": "code",
   "execution_count": 65,
   "id": "eae16adf-58c7-4ae9-8b5c-41405757e469",
   "metadata": {},
   "outputs": [
    {
     "data": {
      "text/plain": [
       "31"
      ]
     },
     "execution_count": 65,
     "metadata": {},
     "output_type": "execute_result"
    }
   ],
   "source": [
    "def get_last_friday(current_date: datetime.date, weekday=calendar.FRIDAY):\n",
    "    return max(week[weekday]\n",
    "               for week in calendar.monthcalendar(\n",
    "                   current_date.year, current_date.month\n",
    "               ))\n",
    "\n",
    "get_last_friday(today)"
   ]
  },
  {
   "cell_type": "markdown",
   "id": "fe4a86dc-4b5b-4109-9b02-040528c31126",
   "metadata": {},
   "source": [
    "## Automated Feature Extraction"
   ]
  },
  {
   "cell_type": "code",
   "execution_count": 70,
   "id": "39e04a67-68b6-4e68-88d1-408924f260e2",
   "metadata": {
    "scrolled": true,
    "tags": []
   },
   "outputs": [
    {
     "ename": "TypeError",
     "evalue": "dfs() got an unexpected keyword argument 'target_entity'",
     "output_type": "error",
     "traceback": [
      "\u001b[0;31m---------------------------------------------------------------------------\u001b[0m",
      "\u001b[0;31mTypeError\u001b[0m                                 Traceback (most recent call last)",
      "Cell \u001b[0;32mIn[70], line 24\u001b[0m\n\u001b[1;32m     17\u001b[0m es \u001b[38;5;241m=\u001b[39m ft\u001b[38;5;241m.\u001b[39mEntitySet(\u001b[38;5;124m'\u001b[39m\u001b[38;5;124mMy EntitySet\u001b[39m\u001b[38;5;124m'\u001b[39m)\n\u001b[1;32m     18\u001b[0m es\u001b[38;5;241m.\u001b[39madd_dataframe(\n\u001b[1;32m     19\u001b[0m     dataframe_name\u001b[38;5;241m=\u001b[39m\u001b[38;5;124m'\u001b[39m\u001b[38;5;124mmain_data_table\u001b[39m\u001b[38;5;124m'\u001b[39m,\n\u001b[1;32m     20\u001b[0m     index\u001b[38;5;241m=\u001b[39m\u001b[38;5;124m'\u001b[39m\u001b[38;5;124mindex\u001b[39m\u001b[38;5;124m'\u001b[39m,\n\u001b[1;32m     21\u001b[0m     dataframe\u001b[38;5;241m=\u001b[39mdata,\n\u001b[1;32m     22\u001b[0m     time_index\u001b[38;5;241m=\u001b[39m\u001b[38;5;124m'\u001b[39m\u001b[38;5;124mTime\u001b[39m\u001b[38;5;124m'\u001b[39m\n\u001b[1;32m     23\u001b[0m )\n\u001b[0;32m---> 24\u001b[0m fm, features \u001b[38;5;241m=\u001b[39m \u001b[43mft\u001b[49m\u001b[38;5;241;43m.\u001b[39;49m\u001b[43mdfs\u001b[49m\u001b[43m(\u001b[49m\n\u001b[1;32m     25\u001b[0m \u001b[43m    \u001b[49m\u001b[43mentityset\u001b[49m\u001b[38;5;241;43m=\u001b[39;49m\u001b[43mes\u001b[49m\u001b[43m,\u001b[49m\n\u001b[1;32m     26\u001b[0m \u001b[43m    \u001b[49m\u001b[43mtarget_entity\u001b[49m\u001b[38;5;241;43m=\u001b[39;49m\u001b[38;5;124;43m'\u001b[39;49m\u001b[38;5;124;43mmain_data_table\u001b[39;49m\u001b[38;5;124;43m'\u001b[39;49m\u001b[43m,\u001b[49m\n\u001b[1;32m     27\u001b[0m \u001b[43m    \u001b[49m\u001b[43mtrans_primitives\u001b[49m\u001b[38;5;241;43m=\u001b[39;49m\u001b[43m[\u001b[49m\u001b[43mMinute\u001b[49m\u001b[43m,\u001b[49m\u001b[43m \u001b[49m\u001b[43mHour\u001b[49m\u001b[43m,\u001b[49m\u001b[43m \u001b[49m\u001b[43mDay\u001b[49m\u001b[43m,\u001b[49m\u001b[43m \u001b[49m\u001b[43mMonth\u001b[49m\u001b[43m,\u001b[49m\u001b[43m \u001b[49m\u001b[43mYear\u001b[49m\u001b[43m,\u001b[49m\u001b[43m \u001b[49m\u001b[43mWeekday\u001b[49m\u001b[43m]\u001b[49m\n\u001b[1;32m     28\u001b[0m \u001b[43m)\u001b[49m\n",
      "File \u001b[0;32m~/Library/Python/3.9/lib/python/site-packages/featuretools/utils/entry_point.py:39\u001b[0m, in \u001b[0;36mentry_point.<locals>.inner_function.<locals>.function_wrapper\u001b[0;34m(*args, **kwargs)\u001b[0m\n\u001b[1;32m     37\u001b[0m     \u001b[38;5;28;01mfor\u001b[39;00m ep \u001b[38;5;129;01min\u001b[39;00m entry_points:\n\u001b[1;32m     38\u001b[0m         ep\u001b[38;5;241m.\u001b[39mon_error(error\u001b[38;5;241m=\u001b[39me, runtime\u001b[38;5;241m=\u001b[39mruntime)\n\u001b[0;32m---> 39\u001b[0m     \u001b[38;5;28;01mraise\u001b[39;00m e\n\u001b[1;32m     41\u001b[0m \u001b[38;5;66;03m# send return value\u001b[39;00m\n\u001b[1;32m     42\u001b[0m \u001b[38;5;28;01mfor\u001b[39;00m ep \u001b[38;5;129;01min\u001b[39;00m entry_points:\n",
      "File \u001b[0;32m~/Library/Python/3.9/lib/python/site-packages/featuretools/utils/entry_point.py:32\u001b[0m, in \u001b[0;36mentry_point.<locals>.inner_function.<locals>.function_wrapper\u001b[0;34m(*args, **kwargs)\u001b[0m\n\u001b[1;32m     29\u001b[0m \u001b[38;5;28;01mtry\u001b[39;00m:\n\u001b[1;32m     30\u001b[0m     \u001b[38;5;66;03m# call function\u001b[39;00m\n\u001b[1;32m     31\u001b[0m     start \u001b[38;5;241m=\u001b[39m time\u001b[38;5;241m.\u001b[39mtime()\n\u001b[0;32m---> 32\u001b[0m     return_value \u001b[38;5;241m=\u001b[39m \u001b[43mfunc\u001b[49m\u001b[43m(\u001b[49m\u001b[38;5;241;43m*\u001b[39;49m\u001b[43margs\u001b[49m\u001b[43m,\u001b[49m\u001b[43m \u001b[49m\u001b[38;5;241;43m*\u001b[39;49m\u001b[38;5;241;43m*\u001b[39;49m\u001b[43mkwargs\u001b[49m\u001b[43m)\u001b[49m\n\u001b[1;32m     33\u001b[0m     runtime \u001b[38;5;241m=\u001b[39m time\u001b[38;5;241m.\u001b[39mtime() \u001b[38;5;241m-\u001b[39m start\n\u001b[1;32m     34\u001b[0m \u001b[38;5;28;01mexcept\u001b[39;00m \u001b[38;5;167;01mException\u001b[39;00m \u001b[38;5;28;01mas\u001b[39;00m e:\n",
      "\u001b[0;31mTypeError\u001b[0m: dfs() got an unexpected keyword argument 'target_entity'"
     ]
    }
   ],
   "source": [
    "import pandas as pd\n",
    "import featuretools as ft\n",
    "from featuretools.primitives import Minute, Hour, Day, Month, Year, Weekday\n",
    "\n",
    "data = pd.DataFrame(\n",
    "    {\n",
    "        'Time': ['2014-01-01 01:41:50',\n",
    "                 '2014-01-01 02:06:50',\n",
    "                 '2014-01-01 02:31:50',\n",
    "                 '2014-01-01 02:56:50',\n",
    "                 '2014-01-01 03:21:50'\n",
    "                ],\n",
    "        'Target': [0, 0, 0, 0, 1]\n",
    "    }\n",
    ")\n",
    "data['index'] = data.index\n",
    "es = ft.EntitySet('My EntitySet')\n",
    "es.add_dataframe(\n",
    "    dataframe_name='main_data_table',\n",
    "    index='index',\n",
    "    dataframe=data,\n",
    "    time_index='Time'\n",
    ")\n",
    "fm, features = ft.dfs(\n",
    "    entityset=es,\n",
    "    target_entity='main_data_table',\n",
    "    trans_primitives=[Minute, Hour, Day, Month, Year, Weekday]\n",
    ")"
   ]
  },
  {
   "cell_type": "markdown",
   "id": "43bbe479-fafe-424e-a5b4-b738d9aaea89",
   "metadata": {},
   "source": [
    "## ROCKET"
   ]
  },
  {
   "cell_type": "code",
   "execution_count": null,
   "id": "31650f5a-e1bd-474a-9e82-4cb932a706a2",
   "metadata": {},
   "outputs": [],
   "source": []
  }
 ],
 "metadata": {
  "kernelspec": {
   "display_name": "Python 3 (ipykernel)",
   "language": "python",
   "name": "python3"
  },
  "language_info": {
   "codemirror_mode": {
    "name": "ipython",
    "version": 3
   },
   "file_extension": ".py",
   "mimetype": "text/x-python",
   "name": "python",
   "nbconvert_exporter": "python",
   "pygments_lexer": "ipython3",
   "version": "3.9.6"
  }
 },
 "nbformat": 4,
 "nbformat_minor": 5
}
