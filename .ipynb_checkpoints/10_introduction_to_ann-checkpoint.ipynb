{
 "cells": [
  {
   "cell_type": "markdown",
   "id": "74c32e36-05aa-48ad-98b5-27f51f1ae309",
   "metadata": {},
   "source": [
    "## The perceptron"
   ]
  },
  {
   "cell_type": "code",
   "execution_count": 1,
   "id": "9405a37c-02d2-4bed-9fae-f13c6e70c236",
   "metadata": {},
   "outputs": [
    {
     "data": {
      "text/plain": [
       "array([ True, False])"
      ]
     },
     "execution_count": 1,
     "metadata": {},
     "output_type": "execute_result"
    }
   ],
   "source": [
    "import numpy as np\n",
    "from sklearn.datasets import load_iris\n",
    "from sklearn.linear_model import Perceptron\n",
    "\n",
    "iris = load_iris(as_frame=True)\n",
    "X = iris.data[[\"petal length (cm)\", \"petal width (cm)\"]].values\n",
    "y = (iris.target == 0)\n",
    "\n",
    "per_clf = Perceptron(random_state=42)\n",
    "per_clf.fit(X, y)\n",
    "\n",
    "X_new = [[2, 0.5], [3, 1]]\n",
    "y_pred = per_clf.predict(X_new)\n",
    "y_pred"
   ]
  },
  {
   "cell_type": "markdown",
   "id": "d0d832dd-d030-455a-b1df-0f9b38034e8f",
   "metadata": {},
   "source": [
    "## Regression MLPs"
   ]
  },
  {
   "cell_type": "code",
   "execution_count": 2,
   "id": "70350f73-2e17-44b7-b573-c4c5f4e321f6",
   "metadata": {},
   "outputs": [],
   "source": [
    "from sklearn.datasets import fetch_california_housing\n",
    "from sklearn.metrics import mean_squared_error\n",
    "from sklearn.model_selection import train_test_split\n",
    "from sklearn.neural_network import MLPRegressor\n",
    "from sklearn.pipeline import make_pipeline\n",
    "from sklearn.preprocessing import StandardScaler\n",
    "\n",
    "housing = fetch_california_housing()\n",
    "\n",
    "X_train_full, X_test, y_train_full, y_test = train_test_split(\n",
    "    housing.data, housing.target, random_state=42\n",
    ")\n",
    "X_train, X_valid, y_train, y_valid = train_test_split(\n",
    "    X_train_full, y_train_full, random_state=42\n",
    ")\n",
    "\n",
    "mlp_reg = MLPRegressor(hidden_layer_sizes=[50, 50, 50], random_state=42)\n",
    "pipeline = make_pipeline(StandardScaler(), mlp_reg)\n",
    "pipeline.fit(X_train, y_train)\n",
    "y_pred = pipeline.predict(X_valid)\n",
    "rmse = mean_squared_error(y_valid, y_pred, squared=False)"
   ]
  },
  {
   "cell_type": "code",
   "execution_count": 3,
   "id": "0433eb38-34d5-4227-845c-49cc05bf749d",
   "metadata": {},
   "outputs": [
    {
     "data": {
      "text/plain": [
       "0.5053326657968193"
      ]
     },
     "execution_count": 3,
     "metadata": {},
     "output_type": "execute_result"
    }
   ],
   "source": [
    "rmse"
   ]
  },
  {
   "cell_type": "markdown",
   "id": "765c0a10-9a88-43a9-8ca5-6338e77b9f51",
   "metadata": {},
   "source": [
    "## Building an Image Classifier Using the Sequential API"
   ]
  },
  {
   "cell_type": "markdown",
   "id": "431850b4-e931-45f4-8d3a-b922e0ab6935",
   "metadata": {},
   "source": [
    "### Using Keras to load the dataset"
   ]
  },
  {
   "cell_type": "code",
   "execution_count": 4,
   "id": "9e353ecc-be6f-49bc-bb04-0d3d7c3b8ad8",
   "metadata": {},
   "outputs": [
    {
     "name": "stderr",
     "output_type": "stream",
     "text": [
      "2023-04-06 19:21:23.962246: I tensorflow/core/platform/cpu_feature_guard.cc:193] This TensorFlow binary is optimized with oneAPI Deep Neural Network Library (oneDNN) to use the following CPU instructions in performance-critical operations:  AVX2 FMA\n",
      "To enable them in other operations, rebuild TensorFlow with the appropriate compiler flags.\n"
     ]
    }
   ],
   "source": [
    "import tensorflow as tf\n",
    "\n",
    "fashion_mnist = tf.keras.datasets.fashion_mnist.load_data()\n",
    "(X_train_full, y_train_full), (X_test, y_test) = fashion_mnist\n",
    "X_train, y_train = X_train_full[:-5000], y_train_full[:-5000]\n",
    "X_valid, y_valid = X_train_full[-5000:], y_train_full[-5000:]"
   ]
  },
  {
   "cell_type": "code",
   "execution_count": 5,
   "id": "6b2ed21b-a39d-4adc-afd6-be467e697fda",
   "metadata": {
    "scrolled": true,
    "tags": []
   },
   "outputs": [
    {
     "data": {
      "text/plain": [
       "((55000, 28, 28), dtype('uint8'))"
      ]
     },
     "execution_count": 5,
     "metadata": {},
     "output_type": "execute_result"
    }
   ],
   "source": [
    "X_train.shape, X_train.dtype"
   ]
  },
  {
   "cell_type": "code",
   "execution_count": 6,
   "id": "6bd43c56-345a-4004-8941-6979748356d2",
   "metadata": {
    "scrolled": true,
    "tags": []
   },
   "outputs": [],
   "source": [
    "X_train, X_valid, X_test = X_train/255, X_valid/255, X_test/255"
   ]
  },
  {
   "cell_type": "code",
   "execution_count": 7,
   "id": "e49a9cc0-f460-4faa-a8b9-b1b3b6e264af",
   "metadata": {},
   "outputs": [],
   "source": [
    "class_names = [\"T-shirt/top\", \"Trouser\", \"Pullover\", \"Dress\", \"Coat\",\n",
    "               \"Sandal\", \"Shirt\", \"Sneaker\", \"Bag\", \"Ankle boot\"]"
   ]
  },
  {
   "cell_type": "code",
   "execution_count": 8,
   "id": "104de381-18f4-41b9-9bf1-4187cc722d9d",
   "metadata": {},
   "outputs": [
    {
     "data": {
      "text/plain": [
       "'Ankle boot'"
      ]
     },
     "execution_count": 8,
     "metadata": {},
     "output_type": "execute_result"
    }
   ],
   "source": [
    "class_names[y_train[0]]"
   ]
  },
  {
   "cell_type": "markdown",
   "id": "f0871e5f-4ad3-427f-9528-1cd7da3d14e5",
   "metadata": {},
   "source": [
    "### Creating the model using the sequential API"
   ]
  },
  {
   "cell_type": "code",
   "execution_count": 9,
   "id": "a76af0b1-62ab-4557-99ba-e188167ca572",
   "metadata": {},
   "outputs": [
    {
     "name": "stderr",
     "output_type": "stream",
     "text": [
      "2023-04-06 19:21:29.500401: I tensorflow/core/platform/cpu_feature_guard.cc:193] This TensorFlow binary is optimized with oneAPI Deep Neural Network Library (oneDNN) to use the following CPU instructions in performance-critical operations:  AVX2 FMA\n",
      "To enable them in other operations, rebuild TensorFlow with the appropriate compiler flags.\n"
     ]
    }
   ],
   "source": [
    "tf.keras.backend.clear_session()\n",
    "tf.random.set_seed(42)\n",
    "\n",
    "model = tf.keras.Sequential()\n",
    "model.add(tf.keras.layers.Input(shape=[28, 28]))\n",
    "model.add(tf.keras.layers.Flatten())\n",
    "model.add(tf.keras.layers.Dense(300, activation=\"relu\"))\n",
    "model.add(tf.keras.layers.Dense(100, activation=\"relu\"))\n",
    "model.add(tf.keras.layers.Dense(10, activation=\"softmax\"))"
   ]
  },
  {
   "cell_type": "code",
   "execution_count": 10,
   "id": "afdae012-36eb-435e-8578-0890dc98c5f3",
   "metadata": {},
   "outputs": [
    {
     "name": "stdout",
     "output_type": "stream",
     "text": [
      "Model: \"sequential\"\n",
      "_________________________________________________________________\n",
      " Layer (type)                Output Shape              Param #   \n",
      "=================================================================\n",
      " flatten (Flatten)           (None, 784)               0         \n",
      "                                                                 \n",
      " dense (Dense)               (None, 300)               235500    \n",
      "                                                                 \n",
      " dense_1 (Dense)             (None, 100)               30100     \n",
      "                                                                 \n",
      " dense_2 (Dense)             (None, 10)                1010      \n",
      "                                                                 \n",
      "=================================================================\n",
      "Total params: 266,610\n",
      "Trainable params: 266,610\n",
      "Non-trainable params: 0\n",
      "_________________________________________________________________\n"
     ]
    }
   ],
   "source": [
    "model.summary()"
   ]
  },
  {
   "cell_type": "code",
   "execution_count": 11,
   "id": "5a483498-50af-4938-b4ac-cb57685179e5",
   "metadata": {},
   "outputs": [
    {
     "data": {
      "text/plain": [
       "'dense'"
      ]
     },
     "execution_count": 11,
     "metadata": {},
     "output_type": "execute_result"
    }
   ],
   "source": [
    "hidden1 = model.get_layer(\"dense\")\n",
    "hidden1.name"
   ]
  },
  {
   "cell_type": "code",
   "execution_count": 12,
   "id": "fe516030-badb-4330-8c44-e5659287ec4b",
   "metadata": {
    "scrolled": true,
    "tags": []
   },
   "outputs": [
    {
     "data": {
      "text/plain": [
       "(array([[ 0.01775295, -0.01915678,  0.07394949, ...,  0.00132376,\n",
       "          0.0012373 ,  0.01172628],\n",
       "        [ 0.00456711,  0.03880735,  0.04700666, ..., -0.00211518,\n",
       "         -0.03659979,  0.01862875],\n",
       "        [ 0.04247544, -0.05949879, -0.01663589, ...,  0.01655953,\n",
       "          0.03743931,  0.04753842],\n",
       "        ...,\n",
       "        [-0.03887017,  0.01294727,  0.03085757, ...,  0.04986914,\n",
       "         -0.06300715, -0.05593184],\n",
       "        [-0.05732436,  0.02759815,  0.03671622, ..., -0.06443414,\n",
       "          0.07144286, -0.05653943],\n",
       "        [-0.01537317,  0.06809679, -0.01687388, ...,  0.03131483,\n",
       "         -0.03685087, -0.04423668]], dtype=float32),\n",
       " array([0., 0., 0., 0., 0., 0., 0., 0., 0., 0., 0., 0., 0., 0., 0., 0., 0.,\n",
       "        0., 0., 0., 0., 0., 0., 0., 0., 0., 0., 0., 0., 0., 0., 0., 0., 0.,\n",
       "        0., 0., 0., 0., 0., 0., 0., 0., 0., 0., 0., 0., 0., 0., 0., 0., 0.,\n",
       "        0., 0., 0., 0., 0., 0., 0., 0., 0., 0., 0., 0., 0., 0., 0., 0., 0.,\n",
       "        0., 0., 0., 0., 0., 0., 0., 0., 0., 0., 0., 0., 0., 0., 0., 0., 0.,\n",
       "        0., 0., 0., 0., 0., 0., 0., 0., 0., 0., 0., 0., 0., 0., 0., 0., 0.,\n",
       "        0., 0., 0., 0., 0., 0., 0., 0., 0., 0., 0., 0., 0., 0., 0., 0., 0.,\n",
       "        0., 0., 0., 0., 0., 0., 0., 0., 0., 0., 0., 0., 0., 0., 0., 0., 0.,\n",
       "        0., 0., 0., 0., 0., 0., 0., 0., 0., 0., 0., 0., 0., 0., 0., 0., 0.,\n",
       "        0., 0., 0., 0., 0., 0., 0., 0., 0., 0., 0., 0., 0., 0., 0., 0., 0.,\n",
       "        0., 0., 0., 0., 0., 0., 0., 0., 0., 0., 0., 0., 0., 0., 0., 0., 0.,\n",
       "        0., 0., 0., 0., 0., 0., 0., 0., 0., 0., 0., 0., 0., 0., 0., 0., 0.,\n",
       "        0., 0., 0., 0., 0., 0., 0., 0., 0., 0., 0., 0., 0., 0., 0., 0., 0.,\n",
       "        0., 0., 0., 0., 0., 0., 0., 0., 0., 0., 0., 0., 0., 0., 0., 0., 0.,\n",
       "        0., 0., 0., 0., 0., 0., 0., 0., 0., 0., 0., 0., 0., 0., 0., 0., 0.,\n",
       "        0., 0., 0., 0., 0., 0., 0., 0., 0., 0., 0., 0., 0., 0., 0., 0., 0.,\n",
       "        0., 0., 0., 0., 0., 0., 0., 0., 0., 0., 0., 0., 0., 0., 0., 0., 0.,\n",
       "        0., 0., 0., 0., 0., 0., 0., 0., 0., 0., 0.], dtype=float32))"
      ]
     },
     "execution_count": 12,
     "metadata": {},
     "output_type": "execute_result"
    }
   ],
   "source": [
    "weights, bias = hidden1.get_weights()\n",
    "weights, bias"
   ]
  },
  {
   "cell_type": "code",
   "execution_count": 13,
   "id": "9afeb2fc-5dcb-421d-8f03-eef031822a31",
   "metadata": {},
   "outputs": [
    {
     "data": {
      "text/plain": [
       "(784, 300)"
      ]
     },
     "execution_count": 13,
     "metadata": {},
     "output_type": "execute_result"
    }
   ],
   "source": [
    "weights.shape"
   ]
  },
  {
   "cell_type": "code",
   "execution_count": 14,
   "id": "4dab9e60-8c4a-4a5b-bdf7-95a29e6f35e4",
   "metadata": {},
   "outputs": [
    {
     "data": {
      "text/plain": [
       "array([0., 0., 0., 0., 0., 0., 0., 0., 0., 0., 0., 0., 0., 0., 0., 0., 0.,\n",
       "       0., 0., 0., 0., 0., 0., 0., 0., 0., 0., 0., 0., 0., 0., 0., 0., 0.,\n",
       "       0., 0., 0., 0., 0., 0., 0., 0., 0., 0., 0., 0., 0., 0., 0., 0., 0.,\n",
       "       0., 0., 0., 0., 0., 0., 0., 0., 0., 0., 0., 0., 0., 0., 0., 0., 0.,\n",
       "       0., 0., 0., 0., 0., 0., 0., 0., 0., 0., 0., 0., 0., 0., 0., 0., 0.,\n",
       "       0., 0., 0., 0., 0., 0., 0., 0., 0., 0., 0., 0., 0., 0., 0., 0., 0.,\n",
       "       0., 0., 0., 0., 0., 0., 0., 0., 0., 0., 0., 0., 0., 0., 0., 0., 0.,\n",
       "       0., 0., 0., 0., 0., 0., 0., 0., 0., 0., 0., 0., 0., 0., 0., 0., 0.,\n",
       "       0., 0., 0., 0., 0., 0., 0., 0., 0., 0., 0., 0., 0., 0., 0., 0., 0.,\n",
       "       0., 0., 0., 0., 0., 0., 0., 0., 0., 0., 0., 0., 0., 0., 0., 0., 0.,\n",
       "       0., 0., 0., 0., 0., 0., 0., 0., 0., 0., 0., 0., 0., 0., 0., 0., 0.,\n",
       "       0., 0., 0., 0., 0., 0., 0., 0., 0., 0., 0., 0., 0., 0., 0., 0., 0.,\n",
       "       0., 0., 0., 0., 0., 0., 0., 0., 0., 0., 0., 0., 0., 0., 0., 0., 0.,\n",
       "       0., 0., 0., 0., 0., 0., 0., 0., 0., 0., 0., 0., 0., 0., 0., 0., 0.,\n",
       "       0., 0., 0., 0., 0., 0., 0., 0., 0., 0., 0., 0., 0., 0., 0., 0., 0.,\n",
       "       0., 0., 0., 0., 0., 0., 0., 0., 0., 0., 0., 0., 0., 0., 0., 0., 0.,\n",
       "       0., 0., 0., 0., 0., 0., 0., 0., 0., 0., 0., 0., 0., 0., 0., 0., 0.,\n",
       "       0., 0., 0., 0., 0., 0., 0., 0., 0., 0., 0.], dtype=float32)"
      ]
     },
     "execution_count": 14,
     "metadata": {},
     "output_type": "execute_result"
    }
   ],
   "source": [
    "bias"
   ]
  },
  {
   "cell_type": "code",
   "execution_count": 15,
   "id": "883c3d04-e978-41cd-8b40-afc72de88277",
   "metadata": {},
   "outputs": [
    {
     "data": {
      "text/plain": [
       "(300,)"
      ]
     },
     "execution_count": 15,
     "metadata": {},
     "output_type": "execute_result"
    }
   ],
   "source": [
    "bias.shape"
   ]
  },
  {
   "cell_type": "markdown",
   "id": "e56e79c9-b81b-4177-866e-0fbde2b036e4",
   "metadata": {},
   "source": [
    "### compiling the model"
   ]
  },
  {
   "cell_type": "code",
   "execution_count": 16,
   "id": "0274d67e-5a8b-4732-83f9-cdbd9518e1bd",
   "metadata": {},
   "outputs": [],
   "source": [
    "model.compile(\n",
    "    loss=tf.keras.losses.sparse_categorical_crossentropy,\n",
    "    optimizer=tf.keras.optimizers.SGD(learning_rate=0.0001),\n",
    "    metrics=[tf.keras.metrics.sparse_categorical_accuracy]\n",
    ")"
   ]
  },
  {
   "cell_type": "code",
   "execution_count": 17,
   "id": "1b6643af-2af8-4846-a1f2-dd1d64995e44",
   "metadata": {
    "scrolled": true,
    "tags": []
   },
   "outputs": [
    {
     "name": "stdout",
     "output_type": "stream",
     "text": [
      "Epoch 1/30\n",
      "1719/1719 [==============================] - 3s 2ms/step - loss: 2.1545 - sparse_categorical_accuracy: 0.2073 - val_loss: 2.0015 - val_sparse_categorical_accuracy: 0.3260\n",
      "Epoch 2/30\n",
      "1719/1719 [==============================] - 4s 2ms/step - loss: 1.9026 - sparse_categorical_accuracy: 0.4107 - val_loss: 1.7910 - val_sparse_categorical_accuracy: 0.5026\n",
      "Epoch 3/30\n",
      "1719/1719 [==============================] - 4s 2ms/step - loss: 1.7122 - sparse_categorical_accuracy: 0.5318 - val_loss: 1.6118 - val_sparse_categorical_accuracy: 0.5790\n",
      "Epoch 4/30\n",
      "1719/1719 [==============================] - 5s 3ms/step - loss: 1.5485 - sparse_categorical_accuracy: 0.5883 - val_loss: 1.4605 - val_sparse_categorical_accuracy: 0.6160\n",
      "Epoch 5/30\n",
      "1719/1719 [==============================] - 5s 3ms/step - loss: 1.4132 - sparse_categorical_accuracy: 0.6189 - val_loss: 1.3386 - val_sparse_categorical_accuracy: 0.6436\n",
      "Epoch 6/30\n",
      "1719/1719 [==============================] - 5s 3ms/step - loss: 1.3044 - sparse_categorical_accuracy: 0.6387 - val_loss: 1.2409 - val_sparse_categorical_accuracy: 0.6572\n",
      "Epoch 7/30\n",
      "1719/1719 [==============================] - 6s 3ms/step - loss: 1.2171 - sparse_categorical_accuracy: 0.6515 - val_loss: 1.1623 - val_sparse_categorical_accuracy: 0.6688\n",
      "Epoch 8/30\n",
      "1719/1719 [==============================] - 6s 4ms/step - loss: 1.1465 - sparse_categorical_accuracy: 0.6604 - val_loss: 1.0987 - val_sparse_categorical_accuracy: 0.6760\n",
      "Epoch 9/30\n",
      "1719/1719 [==============================] - 7s 4ms/step - loss: 1.0887 - sparse_categorical_accuracy: 0.6684 - val_loss: 1.0458 - val_sparse_categorical_accuracy: 0.6822\n",
      "Epoch 10/30\n",
      "1719/1719 [==============================] - 7s 4ms/step - loss: 1.0405 - sparse_categorical_accuracy: 0.6758 - val_loss: 1.0018 - val_sparse_categorical_accuracy: 0.6902\n",
      "Epoch 11/30\n",
      "1719/1719 [==============================] - 8s 4ms/step - loss: 0.9998 - sparse_categorical_accuracy: 0.6839 - val_loss: 0.9637 - val_sparse_categorical_accuracy: 0.6964\n",
      "Epoch 12/30\n",
      "1719/1719 [==============================] - 8s 4ms/step - loss: 0.9649 - sparse_categorical_accuracy: 0.6923 - val_loss: 0.9319 - val_sparse_categorical_accuracy: 0.7016\n",
      "Epoch 13/30\n",
      "1719/1719 [==============================] - 7s 4ms/step - loss: 0.9347 - sparse_categorical_accuracy: 0.7004 - val_loss: 0.9032 - val_sparse_categorical_accuracy: 0.7118\n",
      "Epoch 14/30\n",
      "1719/1719 [==============================] - 7s 4ms/step - loss: 0.9081 - sparse_categorical_accuracy: 0.7069 - val_loss: 0.8786 - val_sparse_categorical_accuracy: 0.7226\n",
      "Epoch 15/30\n",
      "1719/1719 [==============================] - 8s 5ms/step - loss: 0.8845 - sparse_categorical_accuracy: 0.7151 - val_loss: 0.8562 - val_sparse_categorical_accuracy: 0.7276\n",
      "Epoch 16/30\n",
      "1719/1719 [==============================] - 8s 5ms/step - loss: 0.8634 - sparse_categorical_accuracy: 0.7214 - val_loss: 0.8364 - val_sparse_categorical_accuracy: 0.7328\n",
      "Epoch 17/30\n",
      "1719/1719 [==============================] - 9s 5ms/step - loss: 0.8444 - sparse_categorical_accuracy: 0.7271 - val_loss: 0.8185 - val_sparse_categorical_accuracy: 0.7376\n",
      "Epoch 18/30\n",
      "1719/1719 [==============================] - 9s 5ms/step - loss: 0.8272 - sparse_categorical_accuracy: 0.7329 - val_loss: 0.8024 - val_sparse_categorical_accuracy: 0.7428\n",
      "Epoch 19/30\n",
      "1719/1719 [==============================] - 10s 6ms/step - loss: 0.8115 - sparse_categorical_accuracy: 0.7385 - val_loss: 0.7872 - val_sparse_categorical_accuracy: 0.7468\n",
      "Epoch 20/30\n",
      "1719/1719 [==============================] - 10s 6ms/step - loss: 0.7971 - sparse_categorical_accuracy: 0.7424 - val_loss: 0.7734 - val_sparse_categorical_accuracy: 0.7524\n",
      "Epoch 21/30\n",
      "1719/1719 [==============================] - 10s 6ms/step - loss: 0.7837 - sparse_categorical_accuracy: 0.7481 - val_loss: 0.7605 - val_sparse_categorical_accuracy: 0.7544\n",
      "Epoch 22/30\n",
      "1719/1719 [==============================] - 11s 6ms/step - loss: 0.7714 - sparse_categorical_accuracy: 0.7516 - val_loss: 0.7490 - val_sparse_categorical_accuracy: 0.7568\n",
      "Epoch 23/30\n",
      "1719/1719 [==============================] - 11s 6ms/step - loss: 0.7598 - sparse_categorical_accuracy: 0.7545 - val_loss: 0.7381 - val_sparse_categorical_accuracy: 0.7598\n",
      "Epoch 24/30\n",
      "1719/1719 [==============================] - 11s 6ms/step - loss: 0.7490 - sparse_categorical_accuracy: 0.7582 - val_loss: 0.7274 - val_sparse_categorical_accuracy: 0.7648\n",
      "Epoch 25/30\n",
      "1719/1719 [==============================] - 11s 6ms/step - loss: 0.7389 - sparse_categorical_accuracy: 0.7616 - val_loss: 0.7178 - val_sparse_categorical_accuracy: 0.7660\n",
      "Epoch 26/30\n",
      "1719/1719 [==============================] - 11s 7ms/step - loss: 0.7294 - sparse_categorical_accuracy: 0.7649 - val_loss: 0.7088 - val_sparse_categorical_accuracy: 0.7710\n",
      "Epoch 27/30\n",
      "1719/1719 [==============================] - 11s 7ms/step - loss: 0.7204 - sparse_categorical_accuracy: 0.7674 - val_loss: 0.7002 - val_sparse_categorical_accuracy: 0.7718\n",
      "Epoch 28/30\n",
      "1719/1719 [==============================] - 11s 6ms/step - loss: 0.7118 - sparse_categorical_accuracy: 0.7703 - val_loss: 0.6925 - val_sparse_categorical_accuracy: 0.7732\n",
      "Epoch 29/30\n",
      "1719/1719 [==============================] - 11s 6ms/step - loss: 0.7037 - sparse_categorical_accuracy: 0.7720 - val_loss: 0.6844 - val_sparse_categorical_accuracy: 0.7748\n",
      "Epoch 30/30\n",
      "1719/1719 [==============================] - 11s 6ms/step - loss: 0.6960 - sparse_categorical_accuracy: 0.7743 - val_loss: 0.6768 - val_sparse_categorical_accuracy: 0.7776\n"
     ]
    }
   ],
   "source": [
    "history = model.fit(\n",
    "    X_train, y_train,\n",
    "    epochs=30,\n",
    "    validation_data=(X_valid, y_valid)\n",
    ")"
   ]
  },
  {
   "cell_type": "code",
   "execution_count": 18,
   "id": "c987f441-4175-400a-88c5-a5daafe23f24",
   "metadata": {},
   "outputs": [
    {
     "data": {
      "text/plain": [
       "<AxesSubplot: >"
      ]
     },
     "execution_count": 18,
     "metadata": {},
     "output_type": "execute_result"
    },
    {
     "data": {
      "image/png": "[encoded data removed]",
      "text/plain": [
       "<Figure size 640x480 with 1 Axes>"
      ]
     },
     "metadata": {},
     "output_type": "display_data"
    }
   ],
   "source": [
    "import seaborn as sns\n",
    "\n",
    "sns.lineplot(history.history['loss'])\n",
    "sns.lineplot(history.history['val_loss'])"
   ]
  },
  {
   "cell_type": "code",
   "execution_count": 19,
   "id": "c87f1a00-1145-4354-bbb7-dedf031433a4",
   "metadata": {},
   "outputs": [
    {
     "data": {
      "text/plain": [
       "<AxesSubplot: >"
      ]
     },
     "execution_count": 19,
     "metadata": {},
     "output_type": "execute_result"
    },
    {
     "data": {
      "image/png": "[encoded data removed]",
      "text/plain": [
       "<Figure size 640x480 with 1 Axes>"
      ]
     },
     "metadata": {},
     "output_type": "display_data"
    }
   ],
   "source": [
    "sns.lineplot(history.history['sparse_categorical_accuracy'])\n",
    "sns.lineplot(history.history['val_sparse_categorical_accuracy'])"
   ]
  },
  {
   "cell_type": "code",
   "execution_count": 20,
   "id": "3ebf5de7-a5f3-4ac1-8522-a7051519886b",
   "metadata": {},
   "outputs": [
    {
     "data": {
      "image/png": "[encoded data removed]",
      "text/plain": [
       "<Figure size 800x500 with 1 Axes>"
      ]
     },
     "metadata": {},
     "output_type": "display_data"
    }
   ],
   "source": [
    "import matplotlib.pyplot as plt\n",
    "import pandas as pd\n",
    "\n",
    "pd.DataFrame(history.history).plot(\n",
    "    figsize=(8, 5),\n",
    "    xlim=[0, 29],\n",
    "    ylim=[0, 1],\n",
    "    grid=True,\n",
    "    xlabel=\"Epoch\",\n",
    "    style=[\"r--\", \"r-*\", \"b-\", \"b-*\"]\n",
    ")\n",
    "plt.show()"
   ]
  },
  {
   "cell_type": "markdown",
   "id": "0483e6f4-1fdd-43c0-ace3-4349689c9f27",
   "metadata": {},
   "source": [
    "### Using the model to make predictions"
   ]
  },
  {
   "cell_type": "code",
   "execution_count": 21,
   "id": "3ba6b254-0a1b-4c25-b9ff-f438b9cbd536",
   "metadata": {},
   "outputs": [
    {
     "name": "stdout",
     "output_type": "stream",
     "text": [
      "1/1 [==============================] - 0s 67ms/step\n"
     ]
    },
    {
     "data": {
      "text/plain": [
       "array([[0.  , 0.  , 0.  , 0.  , 0.  , 0.24, 0.  , 0.15, 0.02, 0.58],\n",
       "       [0.  , 0.  , 0.82, 0.  , 0.07, 0.  , 0.11, 0.  , 0.  , 0.  ],\n",
       "       [0.  , 0.99, 0.  , 0.01, 0.  , 0.  , 0.  , 0.  , 0.  , 0.  ]],\n",
       "      dtype=float32)"
      ]
     },
     "execution_count": 21,
     "metadata": {},
     "output_type": "execute_result"
    }
   ],
   "source": [
    "X_new = X_test[:3]\n",
    "y_proba = model.predict(X_new)\n",
    "y_proba.round(2)"
   ]
  },
  {
   "cell_type": "code",
   "execution_count": 22,
   "id": "6dd0fd85-1995-4feb-9a03-0998e46618cc",
   "metadata": {},
   "outputs": [
    {
     "data": {
      "text/plain": [
       "array([9, 2, 1])"
      ]
     },
     "execution_count": 22,
     "metadata": {},
     "output_type": "execute_result"
    }
   ],
   "source": [
    "import numpy as np\n",
    "\n",
    "y_pred = y_proba.argmax(axis=1)\n",
    "y_pred"
   ]
  },
  {
   "cell_type": "code",
   "execution_count": 23,
   "id": "855bd653-8116-48c3-bc8d-43f036fdb0e0",
   "metadata": {},
   "outputs": [
    {
     "data": {
      "text/plain": [
       "array(['Ankle boot', 'Pullover', 'Trouser'], dtype='<U11')"
      ]
     },
     "execution_count": 23,
     "metadata": {},
     "output_type": "execute_result"
    }
   ],
   "source": [
    "np.array(class_names)[y_pred]"
   ]
  },
  {
   "cell_type": "code",
   "execution_count": 24,
   "id": "abb13f78-dc4f-4f29-bf67-c0faea5d2754",
   "metadata": {},
   "outputs": [
    {
     "data": {
      "text/plain": [
       "array([9, 2, 1], dtype=uint8)"
      ]
     },
     "execution_count": 24,
     "metadata": {},
     "output_type": "execute_result"
    }
   ],
   "source": [
    "y_new = y_test[:3]\n",
    "y_new"
   ]
  },
  {
   "cell_type": "markdown",
   "id": "d345f845-7cca-4260-898f-601c717ba5d6",
   "metadata": {},
   "source": [
    "## Building a Regression MLP Using the Sequential API"
   ]
  },
  {
   "cell_type": "code",
   "execution_count": 25,
   "id": "59c1289f-eb87-4312-ae5a-1205b46c6bbd",
   "metadata": {},
   "outputs": [],
   "source": [
    "housing = fetch_california_housing()\n",
    "\n",
    "X_train_full, X_test, y_train_full, y_test = train_test_split(housing.data, housing.target, random_state=42)\n",
    "X_train, X_valid, y_train, y_valid = train_test_split(X_train_full, y_train_full, random_state=42)"
   ]
  },
  {
   "cell_type": "code",
   "execution_count": 26,
   "id": "a69b1f32-a177-41a0-bcd4-a78c1514531b",
   "metadata": {},
   "outputs": [],
   "source": [
    "tf.random.set_seed(42)\n",
    "\n",
    "norm_layer = tf.keras.layers.Normalization(input_shape=X_train.shape[1:])\n",
    "\n",
    "model = tf.keras.Sequential([\n",
    "    norm_layer,\n",
    "    tf.keras.layers.Dense(50, activation=\"relu\"),\n",
    "    tf.keras.layers.Dense(50, activation=\"relu\"),\n",
    "    tf.keras.layers.Dense(50, activation=\"relu\"),\n",
    "    tf.keras.layers.Dense(1)\n",
    "])"
   ]
  },
  {
   "cell_type": "code",
   "execution_count": 27,
   "id": "dbdb9660-cbb0-4fd6-8271-58c6bcc7547e",
   "metadata": {
    "scrolled": true,
    "tags": []
   },
   "outputs": [],
   "source": [
    "optimizer = tf.keras.optimizers.Adam(learning_rate=1e-3)\n",
    "\n",
    "model.compile(\n",
    "    loss=tf.keras.losses.mean_squared_error,\n",
    "    optimizer=optimizer,\n",
    "    metrics=[tf.keras.metrics.RootMeanSquaredError()]\n",
    ")\n",
    "\n",
    "norm_layer.adapt(X_train)"
   ]
  },
  {
   "cell_type": "code",
   "execution_count": 28,
   "id": "3e8a0e13-ac0a-4a8a-9ef4-81146d8e7800",
   "metadata": {
    "scrolled": true,
    "tags": []
   },
   "outputs": [
    {
     "name": "stdout",
     "output_type": "stream",
     "text": [
      "Epoch 1/50\n",
      "363/363 [==============================] - 1s 2ms/step - loss: 0.8734 - root_mean_squared_error: 0.9346 - val_loss: 0.8733 - val_root_mean_squared_error: 0.9345\n",
      "Epoch 2/50\n",
      "363/363 [==============================] - 0s 1ms/step - loss: 0.3869 - root_mean_squared_error: 0.6220 - val_loss: 2.5603 - val_root_mean_squared_error: 1.6001\n",
      "Epoch 3/50\n",
      "363/363 [==============================] - 0s 1ms/step - loss: 0.3836 - root_mean_squared_error: 0.6194 - val_loss: 0.3367 - val_root_mean_squared_error: 0.5803\n",
      "Epoch 4/50\n",
      "363/363 [==============================] - 0s 1ms/step - loss: 0.3398 - root_mean_squared_error: 0.5830 - val_loss: 0.7618 - val_root_mean_squared_error: 0.8728\n",
      "Epoch 5/50\n",
      "363/363 [==============================] - 0s 1ms/step - loss: 0.3342 - root_mean_squared_error: 0.5781 - val_loss: 0.3429 - val_root_mean_squared_error: 0.5855\n",
      "Epoch 6/50\n",
      "363/363 [==============================] - 0s 1ms/step - loss: 0.3189 - root_mean_squared_error: 0.5647 - val_loss: 0.3146 - val_root_mean_squared_error: 0.5609\n",
      "Epoch 7/50\n",
      "363/363 [==============================] - 0s 1ms/step - loss: 0.3182 - root_mean_squared_error: 0.5641 - val_loss: 0.5285 - val_root_mean_squared_error: 0.7270\n",
      "Epoch 8/50\n",
      "363/363 [==============================] - 0s 1ms/step - loss: 0.3062 - root_mean_squared_error: 0.5533 - val_loss: 1.5117 - val_root_mean_squared_error: 1.2295\n",
      "Epoch 9/50\n",
      "363/363 [==============================] - 0s 1ms/step - loss: 0.3020 - root_mean_squared_error: 0.5496 - val_loss: 0.3486 - val_root_mean_squared_error: 0.5904\n",
      "Epoch 10/50\n",
      "363/363 [==============================] - 0s 1ms/step - loss: 0.2967 - root_mean_squared_error: 0.5447 - val_loss: 0.3076 - val_root_mean_squared_error: 0.5546\n",
      "Epoch 11/50\n",
      "363/363 [==============================] - 0s 1ms/step - loss: 0.2926 - root_mean_squared_error: 0.5410 - val_loss: 2.9797 - val_root_mean_squared_error: 1.7262\n",
      "Epoch 12/50\n",
      "363/363 [==============================] - 0s 1ms/step - loss: 0.3413 - root_mean_squared_error: 0.5842 - val_loss: 1.3086 - val_root_mean_squared_error: 1.1439\n",
      "Epoch 13/50\n",
      "363/363 [==============================] - 0s 1ms/step - loss: 0.2918 - root_mean_squared_error: 0.5402 - val_loss: 0.2864 - val_root_mean_squared_error: 0.5351\n",
      "Epoch 14/50\n",
      "363/363 [==============================] - 0s 1ms/step - loss: 0.2867 - root_mean_squared_error: 0.5354 - val_loss: 0.2717 - val_root_mean_squared_error: 0.5212\n",
      "Epoch 15/50\n",
      "363/363 [==============================] - 0s 1ms/step - loss: 0.2819 - root_mean_squared_error: 0.5309 - val_loss: 0.3360 - val_root_mean_squared_error: 0.5797\n",
      "Epoch 16/50\n",
      "363/363 [==============================] - 0s 1ms/step - loss: 0.2790 - root_mean_squared_error: 0.5282 - val_loss: 0.2743 - val_root_mean_squared_error: 0.5237\n",
      "Epoch 17/50\n",
      "363/363 [==============================] - 0s 1ms/step - loss: 0.2759 - root_mean_squared_error: 0.5252 - val_loss: 1.0391 - val_root_mean_squared_error: 1.0193\n",
      "Epoch 18/50\n",
      "363/363 [==============================] - 0s 1ms/step - loss: 0.2759 - root_mean_squared_error: 0.5253 - val_loss: 0.3379 - val_root_mean_squared_error: 0.5813\n",
      "Epoch 19/50\n",
      "363/363 [==============================] - 0s 1ms/step - loss: 0.2713 - root_mean_squared_error: 0.5208 - val_loss: 0.3251 - val_root_mean_squared_error: 0.5702\n",
      "Epoch 20/50\n",
      "363/363 [==============================] - 0s 1ms/step - loss: 0.2697 - root_mean_squared_error: 0.5193 - val_loss: 0.2818 - val_root_mean_squared_error: 0.5309\n",
      "Epoch 21/50\n",
      "363/363 [==============================] - 0s 1ms/step - loss: 0.2688 - root_mean_squared_error: 0.5185 - val_loss: 0.3026 - val_root_mean_squared_error: 0.5501\n",
      "Epoch 22/50\n",
      "363/363 [==============================] - 0s 1ms/step - loss: 0.2654 - root_mean_squared_error: 0.5151 - val_loss: 0.2919 - val_root_mean_squared_error: 0.5403\n",
      "Epoch 23/50\n",
      "363/363 [==============================] - 0s 1ms/step - loss: 0.2652 - root_mean_squared_error: 0.5150 - val_loss: 0.2902 - val_root_mean_squared_error: 0.5387\n",
      "Epoch 24/50\n",
      "363/363 [==============================] - 0s 1ms/step - loss: 0.2626 - root_mean_squared_error: 0.5125 - val_loss: 0.4249 - val_root_mean_squared_error: 0.6518\n",
      "Epoch 25/50\n",
      "363/363 [==============================] - 0s 1ms/step - loss: 0.2593 - root_mean_squared_error: 0.5092 - val_loss: 0.2745 - val_root_mean_squared_error: 0.5239\n",
      "Epoch 26/50\n",
      "363/363 [==============================] - 0s 1ms/step - loss: 0.2551 - root_mean_squared_error: 0.5051 - val_loss: 1.1934 - val_root_mean_squared_error: 1.0924\n",
      "Epoch 27/50\n",
      "363/363 [==============================] - 0s 1ms/step - loss: 0.2565 - root_mean_squared_error: 0.5064 - val_loss: 0.5604 - val_root_mean_squared_error: 0.7486\n",
      "Epoch 28/50\n",
      "363/363 [==============================] - 0s 1ms/step - loss: 0.2578 - root_mean_squared_error: 0.5078 - val_loss: 0.4752 - val_root_mean_squared_error: 0.6893\n",
      "Epoch 29/50\n",
      "363/363 [==============================] - 0s 1ms/step - loss: 0.2535 - root_mean_squared_error: 0.5035 - val_loss: 0.3979 - val_root_mean_squared_error: 0.6308\n",
      "Epoch 30/50\n",
      "363/363 [==============================] - 0s 1ms/step - loss: 0.2505 - root_mean_squared_error: 0.5005 - val_loss: 0.3783 - val_root_mean_squared_error: 0.6151\n",
      "Epoch 31/50\n",
      "363/363 [==============================] - 0s 1ms/step - loss: 0.2522 - root_mean_squared_error: 0.5021 - val_loss: 0.2753 - val_root_mean_squared_error: 0.5247\n",
      "Epoch 32/50\n",
      "363/363 [==============================] - 0s 1ms/step - loss: 0.2457 - root_mean_squared_error: 0.4957 - val_loss: 0.2887 - val_root_mean_squared_error: 0.5373\n",
      "Epoch 33/50\n",
      "363/363 [==============================] - 0s 1ms/step - loss: 0.2446 - root_mean_squared_error: 0.4946 - val_loss: 0.2719 - val_root_mean_squared_error: 0.5215\n",
      "Epoch 34/50\n",
      "363/363 [==============================] - 0s 1ms/step - loss: 0.2420 - root_mean_squared_error: 0.4919 - val_loss: 0.2786 - val_root_mean_squared_error: 0.5279\n",
      "Epoch 35/50\n",
      "363/363 [==============================] - 0s 1ms/step - loss: 0.2441 - root_mean_squared_error: 0.4941 - val_loss: 0.2870 - val_root_mean_squared_error: 0.5357\n",
      "Epoch 36/50\n",
      "363/363 [==============================] - 0s 1ms/step - loss: 0.2501 - root_mean_squared_error: 0.5001 - val_loss: 0.2901 - val_root_mean_squared_error: 0.5386\n",
      "Epoch 37/50\n",
      "363/363 [==============================] - 0s 1ms/step - loss: 0.2416 - root_mean_squared_error: 0.4915 - val_loss: 0.3616 - val_root_mean_squared_error: 0.6013\n",
      "Epoch 38/50\n",
      "363/363 [==============================] - 0s 1ms/step - loss: 0.2395 - root_mean_squared_error: 0.4894 - val_loss: 0.2898 - val_root_mean_squared_error: 0.5383\n",
      "Epoch 39/50\n",
      "363/363 [==============================] - 0s 1ms/step - loss: 0.2393 - root_mean_squared_error: 0.4892 - val_loss: 0.3014 - val_root_mean_squared_error: 0.5490\n",
      "Epoch 40/50\n",
      "363/363 [==============================] - 0s 1ms/step - loss: 0.2384 - root_mean_squared_error: 0.4883 - val_loss: 0.2681 - val_root_mean_squared_error: 0.5178\n",
      "Epoch 41/50\n",
      "363/363 [==============================] - 0s 1ms/step - loss: 0.2383 - root_mean_squared_error: 0.4882 - val_loss: 0.2724 - val_root_mean_squared_error: 0.5219\n",
      "Epoch 42/50\n",
      "363/363 [==============================] - 0s 1ms/step - loss: 0.2359 - root_mean_squared_error: 0.4857 - val_loss: 0.3919 - val_root_mean_squared_error: 0.6260\n",
      "Epoch 43/50\n",
      "363/363 [==============================] - 0s 1ms/step - loss: 0.2375 - root_mean_squared_error: 0.4874 - val_loss: 0.3283 - val_root_mean_squared_error: 0.5730\n",
      "Epoch 44/50\n",
      "363/363 [==============================] - 0s 1ms/step - loss: 0.2395 - root_mean_squared_error: 0.4894 - val_loss: 1.4355 - val_root_mean_squared_error: 1.1981\n",
      "Epoch 45/50\n",
      "363/363 [==============================] - 0s 1ms/step - loss: 0.2408 - root_mean_squared_error: 0.4908 - val_loss: 0.8044 - val_root_mean_squared_error: 0.8969\n",
      "Epoch 46/50\n",
      "363/363 [==============================] - 0s 1ms/step - loss: 0.2319 - root_mean_squared_error: 0.4815 - val_loss: 1.6304 - val_root_mean_squared_error: 1.2769\n",
      "Epoch 47/50\n",
      "363/363 [==============================] - 0s 1ms/step - loss: 0.2334 - root_mean_squared_error: 0.4831 - val_loss: 4.1184 - val_root_mean_squared_error: 2.0294\n",
      "Epoch 48/50\n",
      "363/363 [==============================] - 0s 1ms/step - loss: 0.2560 - root_mean_squared_error: 0.5060 - val_loss: 0.3348 - val_root_mean_squared_error: 0.5786\n",
      "Epoch 49/50\n",
      "363/363 [==============================] - 0s 1ms/step - loss: 0.2271 - root_mean_squared_error: 0.4765 - val_loss: 0.3750 - val_root_mean_squared_error: 0.6123\n",
      "Epoch 50/50\n",
      "363/363 [==============================] - 0s 1ms/step - loss: 0.2269 - root_mean_squared_error: 0.4764 - val_loss: 0.3125 - val_root_mean_squared_error: 0.5590\n"
     ]
    }
   ],
   "source": [
    "history = model.fit(\n",
    "    X_train, y_train,\n",
    "    epochs=50,\n",
    "    validation_data=(X_valid, y_valid)\n",
    ")"
   ]
  },
  {
   "cell_type": "code",
   "execution_count": 29,
   "id": "3329cb52-fd3b-4f04-8797-3ab524df3007",
   "metadata": {},
   "outputs": [
    {
     "data": {
      "text/plain": [
       "<AxesSubplot: >"
      ]
     },
     "execution_count": 29,
     "metadata": {},
     "output_type": "execute_result"
    },
    {
     "data": {
      "image/png": "[encoded data removed]",
      "text/plain": [
       "<Figure size 640x480 with 1 Axes>"
      ]
     },
     "metadata": {},
     "output_type": "display_data"
    }
   ],
   "source": [
    "sns.lineplot(history.history['loss'])\n",
    "sns.lineplot(history.history['val_loss'])"
   ]
  },
  {
   "cell_type": "code",
   "execution_count": 30,
   "id": "c9bf7b58-4dbe-4145-989f-3076bb0e5017",
   "metadata": {
    "tags": []
   },
   "outputs": [
    {
     "data": {
      "image/png": "[encoded data removed]",
      "text/plain": [
       "<Figure size 800x500 with 1 Axes>"
      ]
     },
     "metadata": {},
     "output_type": "display_data"
    }
   ],
   "source": [
    "pd.DataFrame(history.history).plot(\n",
    "    figsize=(8, 5),\n",
    "    xlim=[0, 19],\n",
    "    ylim=[0, 10],\n",
    "    grid=True,\n",
    "    xlabel=\"Epoch\",\n",
    "    style=[\"r--\", \"r-+\", \"b--\", \"b-+\"]\n",
    ")\n",
    "plt.show()"
   ]
  },
  {
   "cell_type": "code",
   "execution_count": 31,
   "id": "b9eca724-2323-4ec2-b0c1-d03c67e993f4",
   "metadata": {},
   "outputs": [
    {
     "name": "stdout",
     "output_type": "stream",
     "text": [
      "162/162 [==============================] - 0s 778us/step - loss: 0.2680 - root_mean_squared_error: 0.5177\n"
     ]
    },
    {
     "data": {
      "text/plain": [
       "(0.26799049973487854, 0.5176779627799988)"
      ]
     },
     "execution_count": 31,
     "metadata": {},
     "output_type": "execute_result"
    }
   ],
   "source": [
    "mse_test, rmse_test = model.evaluate(X_test, y_test)\n",
    "mse_test, rmse_test"
   ]
  },
  {
   "cell_type": "code",
   "execution_count": 32,
   "id": "3524987e-00e5-4cc2-ba40-875d2f8a3e6f",
   "metadata": {},
   "outputs": [
    {
     "name": "stdout",
     "output_type": "stream",
     "text": [
      "1/1 [==============================] - 0s 52ms/step\n"
     ]
    },
    {
     "data": {
      "text/plain": [
       "array([[0.4969551],\n",
       "       [1.0254501],\n",
       "       [4.762932 ]], dtype=float32)"
      ]
     },
     "execution_count": 32,
     "metadata": {},
     "output_type": "execute_result"
    }
   ],
   "source": [
    "X_new = X_test[:3]\n",
    "y_pred = model.predict(X_new)\n",
    "y_pred"
   ]
  },
  {
   "cell_type": "code",
   "execution_count": 33,
   "id": "970cde37-558f-4245-9be8-40002314c65c",
   "metadata": {},
   "outputs": [
    {
     "data": {
      "text/plain": [
       "array([0.477  , 0.458  , 5.00001])"
      ]
     },
     "execution_count": 33,
     "metadata": {},
     "output_type": "execute_result"
    }
   ],
   "source": [
    "y_test[:3]"
   ]
  },
  {
   "cell_type": "markdown",
   "id": "134560fd-8098-48cf-9d50-276cab69da4d",
   "metadata": {},
   "source": [
    "## Building Complex Models Using the Functional API"
   ]
  },
  {
   "cell_type": "code",
   "execution_count": 34,
   "id": "95af802d-0562-4d38-9838-654b56e25414",
   "metadata": {
    "scrolled": true,
    "tags": []
   },
   "outputs": [],
   "source": [
    "normalization_layer = tf.keras.layers.Normalization()\n",
    "hidden_layer_1 = tf.keras.layers.Dense(30, activation=\"relu\")\n",
    "hidden_layer_2 = tf.keras.layers.Dense(30, activation=\"relu\")\n",
    "concat_layer = tf.keras.layers.Concatenate()\n",
    "output_layer = tf.keras.layers.Dense(1)\n",
    "\n",
    "input_ = tf.keras.layers.Input(shape=X_train.shape[1:])\n",
    "normalized = normalization_layer(input_)\n",
    "hidden_1 = hidden_layer_1(normalized)\n",
    "hidden_2 = hidden_layer_2(hidden_1)\n",
    "concat = concat_layer([normalized, hidden_2])\n",
    "output = output_layer(concat)\n",
    "\n",
    "model = tf.keras.Model(inputs=[input_], outputs=[output])"
   ]
  },
  {
   "cell_type": "code",
   "execution_count": 35,
   "id": "64cc9658-2334-46ce-bd68-67dbdae24974",
   "metadata": {
    "scrolled": true,
    "tags": []
   },
   "outputs": [
    {
     "name": "stdout",
     "output_type": "stream",
     "text": [
      "Epoch 1/50\n",
      "363/363 [==============================] - 1s 2ms/step - loss: 495404.8438 - root_mean_squared_error: 703.8500 - val_loss: 432643.3438 - val_root_mean_squared_error: 657.7563\n",
      "Epoch 2/50\n",
      "363/363 [==============================] - 0s 1ms/step - loss: 293024.4688 - root_mean_squared_error: 541.3173 - val_loss: 243669.9688 - val_root_mean_squared_error: 493.6294\n",
      "Epoch 3/50\n",
      "363/363 [==============================] - 0s 1ms/step - loss: 152952.2812 - root_mean_squared_error: 391.0912 - val_loss: 113698.6875 - val_root_mean_squared_error: 337.1924\n",
      "Epoch 4/50\n",
      "363/363 [==============================] - 0s 1ms/step - loss: 58522.7578 - root_mean_squared_error: 241.9148 - val_loss: 17941.3164 - val_root_mean_squared_error: 133.9452\n",
      "Epoch 5/50\n",
      "363/363 [==============================] - 0s 1ms/step - loss: 3756.9873 - root_mean_squared_error: 61.2943 - val_loss: 885.2320 - val_root_mean_squared_error: 29.7528\n",
      "Epoch 6/50\n",
      "363/363 [==============================] - 0s 1ms/step - loss: 526.7830 - root_mean_squared_error: 22.9518 - val_loss: 582.4872 - val_root_mean_squared_error: 24.1348\n",
      "Epoch 7/50\n",
      "363/363 [==============================] - 0s 1ms/step - loss: 382.4701 - root_mean_squared_error: 19.5568 - val_loss: 417.2783 - val_root_mean_squared_error: 20.4274\n",
      "Epoch 8/50\n",
      "363/363 [==============================] - 0s 1ms/step - loss: 220.2955 - root_mean_squared_error: 14.8424 - val_loss: 223.5240 - val_root_mean_squared_error: 14.9507\n",
      "Epoch 9/50\n",
      "363/363 [==============================] - 0s 1ms/step - loss: 123.9229 - root_mean_squared_error: 11.1321 - val_loss: 109.9437 - val_root_mean_squared_error: 10.4854\n",
      "Epoch 10/50\n",
      "363/363 [==============================] - 0s 1ms/step - loss: 56.5941 - root_mean_squared_error: 7.5229 - val_loss: 65.6136 - val_root_mean_squared_error: 8.1002\n",
      "Epoch 11/50\n",
      "363/363 [==============================] - 0s 1ms/step - loss: 43.6825 - root_mean_squared_error: 6.6093 - val_loss: 53.2745 - val_root_mean_squared_error: 7.2989\n",
      "Epoch 12/50\n",
      "363/363 [==============================] - 0s 1ms/step - loss: 38.8587 - root_mean_squared_error: 6.2337 - val_loss: 47.1945 - val_root_mean_squared_error: 6.8698\n",
      "Epoch 13/50\n",
      "363/363 [==============================] - 0s 1ms/step - loss: 35.4793 - root_mean_squared_error: 5.9565 - val_loss: 41.8639 - val_root_mean_squared_error: 6.4702\n",
      "Epoch 14/50\n",
      "363/363 [==============================] - 0s 1ms/step - loss: 32.6493 - root_mean_squared_error: 5.7140 - val_loss: 38.2276 - val_root_mean_squared_error: 6.1828\n",
      "Epoch 15/50\n",
      "363/363 [==============================] - 0s 1ms/step - loss: 29.9978 - root_mean_squared_error: 5.4770 - val_loss: 35.2423 - val_root_mean_squared_error: 5.9365\n",
      "Epoch 16/50\n",
      "363/363 [==============================] - 0s 1ms/step - loss: 27.4732 - root_mean_squared_error: 5.2415 - val_loss: 31.8712 - val_root_mean_squared_error: 5.6455\n",
      "Epoch 17/50\n",
      "363/363 [==============================] - 0s 1ms/step - loss: 24.9563 - root_mean_squared_error: 4.9956 - val_loss: 28.9214 - val_root_mean_squared_error: 5.3779\n",
      "Epoch 18/50\n",
      "363/363 [==============================] - 0s 1ms/step - loss: 22.4376 - root_mean_squared_error: 4.7368 - val_loss: 25.8285 - val_root_mean_squared_error: 5.0822\n",
      "Epoch 19/50\n",
      "363/363 [==============================] - 0s 1ms/step - loss: 19.8649 - root_mean_squared_error: 4.4570 - val_loss: 23.1428 - val_root_mean_squared_error: 4.8107\n",
      "Epoch 20/50\n",
      "363/363 [==============================] - 0s 1ms/step - loss: 17.3967 - root_mean_squared_error: 4.1709 - val_loss: 20.4435 - val_root_mean_squared_error: 4.5214\n",
      "Epoch 21/50\n",
      "363/363 [==============================] - 0s 1ms/step - loss: 15.0120 - root_mean_squared_error: 3.8745 - val_loss: 17.9244 - val_root_mean_squared_error: 4.2337\n",
      "Epoch 22/50\n",
      "363/363 [==============================] - 0s 1ms/step - loss: 12.7752 - root_mean_squared_error: 3.5742 - val_loss: 15.4986 - val_root_mean_squared_error: 3.9368\n",
      "Epoch 23/50\n",
      "363/363 [==============================] - 0s 1ms/step - loss: 10.6927 - root_mean_squared_error: 3.2700 - val_loss: 13.7939 - val_root_mean_squared_error: 3.7140\n",
      "Epoch 24/50\n",
      "363/363 [==============================] - 0s 1ms/step - loss: 8.7715 - root_mean_squared_error: 2.9617 - val_loss: 11.2639 - val_root_mean_squared_error: 3.3562\n",
      "Epoch 25/50\n",
      "363/363 [==============================] - 0s 1ms/step - loss: 7.1508 - root_mean_squared_error: 2.6741 - val_loss: 9.5579 - val_root_mean_squared_error: 3.0916\n",
      "Epoch 26/50\n",
      "363/363 [==============================] - 0s 1ms/step - loss: 5.6457 - root_mean_squared_error: 2.3761 - val_loss: 8.1027 - val_root_mean_squared_error: 2.8465\n",
      "Epoch 27/50\n",
      "363/363 [==============================] - 0s 1ms/step - loss: 4.4270 - root_mean_squared_error: 2.1040 - val_loss: 7.2722 - val_root_mean_squared_error: 2.6967\n",
      "Epoch 28/50\n",
      "363/363 [==============================] - 0s 1ms/step - loss: 3.4434 - root_mean_squared_error: 1.8557 - val_loss: 5.8599 - val_root_mean_squared_error: 2.4207\n",
      "Epoch 29/50\n",
      "363/363 [==============================] - 0s 1ms/step - loss: 2.7042 - root_mean_squared_error: 1.6445 - val_loss: 5.2582 - val_root_mean_squared_error: 2.2931\n",
      "Epoch 30/50\n",
      "363/363 [==============================] - 0s 1ms/step - loss: 2.1636 - root_mean_squared_error: 1.4709 - val_loss: 4.5859 - val_root_mean_squared_error: 2.1415\n",
      "Epoch 31/50\n",
      "363/363 [==============================] - 0s 1ms/step - loss: 1.8285 - root_mean_squared_error: 1.3522 - val_loss: 4.0809 - val_root_mean_squared_error: 2.0201\n",
      "Epoch 32/50\n",
      "363/363 [==============================] - 0s 1ms/step - loss: 1.6048 - root_mean_squared_error: 1.2668 - val_loss: 3.7723 - val_root_mean_squared_error: 1.9422\n",
      "Epoch 33/50\n",
      "363/363 [==============================] - 0s 1ms/step - loss: 1.4464 - root_mean_squared_error: 1.2026 - val_loss: 3.6010 - val_root_mean_squared_error: 1.8976\n",
      "Epoch 34/50\n",
      "363/363 [==============================] - 0s 1ms/step - loss: 1.3577 - root_mean_squared_error: 1.1652 - val_loss: 3.3782 - val_root_mean_squared_error: 1.8380\n",
      "Epoch 35/50\n",
      "363/363 [==============================] - 0s 1ms/step - loss: 1.2880 - root_mean_squared_error: 1.1349 - val_loss: 3.1708 - val_root_mean_squared_error: 1.7807\n",
      "Epoch 36/50\n",
      "363/363 [==============================] - 0s 1ms/step - loss: 1.2256 - root_mean_squared_error: 1.1071 - val_loss: 2.9301 - val_root_mean_squared_error: 1.7118\n",
      "Epoch 37/50\n",
      "363/363 [==============================] - 0s 1ms/step - loss: 1.1730 - root_mean_squared_error: 1.0831 - val_loss: 3.0516 - val_root_mean_squared_error: 1.7469\n",
      "Epoch 38/50\n",
      "363/363 [==============================] - 0s 1ms/step - loss: 1.1300 - root_mean_squared_error: 1.0630 - val_loss: 2.8728 - val_root_mean_squared_error: 1.6949\n",
      "Epoch 39/50\n",
      "363/363 [==============================] - 0s 1ms/step - loss: 1.1075 - root_mean_squared_error: 1.0524 - val_loss: 3.2897 - val_root_mean_squared_error: 1.8137\n",
      "Epoch 40/50\n",
      "363/363 [==============================] - 0s 1ms/step - loss: 1.0924 - root_mean_squared_error: 1.0452 - val_loss: 2.6889 - val_root_mean_squared_error: 1.6398\n",
      "Epoch 41/50\n",
      "363/363 [==============================] - 0s 1ms/step - loss: 1.1092 - root_mean_squared_error: 1.0532 - val_loss: 2.8874 - val_root_mean_squared_error: 1.6992\n",
      "Epoch 42/50\n",
      "363/363 [==============================] - 0s 1ms/step - loss: 1.0780 - root_mean_squared_error: 1.0383 - val_loss: 2.5869 - val_root_mean_squared_error: 1.6084\n",
      "Epoch 43/50\n",
      "363/363 [==============================] - 0s 1ms/step - loss: 1.0233 - root_mean_squared_error: 1.0116 - val_loss: 2.6723 - val_root_mean_squared_error: 1.6347\n",
      "Epoch 44/50\n",
      "363/363 [==============================] - 0s 1ms/step - loss: 1.0434 - root_mean_squared_error: 1.0215 - val_loss: 2.7791 - val_root_mean_squared_error: 1.6671\n",
      "Epoch 45/50\n",
      "363/363 [==============================] - 0s 1ms/step - loss: 1.0463 - root_mean_squared_error: 1.0229 - val_loss: 2.6670 - val_root_mean_squared_error: 1.6331\n",
      "Epoch 46/50\n",
      "363/363 [==============================] - 0s 1ms/step - loss: 1.0185 - root_mean_squared_error: 1.0092 - val_loss: 2.6268 - val_root_mean_squared_error: 1.6207\n",
      "Epoch 47/50\n",
      "363/363 [==============================] - 0s 1ms/step - loss: 0.9565 - root_mean_squared_error: 0.9780 - val_loss: 2.7147 - val_root_mean_squared_error: 1.6476\n",
      "Epoch 48/50\n",
      "363/363 [==============================] - 0s 1ms/step - loss: 0.9936 - root_mean_squared_error: 0.9968 - val_loss: 2.7185 - val_root_mean_squared_error: 1.6488\n",
      "Epoch 49/50\n",
      "363/363 [==============================] - 0s 1ms/step - loss: 0.9358 - root_mean_squared_error: 0.9674 - val_loss: 2.6091 - val_root_mean_squared_error: 1.6153\n",
      "Epoch 50/50\n",
      "363/363 [==============================] - 0s 1ms/step - loss: 0.9555 - root_mean_squared_error: 0.9775 - val_loss: 2.5063 - val_root_mean_squared_error: 1.5831\n"
     ]
    }
   ],
   "source": [
    "optimizer = tf.keras.optimizers.Adam(learning_rate=5e-5)\n",
    "\n",
    "model.compile(\n",
    "    loss=tf.keras.losses.mean_squared_error,\n",
    "    optimizer=optimizer,\n",
    "    metrics=[tf.keras.metrics.RootMeanSquaredError()]\n",
    ")\n",
    "\n",
    "norm_layer.adapt(X_train)\n",
    "\n",
    "history = model.fit(\n",
    "    X_train, y_train,\n",
    "    epochs=50,\n",
    "    validation_data=(X_valid, y_valid)\n",
    ")"
   ]
  },
  {
   "cell_type": "code",
   "execution_count": 36,
   "id": "ee8d32c9-b0d7-4904-807c-d0c2e90c02c3",
   "metadata": {},
   "outputs": [
    {
     "data": {
      "image/png": "[encoded data removed]",
      "text/plain": [
       "<Figure size 800x500 with 1 Axes>"
      ]
     },
     "metadata": {},
     "output_type": "display_data"
    }
   ],
   "source": [
    "pd.DataFrame(history.history).plot(\n",
    "    figsize=(8, 5),\n",
    "    xlim=[0, 50],\n",
    "    ylim=[0, 1],\n",
    "    grid=True,\n",
    "    xlabel=\"Epoch\",\n",
    "    style=[\"r--\", \"r-+\", \"b--\", \"b-+\"]\n",
    ")\n",
    "plt.show()"
   ]
  },
  {
   "cell_type": "code",
   "execution_count": 37,
   "id": "0b6260d3-5452-49cb-b4d3-5be38ac6a41b",
   "metadata": {},
   "outputs": [
    {
     "name": "stdout",
     "output_type": "stream",
     "text": [
      "162/162 [==============================] - 0s 764us/step - loss: 0.8624 - root_mean_squared_error: 0.9287\n"
     ]
    },
    {
     "data": {
      "text/plain": [
       "(0.8623989224433899, 0.9286543726921082)"
      ]
     },
     "execution_count": 37,
     "metadata": {},
     "output_type": "execute_result"
    }
   ],
   "source": [
    "mse_test, rmse_test = model.evaluate(X_test, y_test)\n",
    "mse_test, rmse_test"
   ]
  },
  {
   "cell_type": "code",
   "execution_count": 38,
   "id": "1871e9f0-91e9-4913-9fb8-1a267ccfa560",
   "metadata": {},
   "outputs": [
    {
     "name": "stdout",
     "output_type": "stream",
     "text": [
      "1/1 [==============================] - 0s 46ms/step\n"
     ]
    },
    {
     "data": {
      "text/plain": [
       "(array([[0.75849587],\n",
       "        [1.6792952 ],\n",
       "        [1.7976881 ]], dtype=float32),\n",
       " array([0.477  , 0.458  , 5.00001]))"
      ]
     },
     "execution_count": 38,
     "metadata": {},
     "output_type": "execute_result"
    }
   ],
   "source": [
    "X_new = X_test[:3]\n",
    "y_pred = model.predict(X_new)\n",
    "y_pred, y_test[:3]"
   ]
  },
  {
   "cell_type": "code",
   "execution_count": 39,
   "id": "e220ab03-a021-4bac-9d4e-8045575d1f89",
   "metadata": {
    "scrolled": true,
    "tags": []
   },
   "outputs": [
    {
     "name": "stdout",
     "output_type": "stream",
     "text": [
      "Epoch 1/20\n",
      "363/363 [==============================] - 1s 2ms/step - loss: 1.6202 - root_mean_squared_error: 1.2729 - val_loss: 3.3994 - val_root_mean_squared_error: 1.8437\n",
      "Epoch 2/20\n",
      "363/363 [==============================] - 0s 1ms/step - loss: 0.5612 - root_mean_squared_error: 0.7491 - val_loss: 0.9905 - val_root_mean_squared_error: 0.9952\n",
      "Epoch 3/20\n",
      "363/363 [==============================] - 0s 1ms/step - loss: 0.4489 - root_mean_squared_error: 0.6700 - val_loss: 0.4790 - val_root_mean_squared_error: 0.6921\n",
      "Epoch 4/20\n",
      "363/363 [==============================] - 0s 1ms/step - loss: 0.4133 - root_mean_squared_error: 0.6429 - val_loss: 0.4218 - val_root_mean_squared_error: 0.6495\n",
      "Epoch 5/20\n",
      "363/363 [==============================] - 0s 1ms/step - loss: 0.3958 - root_mean_squared_error: 0.6291 - val_loss: 0.6327 - val_root_mean_squared_error: 0.7954\n",
      "Epoch 6/20\n",
      "363/363 [==============================] - 0s 1ms/step - loss: 0.3877 - root_mean_squared_error: 0.6226 - val_loss: 0.6443 - val_root_mean_squared_error: 0.8027\n",
      "Epoch 7/20\n",
      "363/363 [==============================] - 0s 1ms/step - loss: 0.3811 - root_mean_squared_error: 0.6173 - val_loss: 1.0907 - val_root_mean_squared_error: 1.0444\n",
      "Epoch 8/20\n",
      "363/363 [==============================] - 0s 1ms/step - loss: 0.3742 - root_mean_squared_error: 0.6117 - val_loss: 1.8472 - val_root_mean_squared_error: 1.3591\n",
      "Epoch 9/20\n",
      "363/363 [==============================] - 0s 1ms/step - loss: 0.3741 - root_mean_squared_error: 0.6116 - val_loss: 3.3155 - val_root_mean_squared_error: 1.8209\n",
      "Epoch 10/20\n",
      "363/363 [==============================] - 0s 1ms/step - loss: 0.3894 - root_mean_squared_error: 0.6240 - val_loss: 0.7473 - val_root_mean_squared_error: 0.8645\n",
      "Epoch 11/20\n",
      "363/363 [==============================] - 0s 1ms/step - loss: 0.3600 - root_mean_squared_error: 0.6000 - val_loss: 0.5833 - val_root_mean_squared_error: 0.7637\n",
      "Epoch 12/20\n",
      "363/363 [==============================] - 0s 1ms/step - loss: 0.3664 - root_mean_squared_error: 0.6053 - val_loss: 0.4722 - val_root_mean_squared_error: 0.6872\n",
      "Epoch 13/20\n",
      "363/363 [==============================] - 0s 1ms/step - loss: 0.3535 - root_mean_squared_error: 0.5945 - val_loss: 0.8338 - val_root_mean_squared_error: 0.9131\n",
      "Epoch 14/20\n",
      "363/363 [==============================] - 0s 1ms/step - loss: 0.3503 - root_mean_squared_error: 0.5919 - val_loss: 1.8488 - val_root_mean_squared_error: 1.3597\n",
      "Epoch 15/20\n",
      "363/363 [==============================] - 0s 1ms/step - loss: 0.3546 - root_mean_squared_error: 0.5955 - val_loss: 3.6995 - val_root_mean_squared_error: 1.9234\n",
      "Epoch 16/20\n",
      "363/363 [==============================] - 0s 1ms/step - loss: 0.3644 - root_mean_squared_error: 0.6036 - val_loss: 1.4698 - val_root_mean_squared_error: 1.2123\n",
      "Epoch 17/20\n",
      "363/363 [==============================] - 0s 1ms/step - loss: 0.3542 - root_mean_squared_error: 0.5951 - val_loss: 0.6757 - val_root_mean_squared_error: 0.8220\n",
      "Epoch 18/20\n",
      "363/363 [==============================] - 0s 1ms/step - loss: 0.3394 - root_mean_squared_error: 0.5826 - val_loss: 0.3196 - val_root_mean_squared_error: 0.5653\n",
      "Epoch 19/20\n",
      "363/363 [==============================] - 0s 1ms/step - loss: 0.3366 - root_mean_squared_error: 0.5802 - val_loss: 0.4216 - val_root_mean_squared_error: 0.6493\n",
      "Epoch 20/20\n",
      "363/363 [==============================] - 0s 1ms/step - loss: 0.3435 - root_mean_squared_error: 0.5861 - val_loss: 0.3135 - val_root_mean_squared_error: 0.5599\n",
      "162/162 [==============================] - 0s 854us/step - loss: 0.3350 - root_mean_squared_error: 0.5788\n",
      "mse test: [0.3350003659725189, 0.578792154788971]\n",
      "1/1 [==============================] - 0s 52ms/step\n",
      "pred: [[0.39869004]\n",
      " [1.370373  ]\n",
      " [3.6091406 ]] [0.477   0.458   5.00001]\n"
     ]
    }
   ],
   "source": [
    "input_wide = tf.keras.layers.Input(shape=[5])\n",
    "input_deep = tf.keras.layers.Input(shape=[6])\n",
    "\n",
    "norm_layer_wide = tf.keras.layers.Normalization()\n",
    "norm_layer_deep = tf.keras.layers.Normalization()\n",
    "\n",
    "norm_wide = norm_layer_wide(input_wide)\n",
    "norm_deep = norm_layer_deep(input_deep)\n",
    "\n",
    "hidden_1 = tf.keras.layers.Dense(30, activation=\"relu\")(norm_deep)\n",
    "hidden_2 = tf.keras.layers.Dense(30, activation=\"relu\")(hidden_1)\n",
    "concat = tf.keras.layers.Concatenate()([norm_wide, hidden_2])\n",
    "output = tf.keras.layers.Dense(1)(concat)\n",
    "\n",
    "model = tf.keras.Model(inputs=[input_wide, input_deep], outputs=[output])\n",
    "\n",
    "\n",
    "optimizer = tf.keras.optimizers.Adam(learning_rate=1e-3)\n",
    "model.compile(\n",
    "    loss=tf.keras.losses.mean_squared_error,\n",
    "    optimizer=optimizer,\n",
    "    metrics=[tf.keras.metrics.RootMeanSquaredError()]\n",
    ")\n",
    "\n",
    "X_train_wide, X_train_deep = X_train[:, :5], X_train[:, 2:]\n",
    "X_valid_wide, X_valid_deep = X_valid[:, :5], X_valid[:, 2:]\n",
    "X_test_wide, X_test_deep = X_test[:, :5], X_test[:, 2:]\n",
    "X_new_wide, X_new_deep = X_test_wide[:3], X_test_deep[:3]\n",
    "\n",
    "norm_layer_wide.adapt(X_train_wide)\n",
    "norm_layer_deep.adapt(X_train_deep)\n",
    "history = model.fit(\n",
    "    (X_train_wide, X_train_deep), y_train,\n",
    "    epochs=20,\n",
    "    validation_data=((X_valid_wide, X_valid_deep), y_valid)\n",
    ")\n",
    "mse_test = model.evaluate((X_test_wide, X_test_deep), y_test)\n",
    "print(\"mse test:\", mse_test)\n",
    "\n",
    "y_pred = model.predict((X_new_wide, X_new_deep))\n",
    "print(\"pred:\", y_pred, y_test[:3])"
   ]
  },
  {
   "cell_type": "markdown",
   "id": "3eac61eb-b98d-4aff-8e6f-06847d708ac9",
   "metadata": {},
   "source": [
    "### Using the Subclassing API to Build Dynamic Models"
   ]
  },
  {
   "cell_type": "code",
   "execution_count": 50,
   "id": "e855fee2-11d5-438a-99f3-10e48ada23c5",
   "metadata": {
    "scrolled": true,
    "tags": []
   },
   "outputs": [],
   "source": [
    "class WideAndDeepModel(tf.keras.Model):\n",
    "    def __init__(self, units=30, activation=\"relu\", **kwargs):\n",
    "        super().__init__(**kwargs)\n",
    "        \n",
    "        self.norm_layer_wide = tf.keras.layers.Normalization()\n",
    "        self.norm_layer_deep = tf.keras.layers.Normalization()\n",
    "        \n",
    "        self.hidden_1 = tf.keras.layers.Dense(units, activation=activation)\n",
    "        self.hidden_2 = tf.keras.layers.Dense(units, activation=activation)\n",
    "        \n",
    "        self.main_output = tf.keras.layers.Dense(1)\n",
    "        self.aux_output = tf.keras.layers.Dense(1)\n",
    "        \n",
    "    def call(self, inputs):\n",
    "        input_wide, input_deep = inputs\n",
    "        \n",
    "        norm_wide = self.norm_layer_wide(input_wide)\n",
    "        norm_deep = self.norm_layer_deep(input_deep)\n",
    "        \n",
    "        hidden_1 = self.hidden_1(norm_deep)\n",
    "        hidden_2 = self.hidden_2(hidden_1)\n",
    "        \n",
    "        concat = tf.keras.layers.concatenate([norm_wide, hidden_2])\n",
    "        \n",
    "        output = self.main_output(concat)\n",
    "        aux_output = self.aux_output(hidden_2)\n",
    "        \n",
    "        return output, aux_output\n",
    "\n",
    "tf.random.set_seed(42)\n",
    "model = WideAndDeepModel(30, activation=\"relu\", name=\"my_cool_model\")"
   ]
  },
  {
   "cell_type": "code",
   "execution_count": 51,
   "id": "c46c8c8c-c52c-419c-8939-502d6b2642b1",
   "metadata": {},
   "outputs": [
    {
     "data": {
      "text/plain": [
       "((11610, 5), (11610, 6))"
      ]
     },
     "execution_count": 51,
     "metadata": {},
     "output_type": "execute_result"
    }
   ],
   "source": [
    "X_train_wide.shape, X_train_deep.shape"
   ]
  },
  {
   "cell_type": "code",
   "execution_count": 52,
   "id": "0f17ea09-8fc0-455f-9d0b-c7b0c0d73942",
   "metadata": {
    "scrolled": true,
    "tags": []
   },
   "outputs": [
    {
     "name": "stdout",
     "output_type": "stream",
     "text": [
      "Epoch 1/10\n",
      "363/363 [==============================] - 1s 2ms/step - loss: 1.8894 - output_1_loss: 1.8872 - output_2_loss: 1.9095 - output_1_root_mean_squared_error: 1.3738 - output_2_root_mean_squared_error: 1.3819 - val_loss: 1.1730 - val_output_1_loss: 1.1342 - val_output_2_loss: 1.5224 - val_output_1_root_mean_squared_error: 1.0650 - val_output_2_root_mean_squared_error: 1.2338\n",
      "Epoch 2/10\n",
      "363/363 [==============================] - 1s 1ms/step - loss: 0.6220 - output_1_loss: 0.6046 - output_2_loss: 0.7783 - output_1_root_mean_squared_error: 0.7776 - output_2_root_mean_squared_error: 0.8822 - val_loss: 0.6258 - val_output_1_loss: 0.6196 - val_output_2_loss: 0.6815 - val_output_1_root_mean_squared_error: 0.7872 - val_output_2_root_mean_squared_error: 0.8255\n",
      "Epoch 3/10\n",
      "363/363 [==============================] - 1s 1ms/step - loss: 0.4863 - output_1_loss: 0.4740 - output_2_loss: 0.5973 - output_1_root_mean_squared_error: 0.6885 - output_2_root_mean_squared_error: 0.7728 - val_loss: 0.6673 - val_output_1_loss: 0.6694 - val_output_2_loss: 0.6486 - val_output_1_root_mean_squared_error: 0.8182 - val_output_2_root_mean_squared_error: 0.8054\n",
      "Epoch 4/10\n",
      "363/363 [==============================] - 1s 1ms/step - loss: 0.4350 - output_1_loss: 0.4230 - output_2_loss: 0.5432 - output_1_root_mean_squared_error: 0.6504 - output_2_root_mean_squared_error: 0.7370 - val_loss: 0.5737 - val_output_1_loss: 0.5599 - val_output_2_loss: 0.6977 - val_output_1_root_mean_squared_error: 0.7483 - val_output_2_root_mean_squared_error: 0.8353\n",
      "Epoch 5/10\n",
      "363/363 [==============================] - 1s 1ms/step - loss: 0.4041 - output_1_loss: 0.3924 - output_2_loss: 0.5091 - output_1_root_mean_squared_error: 0.6264 - output_2_root_mean_squared_error: 0.7135 - val_loss: 0.3992 - val_output_1_loss: 0.3869 - val_output_2_loss: 0.5105 - val_output_1_root_mean_squared_error: 0.6220 - val_output_2_root_mean_squared_error: 0.7145\n",
      "Epoch 6/10\n",
      "363/363 [==============================] - 1s 1ms/step - loss: 0.3868 - output_1_loss: 0.3756 - output_2_loss: 0.4876 - output_1_root_mean_squared_error: 0.6129 - output_2_root_mean_squared_error: 0.6983 - val_loss: 1.1455 - val_output_1_loss: 1.1572 - val_output_2_loss: 1.0396 - val_output_1_root_mean_squared_error: 1.0757 - val_output_2_root_mean_squared_error: 1.0196\n",
      "Epoch 7/10\n",
      "363/363 [==============================] - 1s 1ms/step - loss: 0.3797 - output_1_loss: 0.3697 - output_2_loss: 0.4698 - output_1_root_mean_squared_error: 0.6081 - output_2_root_mean_squared_error: 0.6854 - val_loss: 0.9701 - val_output_1_loss: 1.0038 - val_output_2_loss: 0.6673 - val_output_1_root_mean_squared_error: 1.0019 - val_output_2_root_mean_squared_error: 0.8169\n",
      "Epoch 8/10\n",
      "363/363 [==============================] - 1s 1ms/step - loss: 0.3716 - output_1_loss: 0.3621 - output_2_loss: 0.4566 - output_1_root_mean_squared_error: 0.6018 - output_2_root_mean_squared_error: 0.6757 - val_loss: 2.5414 - val_output_1_loss: 2.3666 - val_output_2_loss: 4.1139 - val_output_1_root_mean_squared_error: 1.5384 - val_output_2_root_mean_squared_error: 2.0283\n",
      "Epoch 9/10\n",
      "363/363 [==============================] - 1s 1ms/step - loss: 0.3716 - output_1_loss: 0.3621 - output_2_loss: 0.4571 - output_1_root_mean_squared_error: 0.6018 - output_2_root_mean_squared_error: 0.6761 - val_loss: 1.4766 - val_output_1_loss: 1.5496 - val_output_2_loss: 0.8192 - val_output_1_root_mean_squared_error: 1.2448 - val_output_2_root_mean_squared_error: 0.9051\n",
      "Epoch 10/10\n",
      "363/363 [==============================] - 1s 1ms/step - loss: 0.3758 - output_1_loss: 0.3683 - output_2_loss: 0.4430 - output_1_root_mean_squared_error: 0.6069 - output_2_root_mean_squared_error: 0.6656 - val_loss: 1.0936 - val_output_1_loss: 1.1319 - val_output_2_loss: 0.7486 - val_output_1_root_mean_squared_error: 1.0639 - val_output_2_root_mean_squared_error: 0.8652\n"
     ]
    }
   ],
   "source": [
    "optimizer = tf.keras.optimizers.Adam(learning_rate=1e-3)\n",
    "model.compile(\n",
    "    loss=\"mse\",\n",
    "    loss_weights=(0.9, 0.1),\n",
    "    optimizer=optimizer,\n",
    "    metrics=[tf.keras.metrics.RootMeanSquaredError()]\n",
    ")\n",
    "\n",
    "model.norm_layer_deep.adapt(X_train_deep)\n",
    "model.norm_layer_wide.adapt(X_train_wide)\n",
    "\n",
    "history = model.fit(\n",
    "    (X_train_wide, X_train_deep), (y_train, y_train), \n",
    "    epochs=10,\n",
    "    validation_data=((X_valid_wide, X_valid_deep), (y_valid, y_valid))\n",
    ")"
   ]
  },
  {
   "cell_type": "code",
   "execution_count": 53,
   "id": "b3749b40-4301-475e-b457-7d06675e5c90",
   "metadata": {},
   "outputs": [
    {
     "name": "stdout",
     "output_type": "stream",
     "text": [
      "162/162 [==============================] - 0s 919us/step - loss: 0.3595 - output_1_loss: 0.3525 - output_2_loss: 0.4221 - output_1_root_mean_squared_error: 0.5938 - output_2_root_mean_squared_error: 0.6497\n",
      "0.359500914812088 0.352548748254776 0.42207178473472595 0.5937581658363342 0.6496705412864685\n"
     ]
    }
   ],
   "source": [
    "eval_results = model.evaluate((X_test_wide, X_test_deep), (y_test, y_test))\n",
    "weighted_sum_of_losses, main_loss, aux_loss, main_rmse, aux_rmse = eval_results\n",
    "print(weighted_sum_of_losses, main_loss, aux_loss, main_rmse, aux_rmse)"
   ]
  },
  {
   "cell_type": "code",
   "execution_count": 54,
   "id": "af225dda-39dc-4068-af56-6968aaf965e9",
   "metadata": {},
   "outputs": [
    {
     "name": "stdout",
     "output_type": "stream",
     "text": [
      "WARNING:tensorflow:5 out of the last 5 calls to <function Model.make_predict_function.<locals>.predict_function at 0x14c2ea5e0> triggered tf.function retracing. Tracing is expensive and the excessive number of tracings could be due to (1) creating @tf.function repeatedly in a loop, (2) passing tensors with different shapes, (3) passing Python objects instead of tensors. For (1), please define your @tf.function outside of the loop. For (2), @tf.function has reduce_retracing=True option that can avoid unnecessary retracing. For (3), please refer to https://www.tensorflow.org/guide/function#controlling_retracing and https://www.tensorflow.org/api_docs/python/tf/function for  more details.\n",
      "1/1 [==============================] - 0s 63ms/step\n"
     ]
    },
    {
     "data": {
      "text/plain": [
       "(array([[0.23473087],\n",
       "        [1.5317334 ],\n",
       "        [3.410052  ]], dtype=float32),\n",
       " array([[0.46077487],\n",
       "        [1.5531741 ],\n",
       "        [2.9101036 ]], dtype=float32))"
      ]
     },
     "execution_count": 54,
     "metadata": {},
     "output_type": "execute_result"
    }
   ],
   "source": [
    "y_pred_main, y_pred_aux = model.predict((X_new_wide, X_new_deep))\n",
    "y_pred_main, y_pred_aux"
   ]
  },
  {
   "cell_type": "code",
   "execution_count": 61,
   "id": "b3325291-43b5-46a3-b9af-0c6056b96e0d",
   "metadata": {},
   "outputs": [
    {
     "data": {
      "text/plain": [
       "array([0.477  , 0.458  , 5.00001])"
      ]
     },
     "execution_count": 61,
     "metadata": {},
     "output_type": "execute_result"
    }
   ],
   "source": [
    "y_test[:3]"
   ]
  },
  {
   "cell_type": "markdown",
   "id": "c09cc48f-4351-49c1-bfb6-d5727d1d62b4",
   "metadata": {},
   "source": [
    "### Saving and Restoring a Model"
   ]
  },
  {
   "cell_type": "code",
   "execution_count": 62,
   "id": "1e8c9671-5672-4bca-8881-556cb4f8f2e0",
   "metadata": {},
   "outputs": [
    {
     "name": "stderr",
     "output_type": "stream",
     "text": [
      "WARNING:absl:Found untraced functions such as _update_step_xla while saving (showing 1 of 1). These functions will not be directly callable after loading.\n"
     ]
    },
    {
     "name": "stdout",
     "output_type": "stream",
     "text": [
      "INFO:tensorflow:Assets written to: my_keras_model/assets\n"
     ]
    },
    {
     "name": "stderr",
     "output_type": "stream",
     "text": [
      "INFO:tensorflow:Assets written to: my_keras_model/assets\n"
     ]
    }
   ],
   "source": [
    "model.save(\"my_keras_model\", save_format=\"tf\")"
   ]
  },
  {
   "cell_type": "code",
   "execution_count": 64,
   "id": "ba2c5756-47a7-453c-84a6-d4efacd219ee",
   "metadata": {},
   "outputs": [
    {
     "name": "stdout",
     "output_type": "stream",
     "text": [
      "WARNING:tensorflow:6 out of the last 6 calls to <function Model.make_predict_function.<locals>.predict_function at 0x14e363ca0> triggered tf.function retracing. Tracing is expensive and the excessive number of tracings could be due to (1) creating @tf.function repeatedly in a loop, (2) passing tensors with different shapes, (3) passing Python objects instead of tensors. For (1), please define your @tf.function outside of the loop. For (2), @tf.function has reduce_retracing=True option that can avoid unnecessary retracing. For (3), please refer to https://www.tensorflow.org/guide/function#controlling_retracing and https://www.tensorflow.org/api_docs/python/tf/function for  more details.\n"
     ]
    },
    {
     "name": "stderr",
     "output_type": "stream",
     "text": [
      "WARNING:tensorflow:6 out of the last 6 calls to <function Model.make_predict_function.<locals>.predict_function at 0x14e363ca0> triggered tf.function retracing. Tracing is expensive and the excessive number of tracings could be due to (1) creating @tf.function repeatedly in a loop, (2) passing tensors with different shapes, (3) passing Python objects instead of tensors. For (1), please define your @tf.function outside of the loop. For (2), @tf.function has reduce_retracing=True option that can avoid unnecessary retracing. For (3), please refer to https://www.tensorflow.org/guide/function#controlling_retracing and https://www.tensorflow.org/api_docs/python/tf/function for  more details.\n"
     ]
    },
    {
     "name": "stdout",
     "output_type": "stream",
     "text": [
      "1/1 [==============================] - 0s 68ms/step\n"
     ]
    },
    {
     "data": {
      "text/plain": [
       "(array([[0.23473093],\n",
       "        [1.5317335 ],\n",
       "        [3.410052  ]], dtype=float32),\n",
       " array([[0.46077487],\n",
       "        [1.5531741 ],\n",
       "        [2.9101036 ]], dtype=float32))"
      ]
     },
     "execution_count": 64,
     "metadata": {},
     "output_type": "execute_result"
    }
   ],
   "source": [
    "model = tf.keras.models.load_model(\"my_keras_model\")\n",
    "y_pred_main, y_pred_aux = model.predict((X_new_wide, X_new_deep))\n",
    "y_pred_main, y_pred_aux"
   ]
  },
  {
   "cell_type": "markdown",
   "id": "b1fecd41-9bcd-4476-b091-9ef5ff386554",
   "metadata": {},
   "source": [
    "### Using callbacks"
   ]
  },
  {
   "cell_type": "code",
   "execution_count": 67,
   "id": "9fe18ab7-3511-4573-ad1a-90c999a21d82",
   "metadata": {
    "scrolled": true,
    "tags": []
   },
   "outputs": [
    {
     "name": "stdout",
     "output_type": "stream",
     "text": [
      "Epoch 1/10\n",
      "363/363 [==============================] - 1s 2ms/step - loss: 0.3666 - output_1_loss: 0.3590 - output_2_loss: 0.4347 - output_1_root_mean_squared_error: 0.5992 - output_2_root_mean_squared_error: 0.6593 - val_loss: 0.3649 - val_output_1_loss: 0.3523 - val_output_2_loss: 0.4776 - val_output_1_root_mean_squared_error: 0.5936 - val_output_2_root_mean_squared_error: 0.6911\n",
      "Epoch 2/10\n",
      "363/363 [==============================] - 1s 1ms/step - loss: 0.3549 - output_1_loss: 0.3470 - output_2_loss: 0.4254 - output_1_root_mean_squared_error: 0.5891 - output_2_root_mean_squared_error: 0.6523 - val_loss: 0.4632 - val_output_1_loss: 0.4607 - val_output_2_loss: 0.4861 - val_output_1_root_mean_squared_error: 0.6787 - val_output_2_root_mean_squared_error: 0.6972\n",
      "Epoch 3/10\n",
      "363/363 [==============================] - 1s 1ms/step - loss: 0.3615 - output_1_loss: 0.3550 - output_2_loss: 0.4198 - output_1_root_mean_squared_error: 0.5958 - output_2_root_mean_squared_error: 0.6479 - val_loss: 0.3402 - val_output_1_loss: 0.3284 - val_output_2_loss: 0.4464 - val_output_1_root_mean_squared_error: 0.5731 - val_output_2_root_mean_squared_error: 0.6682\n",
      "Epoch 4/10\n",
      "363/363 [==============================] - 1s 2ms/step - loss: 0.3509 - output_1_loss: 0.3434 - output_2_loss: 0.4186 - output_1_root_mean_squared_error: 0.5860 - output_2_root_mean_squared_error: 0.6470 - val_loss: 0.3331 - val_output_1_loss: 0.3238 - val_output_2_loss: 0.4174 - val_output_1_root_mean_squared_error: 0.5690 - val_output_2_root_mean_squared_error: 0.6461\n",
      "Epoch 5/10\n",
      "363/363 [==============================] - 1s 1ms/step - loss: 0.3479 - output_1_loss: 0.3408 - output_2_loss: 0.4117 - output_1_root_mean_squared_error: 0.5838 - output_2_root_mean_squared_error: 0.6417 - val_loss: 0.5232 - val_output_1_loss: 0.5214 - val_output_2_loss: 0.5393 - val_output_1_root_mean_squared_error: 0.7221 - val_output_2_root_mean_squared_error: 0.7344\n",
      "Epoch 6/10\n",
      "363/363 [==============================] - 1s 1ms/step - loss: 0.3476 - output_1_loss: 0.3404 - output_2_loss: 0.4121 - output_1_root_mean_squared_error: 0.5834 - output_2_root_mean_squared_error: 0.6419 - val_loss: 1.1970 - val_output_1_loss: 1.2005 - val_output_2_loss: 1.1654 - val_output_1_root_mean_squared_error: 1.0957 - val_output_2_root_mean_squared_error: 1.0795\n",
      "Epoch 7/10\n",
      "363/363 [==============================] - 1s 1ms/step - loss: 0.3497 - output_1_loss: 0.3431 - output_2_loss: 0.4097 - output_1_root_mean_squared_error: 0.5857 - output_2_root_mean_squared_error: 0.6401 - val_loss: 0.8204 - val_output_1_loss: 0.8456 - val_output_2_loss: 0.5937 - val_output_1_root_mean_squared_error: 0.9196 - val_output_2_root_mean_squared_error: 0.7705\n",
      "Epoch 8/10\n",
      "363/363 [==============================] - 1s 2ms/step - loss: 0.3447 - output_1_loss: 0.3378 - output_2_loss: 0.4062 - output_1_root_mean_squared_error: 0.5812 - output_2_root_mean_squared_error: 0.6373 - val_loss: 1.8968 - val_output_1_loss: 1.8771 - val_output_2_loss: 2.0743 - val_output_1_root_mean_squared_error: 1.3701 - val_output_2_root_mean_squared_error: 1.4402\n",
      "Epoch 9/10\n",
      "363/363 [==============================] - 1s 1ms/step - loss: 0.3471 - output_1_loss: 0.3402 - output_2_loss: 0.4091 - output_1_root_mean_squared_error: 0.5833 - output_2_root_mean_squared_error: 0.6396 - val_loss: 1.0424 - val_output_1_loss: 1.0709 - val_output_2_loss: 0.7856 - val_output_1_root_mean_squared_error: 1.0348 - val_output_2_root_mean_squared_error: 0.8863\n",
      "Epoch 10/10\n",
      "363/363 [==============================] - 1s 1ms/step - loss: 0.3500 - output_1_loss: 0.3436 - output_2_loss: 0.4073 - output_1_root_mean_squared_error: 0.5862 - output_2_root_mean_squared_error: 0.6382 - val_loss: 1.4569 - val_output_1_loss: 1.4581 - val_output_2_loss: 1.4458 - val_output_1_root_mean_squared_error: 1.2075 - val_output_2_root_mean_squared_error: 1.2024\n"
     ]
    }
   ],
   "source": [
    "checkpoint_cb = tf.keras.callbacks.ModelCheckpoint(\n",
    "    \"my_checkpoints\",\n",
    "    save_weights_only=True\n",
    ")\n",
    "\n",
    "history = model.fit(\n",
    "    (X_train_wide, X_train_deep), (y_train, y_train), \n",
    "    epochs=10,\n",
    "    validation_data=((X_valid_wide, X_valid_deep), (y_valid, y_valid)),\n",
    "    callbacks=[checkpoint_cb]\n",
    ")"
   ]
  },
  {
   "cell_type": "code",
   "execution_count": 69,
   "id": "9a9974e1-7cc2-452c-8268-e0ffd05bbbf6",
   "metadata": {
    "scrolled": true,
    "tags": []
   },
   "outputs": [
    {
     "name": "stdout",
     "output_type": "stream",
     "text": [
      "Epoch 1/100\n",
      "363/363 [==============================] - 1s 2ms/step - loss: 0.3273 - output_1_loss: 0.3211 - output_2_loss: 0.3825 - output_1_root_mean_squared_error: 0.5667 - output_2_root_mean_squared_error: 0.6184 - val_loss: 0.4165 - val_output_1_loss: 0.4123 - val_output_2_loss: 0.4545 - val_output_1_root_mean_squared_error: 0.6421 - val_output_2_root_mean_squared_error: 0.6742\n",
      "Epoch 2/100\n",
      "363/363 [==============================] - 1s 1ms/step - loss: 0.3332 - output_1_loss: 0.3275 - output_2_loss: 0.3840 - output_1_root_mean_squared_error: 0.5723 - output_2_root_mean_squared_error: 0.6197 - val_loss: 0.7551 - val_output_1_loss: 0.7507 - val_output_2_loss: 0.7949 - val_output_1_root_mean_squared_error: 0.8664 - val_output_2_root_mean_squared_error: 0.8915\n",
      "Epoch 3/100\n",
      "363/363 [==============================] - 1s 1ms/step - loss: 0.3296 - output_1_loss: 0.3239 - output_2_loss: 0.3805 - output_1_root_mean_squared_error: 0.5691 - output_2_root_mean_squared_error: 0.6168 - val_loss: 0.3905 - val_output_1_loss: 0.3910 - val_output_2_loss: 0.3864 - val_output_1_root_mean_squared_error: 0.6253 - val_output_2_root_mean_squared_error: 0.6216\n",
      "Epoch 4/100\n",
      "363/363 [==============================] - 1s 1ms/step - loss: 0.3268 - output_1_loss: 0.3207 - output_2_loss: 0.3811 - output_1_root_mean_squared_error: 0.5663 - output_2_root_mean_squared_error: 0.6173 - val_loss: 0.7864 - val_output_1_loss: 0.7474 - val_output_2_loss: 1.1368 - val_output_1_root_mean_squared_error: 0.8645 - val_output_2_root_mean_squared_error: 1.0662\n",
      "Epoch 5/100\n",
      "363/363 [==============================] - 1s 2ms/step - loss: 0.3310 - output_1_loss: 0.3253 - output_2_loss: 0.3824 - output_1_root_mean_squared_error: 0.5704 - output_2_root_mean_squared_error: 0.6184 - val_loss: 1.0422 - val_output_1_loss: 1.0646 - val_output_2_loss: 0.8407 - val_output_1_root_mean_squared_error: 1.0318 - val_output_2_root_mean_squared_error: 0.9169\n",
      "Epoch 6/100\n",
      "363/363 [==============================] - 1s 2ms/step - loss: 0.3296 - output_1_loss: 0.3237 - output_2_loss: 0.3828 - output_1_root_mean_squared_error: 0.5689 - output_2_root_mean_squared_error: 0.6187 - val_loss: 0.5015 - val_output_1_loss: 0.4905 - val_output_2_loss: 0.6011 - val_output_1_root_mean_squared_error: 0.7003 - val_output_2_root_mean_squared_error: 0.7753\n",
      "Epoch 7/100\n",
      "363/363 [==============================] - 1s 2ms/step - loss: 0.3236 - output_1_loss: 0.3178 - output_2_loss: 0.3758 - output_1_root_mean_squared_error: 0.5637 - output_2_root_mean_squared_error: 0.6131 - val_loss: 0.3283 - val_output_1_loss: 0.3242 - val_output_2_loss: 0.3657 - val_output_1_root_mean_squared_error: 0.5694 - val_output_2_root_mean_squared_error: 0.6047\n",
      "Epoch 8/100\n",
      "363/363 [==============================] - 1s 2ms/step - loss: 0.3207 - output_1_loss: 0.3149 - output_2_loss: 0.3737 - output_1_root_mean_squared_error: 0.5611 - output_2_root_mean_squared_error: 0.6113 - val_loss: 0.3634 - val_output_1_loss: 0.3445 - val_output_2_loss: 0.5340 - val_output_1_root_mean_squared_error: 0.5869 - val_output_2_root_mean_squared_error: 0.7308\n",
      "Epoch 9/100\n",
      "363/363 [==============================] - 1s 2ms/step - loss: 0.3192 - output_1_loss: 0.3133 - output_2_loss: 0.3720 - output_1_root_mean_squared_error: 0.5598 - output_2_root_mean_squared_error: 0.6099 - val_loss: 0.3309 - val_output_1_loss: 0.3228 - val_output_2_loss: 0.4033 - val_output_1_root_mean_squared_error: 0.5682 - val_output_2_root_mean_squared_error: 0.6351\n",
      "Epoch 10/100\n",
      "363/363 [==============================] - 1s 2ms/step - loss: 0.3237 - output_1_loss: 0.3183 - output_2_loss: 0.3723 - output_1_root_mean_squared_error: 0.5642 - output_2_root_mean_squared_error: 0.6101 - val_loss: 0.3766 - val_output_1_loss: 0.3560 - val_output_2_loss: 0.5612 - val_output_1_root_mean_squared_error: 0.5967 - val_output_2_root_mean_squared_error: 0.7491\n",
      "Epoch 11/100\n",
      "363/363 [==============================] - 1s 2ms/step - loss: 0.3188 - output_1_loss: 0.3131 - output_2_loss: 0.3704 - output_1_root_mean_squared_error: 0.5596 - output_2_root_mean_squared_error: 0.6086 - val_loss: 0.3088 - val_output_1_loss: 0.3014 - val_output_2_loss: 0.3753 - val_output_1_root_mean_squared_error: 0.5490 - val_output_2_root_mean_squared_error: 0.6126\n",
      "Epoch 12/100\n",
      "363/363 [==============================] - 1s 2ms/step - loss: 0.3216 - output_1_loss: 0.3160 - output_2_loss: 0.3712 - output_1_root_mean_squared_error: 0.5622 - output_2_root_mean_squared_error: 0.6093 - val_loss: 0.9289 - val_output_1_loss: 0.9010 - val_output_2_loss: 1.1797 - val_output_1_root_mean_squared_error: 0.9492 - val_output_2_root_mean_squared_error: 1.0862\n",
      "Epoch 13/100\n",
      "363/363 [==============================] - 1s 2ms/step - loss: 0.3219 - output_1_loss: 0.3162 - output_2_loss: 0.3731 - output_1_root_mean_squared_error: 0.5623 - output_2_root_mean_squared_error: 0.6108 - val_loss: 0.5677 - val_output_1_loss: 0.5798 - val_output_2_loss: 0.4583 - val_output_1_root_mean_squared_error: 0.7615 - val_output_2_root_mean_squared_error: 0.6770\n",
      "Epoch 14/100\n",
      "363/363 [==============================] - 1s 2ms/step - loss: 0.3209 - output_1_loss: 0.3150 - output_2_loss: 0.3739 - output_1_root_mean_squared_error: 0.5613 - output_2_root_mean_squared_error: 0.6114 - val_loss: 0.9210 - val_output_1_loss: 0.8920 - val_output_2_loss: 1.1822 - val_output_1_root_mean_squared_error: 0.9444 - val_output_2_root_mean_squared_error: 1.0873\n",
      "Epoch 15/100\n",
      "363/363 [==============================] - 1s 2ms/step - loss: 0.3212 - output_1_loss: 0.3157 - output_2_loss: 0.3705 - output_1_root_mean_squared_error: 0.5619 - output_2_root_mean_squared_error: 0.6087 - val_loss: 0.5229 - val_output_1_loss: 0.5263 - val_output_2_loss: 0.4920 - val_output_1_root_mean_squared_error: 0.7255 - val_output_2_root_mean_squared_error: 0.7014\n",
      "Epoch 16/100\n",
      "363/363 [==============================] - 1s 2ms/step - loss: 0.3181 - output_1_loss: 0.3126 - output_2_loss: 0.3670 - output_1_root_mean_squared_error: 0.5591 - output_2_root_mean_squared_error: 0.6058 - val_loss: 0.9448 - val_output_1_loss: 0.9317 - val_output_2_loss: 1.0629 - val_output_1_root_mean_squared_error: 0.9652 - val_output_2_root_mean_squared_error: 1.0310\n",
      "Epoch 17/100\n",
      "363/363 [==============================] - 1s 2ms/step - loss: 0.3212 - output_1_loss: 0.3157 - output_2_loss: 0.3712 - output_1_root_mean_squared_error: 0.5619 - output_2_root_mean_squared_error: 0.6092 - val_loss: 0.3390 - val_output_1_loss: 0.3369 - val_output_2_loss: 0.3582 - val_output_1_root_mean_squared_error: 0.5804 - val_output_2_root_mean_squared_error: 0.5985\n",
      "Epoch 18/100\n",
      "363/363 [==============================] - 1s 2ms/step - loss: 0.3150 - output_1_loss: 0.3096 - output_2_loss: 0.3629 - output_1_root_mean_squared_error: 0.5565 - output_2_root_mean_squared_error: 0.6024 - val_loss: 0.4668 - val_output_1_loss: 0.4553 - val_output_2_loss: 0.5704 - val_output_1_root_mean_squared_error: 0.6748 - val_output_2_root_mean_squared_error: 0.7552\n",
      "Epoch 19/100\n",
      "363/363 [==============================] - 1s 2ms/step - loss: 0.3137 - output_1_loss: 0.3081 - output_2_loss: 0.3636 - output_1_root_mean_squared_error: 0.5551 - output_2_root_mean_squared_error: 0.6030 - val_loss: 0.3104 - val_output_1_loss: 0.3054 - val_output_2_loss: 0.3553 - val_output_1_root_mean_squared_error: 0.5526 - val_output_2_root_mean_squared_error: 0.5960\n",
      "Epoch 20/100\n",
      "363/363 [==============================] - 1s 2ms/step - loss: 0.3145 - output_1_loss: 0.3092 - output_2_loss: 0.3622 - output_1_root_mean_squared_error: 0.5561 - output_2_root_mean_squared_error: 0.6018 - val_loss: 0.3669 - val_output_1_loss: 0.3608 - val_output_2_loss: 0.4215 - val_output_1_root_mean_squared_error: 0.6007 - val_output_2_root_mean_squared_error: 0.6492\n",
      "Epoch 21/100\n",
      "363/363 [==============================] - 1s 2ms/step - loss: 0.3143 - output_1_loss: 0.3091 - output_2_loss: 0.3611 - output_1_root_mean_squared_error: 0.5560 - output_2_root_mean_squared_error: 0.6009 - val_loss: 0.3047 - val_output_1_loss: 0.2978 - val_output_2_loss: 0.3670 - val_output_1_root_mean_squared_error: 0.5457 - val_output_2_root_mean_squared_error: 0.6058\n",
      "Epoch 22/100\n",
      "363/363 [==============================] - 1s 2ms/step - loss: 0.3112 - output_1_loss: 0.3056 - output_2_loss: 0.3610 - output_1_root_mean_squared_error: 0.5528 - output_2_root_mean_squared_error: 0.6008 - val_loss: 0.3186 - val_output_1_loss: 0.3110 - val_output_2_loss: 0.3877 - val_output_1_root_mean_squared_error: 0.5576 - val_output_2_root_mean_squared_error: 0.6226\n",
      "Epoch 23/100\n",
      "363/363 [==============================] - 1s 2ms/step - loss: 0.3100 - output_1_loss: 0.3047 - output_2_loss: 0.3580 - output_1_root_mean_squared_error: 0.5520 - output_2_root_mean_squared_error: 0.5983 - val_loss: 0.3140 - val_output_1_loss: 0.2974 - val_output_2_loss: 0.4632 - val_output_1_root_mean_squared_error: 0.5453 - val_output_2_root_mean_squared_error: 0.6806\n",
      "Epoch 24/100\n",
      "363/363 [==============================] - 1s 2ms/step - loss: 0.3130 - output_1_loss: 0.3078 - output_2_loss: 0.3597 - output_1_root_mean_squared_error: 0.5548 - output_2_root_mean_squared_error: 0.5997 - val_loss: 0.8777 - val_output_1_loss: 0.9147 - val_output_2_loss: 0.5453 - val_output_1_root_mean_squared_error: 0.9564 - val_output_2_root_mean_squared_error: 0.7385\n",
      "Epoch 25/100\n",
      "363/363 [==============================] - 1s 2ms/step - loss: 0.3136 - output_1_loss: 0.3087 - output_2_loss: 0.3578 - output_1_root_mean_squared_error: 0.5556 - output_2_root_mean_squared_error: 0.5982 - val_loss: 0.3292 - val_output_1_loss: 0.3254 - val_output_2_loss: 0.3638 - val_output_1_root_mean_squared_error: 0.5704 - val_output_2_root_mean_squared_error: 0.6031\n",
      "Epoch 26/100\n",
      "363/363 [==============================] - 1s 2ms/step - loss: 0.3105 - output_1_loss: 0.3053 - output_2_loss: 0.3573 - output_1_root_mean_squared_error: 0.5525 - output_2_root_mean_squared_error: 0.5977 - val_loss: 0.8744 - val_output_1_loss: 0.8488 - val_output_2_loss: 1.1043 - val_output_1_root_mean_squared_error: 0.9213 - val_output_2_root_mean_squared_error: 1.0509\n",
      "Epoch 27/100\n",
      "363/363 [==============================] - 1s 2ms/step - loss: 0.3125 - output_1_loss: 0.3071 - output_2_loss: 0.3609 - output_1_root_mean_squared_error: 0.5542 - output_2_root_mean_squared_error: 0.6007 - val_loss: 0.4057 - val_output_1_loss: 0.4033 - val_output_2_loss: 0.4266 - val_output_1_root_mean_squared_error: 0.6351 - val_output_2_root_mean_squared_error: 0.6531\n",
      "Epoch 28/100\n",
      "363/363 [==============================] - 1s 2ms/step - loss: 0.3119 - output_1_loss: 0.3068 - output_2_loss: 0.3586 - output_1_root_mean_squared_error: 0.5539 - output_2_root_mean_squared_error: 0.5988 - val_loss: 0.4328 - val_output_1_loss: 0.4297 - val_output_2_loss: 0.4610 - val_output_1_root_mean_squared_error: 0.6555 - val_output_2_root_mean_squared_error: 0.6789\n",
      "Epoch 29/100\n",
      "363/363 [==============================] - 1s 2ms/step - loss: 0.3101 - output_1_loss: 0.3044 - output_2_loss: 0.3615 - output_1_root_mean_squared_error: 0.5517 - output_2_root_mean_squared_error: 0.6013 - val_loss: 0.2969 - val_output_1_loss: 0.2906 - val_output_2_loss: 0.3537 - val_output_1_root_mean_squared_error: 0.5390 - val_output_2_root_mean_squared_error: 0.5947\n",
      "Epoch 30/100\n",
      "363/363 [==============================] - 1s 2ms/step - loss: 0.3099 - output_1_loss: 0.3049 - output_2_loss: 0.3555 - output_1_root_mean_squared_error: 0.5522 - output_2_root_mean_squared_error: 0.5963 - val_loss: 0.3282 - val_output_1_loss: 0.3221 - val_output_2_loss: 0.3832 - val_output_1_root_mean_squared_error: 0.5675 - val_output_2_root_mean_squared_error: 0.6190\n",
      "Epoch 31/100\n",
      "363/363 [==============================] - 1s 2ms/step - loss: 0.3106 - output_1_loss: 0.3053 - output_2_loss: 0.3576 - output_1_root_mean_squared_error: 0.5526 - output_2_root_mean_squared_error: 0.5980 - val_loss: 0.2969 - val_output_1_loss: 0.2903 - val_output_2_loss: 0.3561 - val_output_1_root_mean_squared_error: 0.5388 - val_output_2_root_mean_squared_error: 0.5967\n",
      "Epoch 32/100\n",
      "363/363 [==============================] - 1s 2ms/step - loss: 0.3071 - output_1_loss: 0.3021 - output_2_loss: 0.3528 - output_1_root_mean_squared_error: 0.5496 - output_2_root_mean_squared_error: 0.5939 - val_loss: 0.3426 - val_output_1_loss: 0.3359 - val_output_2_loss: 0.4026 - val_output_1_root_mean_squared_error: 0.5796 - val_output_2_root_mean_squared_error: 0.6345\n",
      "Epoch 33/100\n",
      "363/363 [==============================] - 1s 2ms/step - loss: 0.3057 - output_1_loss: 0.3004 - output_2_loss: 0.3537 - output_1_root_mean_squared_error: 0.5481 - output_2_root_mean_squared_error: 0.5947 - val_loss: 0.3276 - val_output_1_loss: 0.3224 - val_output_2_loss: 0.3748 - val_output_1_root_mean_squared_error: 0.5678 - val_output_2_root_mean_squared_error: 0.6122\n",
      "Epoch 34/100\n",
      "363/363 [==============================] - 1s 2ms/step - loss: 0.3062 - output_1_loss: 0.3011 - output_2_loss: 0.3520 - output_1_root_mean_squared_error: 0.5488 - output_2_root_mean_squared_error: 0.5933 - val_loss: 0.4125 - val_output_1_loss: 0.4105 - val_output_2_loss: 0.4309 - val_output_1_root_mean_squared_error: 0.6407 - val_output_2_root_mean_squared_error: 0.6564\n",
      "Epoch 35/100\n",
      "363/363 [==============================] - 1s 2ms/step - loss: 0.3088 - output_1_loss: 0.3038 - output_2_loss: 0.3537 - output_1_root_mean_squared_error: 0.5512 - output_2_root_mean_squared_error: 0.5947 - val_loss: 0.3176 - val_output_1_loss: 0.3106 - val_output_2_loss: 0.3810 - val_output_1_root_mean_squared_error: 0.5573 - val_output_2_root_mean_squared_error: 0.6172\n",
      "Epoch 36/100\n",
      "363/363 [==============================] - 1s 2ms/step - loss: 0.3081 - output_1_loss: 0.3026 - output_2_loss: 0.3579 - output_1_root_mean_squared_error: 0.5501 - output_2_root_mean_squared_error: 0.5982 - val_loss: 0.3762 - val_output_1_loss: 0.3701 - val_output_2_loss: 0.4312 - val_output_1_root_mean_squared_error: 0.6084 - val_output_2_root_mean_squared_error: 0.6567\n",
      "Epoch 37/100\n",
      "363/363 [==============================] - 1s 2ms/step - loss: 0.3053 - output_1_loss: 0.3001 - output_2_loss: 0.3525 - output_1_root_mean_squared_error: 0.5478 - output_2_root_mean_squared_error: 0.5937 - val_loss: 0.3207 - val_output_1_loss: 0.3130 - val_output_2_loss: 0.3898 - val_output_1_root_mean_squared_error: 0.5595 - val_output_2_root_mean_squared_error: 0.6243\n",
      "Epoch 38/100\n",
      "363/363 [==============================] - 1s 2ms/step - loss: 0.3048 - output_1_loss: 0.2996 - output_2_loss: 0.3517 - output_1_root_mean_squared_error: 0.5474 - output_2_root_mean_squared_error: 0.5931 - val_loss: 0.4414 - val_output_1_loss: 0.4359 - val_output_2_loss: 0.4909 - val_output_1_root_mean_squared_error: 0.6602 - val_output_2_root_mean_squared_error: 0.7007\n",
      "Epoch 39/100\n",
      "363/363 [==============================] - 1s 2ms/step - loss: 0.3072 - output_1_loss: 0.3020 - output_2_loss: 0.3543 - output_1_root_mean_squared_error: 0.5495 - output_2_root_mean_squared_error: 0.5952 - val_loss: 1.1565 - val_output_1_loss: 1.1241 - val_output_2_loss: 1.4478 - val_output_1_root_mean_squared_error: 1.0602 - val_output_2_root_mean_squared_error: 1.2033\n",
      "Epoch 40/100\n",
      "363/363 [==============================] - 1s 2ms/step - loss: 0.3088 - output_1_loss: 0.3034 - output_2_loss: 0.3576 - output_1_root_mean_squared_error: 0.5508 - output_2_root_mean_squared_error: 0.5980 - val_loss: 0.4357 - val_output_1_loss: 0.4370 - val_output_2_loss: 0.4234 - val_output_1_root_mean_squared_error: 0.6611 - val_output_2_root_mean_squared_error: 0.6507\n",
      "Epoch 41/100\n",
      "363/363 [==============================] - 1s 2ms/step - loss: 0.3075 - output_1_loss: 0.3026 - output_2_loss: 0.3516 - output_1_root_mean_squared_error: 0.5501 - output_2_root_mean_squared_error: 0.5930 - val_loss: 0.3809 - val_output_1_loss: 0.3801 - val_output_2_loss: 0.3881 - val_output_1_root_mean_squared_error: 0.6165 - val_output_2_root_mean_squared_error: 0.6229\n"
     ]
    }
   ],
   "source": [
    "checkpoint_cb = tf.keras.callbacks.ModelCheckpoint(\n",
    "    \"my_checkpoints\",\n",
    "    save_weights_only=True\n",
    ")\n",
    "early_stopping_cb = tf.keras.callbacks.EarlyStopping(\n",
    "    patience=10,\n",
    "    restore_best_weights=True\n",
    ")\n",
    "\n",
    "history = model.fit(\n",
    "    (X_train_wide, X_train_deep), (y_train, y_train), \n",
    "    epochs=100,\n",
    "    validation_data=((X_valid_wide, X_valid_deep), (y_valid, y_valid)),\n",
    "    callbacks=[checkpoint_cb, early_stopping_cb]\n",
    ")"
   ]
  },
  {
   "cell_type": "code",
   "execution_count": 71,
   "id": "5f7b7162-bfb4-4a37-8791-b011e2422e88",
   "metadata": {},
   "outputs": [
    {
     "data": {
      "text/plain": [
       "<AxesSubplot: >"
      ]
     },
     "execution_count": 71,
     "metadata": {},
     "output_type": "execute_result"
    },
    {
     "data": {
      "image/png": "[encoded data removed]",
      "text/plain": [
       "<Figure size 640x480 with 1 Axes>"
      ]
     },
     "metadata": {},
     "output_type": "display_data"
    }
   ],
   "source": [
    "sns.lineplot(history.history[\"loss\"])\n",
    "sns.lineplot(history.history[\"val_loss\"])\n",
    "sns.lineplot(history.history[\"val_output_1_loss\"])\n",
    "sns.lineplot(history.history[\"val_output_2_loss\"])"
   ]
  },
  {
   "cell_type": "code",
   "execution_count": 76,
   "id": "bcab80f9-7f7f-44fa-a70f-b712c48e5a27",
   "metadata": {},
   "outputs": [],
   "source": [
    "class PrintValTrainRatioCallback(tf.keras.callbacks.Callback):\n",
    "    def on_epoch_end(self, epoch, logs):\n",
    "        ratio = logs[\"val_loss\"] / logs[\"loss\"]\n",
    "        print(f\"\\n*** Epoch={epoch}, val/train={ratio:.2f} \\n\")"
   ]
  },
  {
   "cell_type": "code",
   "execution_count": 77,
   "id": "c3003ff6-eb0a-41d9-9a4e-17c09da3afb7",
   "metadata": {},
   "outputs": [
    {
     "name": "stdout",
     "output_type": "stream",
     "text": [
      "Epoch 1/10\n",
      "327/363 [==========================>...] - ETA: 0s - loss: 0.2710 - output_1_loss: 0.2666 - output_2_loss: 0.3102 - output_1_root_mean_squared_error: 0.5164 - output_2_root_mean_squared_error: 0.5570\n",
      "*** Epoch=0, val/train=1.11 \n",
      "\n",
      "363/363 [==============================] - 1s 2ms/step - loss: 0.2712 - output_1_loss: 0.2669 - output_2_loss: 0.3105 - output_1_root_mean_squared_error: 0.5166 - output_2_root_mean_squared_error: 0.5572 - val_loss: 0.2999 - val_output_1_loss: 0.2975 - val_output_2_loss: 0.3220 - val_output_1_root_mean_squared_error: 0.5454 - val_output_2_root_mean_squared_error: 0.5674\n",
      "Epoch 2/10\n",
      "322/363 [=========================>....] - ETA: 0s - loss: 0.2730 - output_1_loss: 0.2692 - output_2_loss: 0.3070 - output_1_root_mean_squared_error: 0.5188 - output_2_root_mean_squared_error: 0.5541\n",
      "*** Epoch=1, val/train=1.25 \n",
      "\n",
      "363/363 [==============================] - 1s 1ms/step - loss: 0.2740 - output_1_loss: 0.2701 - output_2_loss: 0.3089 - output_1_root_mean_squared_error: 0.5197 - output_2_root_mean_squared_error: 0.5558 - val_loss: 0.3430 - val_output_1_loss: 0.3343 - val_output_2_loss: 0.4214 - val_output_1_root_mean_squared_error: 0.5782 - val_output_2_root_mean_squared_error: 0.6492\n",
      "Epoch 3/10\n",
      "323/363 [=========================>....] - ETA: 0s - loss: 0.2725 - output_1_loss: 0.2683 - output_2_loss: 0.3103 - output_1_root_mean_squared_error: 0.5180 - output_2_root_mean_squared_error: 0.5571\n",
      "*** Epoch=2, val/train=1.04 \n",
      "\n",
      "363/363 [==============================] - 1s 1ms/step - loss: 0.2690 - output_1_loss: 0.2648 - output_2_loss: 0.3064 - output_1_root_mean_squared_error: 0.5146 - output_2_root_mean_squared_error: 0.5536 - val_loss: 0.2789 - val_output_1_loss: 0.2728 - val_output_2_loss: 0.3337 - val_output_1_root_mean_squared_error: 0.5223 - val_output_2_root_mean_squared_error: 0.5776\n",
      "Epoch 4/10\n",
      "358/363 [============================>.] - ETA: 0s - loss: 0.2700 - output_1_loss: 0.2658 - output_2_loss: 0.3077 - output_1_root_mean_squared_error: 0.5155 - output_2_root_mean_squared_error: 0.5547\n",
      "*** Epoch=3, val/train=1.02 \n",
      "\n",
      "363/363 [==============================] - 1s 1ms/step - loss: 0.2708 - output_1_loss: 0.2666 - output_2_loss: 0.3082 - output_1_root_mean_squared_error: 0.5164 - output_2_root_mean_squared_error: 0.5551 - val_loss: 0.2751 - val_output_1_loss: 0.2694 - val_output_2_loss: 0.3256 - val_output_1_root_mean_squared_error: 0.5191 - val_output_2_root_mean_squared_error: 0.5706\n",
      "Epoch 5/10\n",
      "349/363 [===========================>..] - ETA: 0s - loss: 0.2708 - output_1_loss: 0.2667 - output_2_loss: 0.3079 - output_1_root_mean_squared_error: 0.5164 - output_2_root_mean_squared_error: 0.5549\n",
      "*** Epoch=4, val/train=1.03 \n",
      "\n",
      "363/363 [==============================] - 1s 1ms/step - loss: 0.2719 - output_1_loss: 0.2679 - output_2_loss: 0.3080 - output_1_root_mean_squared_error: 0.5176 - output_2_root_mean_squared_error: 0.5550 - val_loss: 0.2812 - val_output_1_loss: 0.2767 - val_output_2_loss: 0.3212 - val_output_1_root_mean_squared_error: 0.5261 - val_output_2_root_mean_squared_error: 0.5668\n",
      "Epoch 6/10\n",
      "349/363 [===========================>..] - ETA: 0s - loss: 0.2678 - output_1_loss: 0.2635 - output_2_loss: 0.3067 - output_1_root_mean_squared_error: 0.5133 - output_2_root_mean_squared_error: 0.5538\n",
      "*** Epoch=5, val/train=1.14 \n",
      "\n",
      "363/363 [==============================] - 1s 2ms/step - loss: 0.2677 - output_1_loss: 0.2635 - output_2_loss: 0.3061 - output_1_root_mean_squared_error: 0.5133 - output_2_root_mean_squared_error: 0.5533 - val_loss: 0.3060 - val_output_1_loss: 0.2954 - val_output_2_loss: 0.4008 - val_output_1_root_mean_squared_error: 0.5435 - val_output_2_root_mean_squared_error: 0.6331\n",
      "Epoch 7/10\n",
      "341/363 [===========================>..] - ETA: 0s - loss: 0.2684 - output_1_loss: 0.2643 - output_2_loss: 0.3051 - output_1_root_mean_squared_error: 0.5141 - output_2_root_mean_squared_error: 0.5523\n",
      "*** Epoch=6, val/train=1.36 \n",
      "\n",
      "363/363 [==============================] - 1s 2ms/step - loss: 0.2697 - output_1_loss: 0.2657 - output_2_loss: 0.3063 - output_1_root_mean_squared_error: 0.5154 - output_2_root_mean_squared_error: 0.5534 - val_loss: 0.3676 - val_output_1_loss: 0.3673 - val_output_2_loss: 0.3708 - val_output_1_root_mean_squared_error: 0.6060 - val_output_2_root_mean_squared_error: 0.6089\n",
      "Epoch 8/10\n",
      "357/363 [============================>.] - ETA: 0s - loss: 0.2689 - output_1_loss: 0.2646 - output_2_loss: 0.3070 - output_1_root_mean_squared_error: 0.5144 - output_2_root_mean_squared_error: 0.5541\n",
      "*** Epoch=7, val/train=1.37 \n",
      "\n",
      "363/363 [==============================] - 1s 1ms/step - loss: 0.2686 - output_1_loss: 0.2644 - output_2_loss: 0.3059 - output_1_root_mean_squared_error: 0.5142 - output_2_root_mean_squared_error: 0.5531 - val_loss: 0.3680 - val_output_1_loss: 0.3644 - val_output_2_loss: 0.4007 - val_output_1_root_mean_squared_error: 0.6037 - val_output_2_root_mean_squared_error: 0.6330\n",
      "Epoch 9/10\n",
      "327/363 [==========================>...] - ETA: 0s - loss: 0.2698 - output_1_loss: 0.2658 - output_2_loss: 0.3054 - output_1_root_mean_squared_error: 0.5156 - output_2_root_mean_squared_error: 0.5526\n",
      "*** Epoch=8, val/train=1.17 \n",
      "\n",
      "363/363 [==============================] - 1s 1ms/step - loss: 0.2687 - output_1_loss: 0.2646 - output_2_loss: 0.3057 - output_1_root_mean_squared_error: 0.5144 - output_2_root_mean_squared_error: 0.5529 - val_loss: 0.3146 - val_output_1_loss: 0.3128 - val_output_2_loss: 0.3313 - val_output_1_root_mean_squared_error: 0.5592 - val_output_2_root_mean_squared_error: 0.5756\n",
      "Epoch 10/10\n",
      "362/363 [============================>.] - ETA: 0s - loss: 0.2721 - output_1_loss: 0.2681 - output_2_loss: 0.3086 - output_1_root_mean_squared_error: 0.5178 - output_2_root_mean_squared_error: 0.5555\n",
      "*** Epoch=9, val/train=1.11 \n",
      "\n",
      "363/363 [==============================] - 1s 1ms/step - loss: 0.2722 - output_1_loss: 0.2681 - output_2_loss: 0.3087 - output_1_root_mean_squared_error: 0.5178 - output_2_root_mean_squared_error: 0.5556 - val_loss: 0.3032 - val_output_1_loss: 0.2966 - val_output_2_loss: 0.3630 - val_output_1_root_mean_squared_error: 0.5446 - val_output_2_root_mean_squared_error: 0.6025\n"
     ]
    }
   ],
   "source": [
    "val_train_ratio_cb = PrintValTrainRatioCallback()\n",
    "history = model.fit(\n",
    "    (X_train_wide, X_train_deep), (y_train, y_train), \n",
    "    epochs=10,\n",
    "    validation_data=((X_valid_wide, X_valid_deep), (y_valid, y_valid)),\n",
    "    callbacks=[val_train_ratio_cb]\n",
    ")"
   ]
  },
  {
   "cell_type": "markdown",
   "id": "138a14ed-b065-477b-957d-99a273cf3ab4",
   "metadata": {},
   "source": [
    "### Using TensorBoard for Visualization"
   ]
  },
  {
   "cell_type": "code",
   "execution_count": null,
   "id": "2d34d372-8a80-41fe-b4ce-931ac320c625",
   "metadata": {},
   "outputs": [],
   "source": []
  }
 ],
 "metadata": {
  "kernelspec": {
   "display_name": "Python 3 (ipykernel)",
   "language": "python",
   "name": "python3"
  },
  "language_info": {
   "codemirror_mode": {
    "name": "ipython",
    "version": 3
   },
   "file_extension": ".py",
   "mimetype": "text/x-python",
   "name": "python",
   "nbconvert_exporter": "python",
   "pygments_lexer": "ipython3",
   "version": "3.9.6"
  }
 },
 "nbformat": 4,
 "nbformat_minor": 5
}
